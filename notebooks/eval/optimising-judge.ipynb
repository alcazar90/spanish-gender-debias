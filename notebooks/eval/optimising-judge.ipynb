{
 "cells": [
  {
   "cell_type": "markdown",
   "metadata": {},
   "source": [
    "# Tuning LLM-judge"
   ]
  },
  {
   "cell_type": "code",
   "execution_count": 1,
   "metadata": {},
   "outputs": [
    {
     "name": "stdout",
     "output_type": "stream",
     "text": [
      "Length of train set:  14400\n",
      "Length of eval set:  1600\n"
     ]
    },
    {
     "data": {
      "text/html": [
       "<div>\n",
       "<style scoped>\n",
       "    .dataframe tbody tr th:only-of-type {\n",
       "        vertical-align: middle;\n",
       "    }\n",
       "\n",
       "    .dataframe tbody tr th {\n",
       "        vertical-align: top;\n",
       "    }\n",
       "\n",
       "    .dataframe thead th {\n",
       "        text-align: right;\n",
       "    }\n",
       "</style>\n",
       "<table border=\"1\" class=\"dataframe\">\n",
       "  <thead>\n",
       "    <tr style=\"text-align: right;\">\n",
       "      <th></th>\n",
       "      <th>index</th>\n",
       "      <th>titulo</th>\n",
       "      <th>url</th>\n",
       "      <th>mensaje</th>\n",
       "      <th>fecha</th>\n",
       "      <th>frases</th>\n",
       "      <th>sesgo_pronombre</th>\n",
       "      <th>sesgo_otro</th>\n",
       "      <th>version_con_sesgo</th>\n",
       "      <th>version_sin_sesgo</th>\n",
       "      <th>potencialmente_sesgable_otro_sesgo</th>\n",
       "      <th>revisado</th>\n",
       "      <th>description_bias_removal</th>\n",
       "      <th>biased_words</th>\n",
       "      <th>unbiased_words</th>\n",
       "    </tr>\n",
       "  </thead>\n",
       "  <tbody>\n",
       "    <tr>\n",
       "      <th>0</th>\n",
       "      <td>14186</td>\n",
       "      <td>Atención Secretaría de Estudios jueves 4 de oc...</td>\n",
       "      <td>detalle?id=22733</td>\n",
       "      <td>Se informa a la comunidad estudiantil que el d...</td>\n",
       "      <td>2018-10-03 10:09:03</td>\n",
       "      <td>Se informa a la comunidad estudiantil que el d...</td>\n",
       "      <td>NO</td>\n",
       "      <td>SI</td>\n",
       "      <td>Se informa a todos los estudiantes  que el día...</td>\n",
       "      <td>Se informa a la comunidad estudiantil que el d...</td>\n",
       "      <td>SI</td>\n",
       "      <td>SI</td>\n",
       "      <td>Se reemplazó \"estudiantes\" por \"comunidad estu...</td>\n",
       "      <td>estudiantes</td>\n",
       "      <td>comunidad estudiantil, Alumn@s</td>\n",
       "    </tr>\n",
       "    <tr>\n",
       "      <th>1</th>\n",
       "      <td>2906</td>\n",
       "      <td>Comunicado FCFM: Extensión vacaciones invierno...</td>\n",
       "      <td>detalle?id=55461</td>\n",
       "      <td>Viernes 17 de junio de 2022 \\nEstimada comunid...</td>\n",
       "      <td>2022-06-17 11:22:17</td>\n",
       "      <td>Ésta permite el teletrabajo para funcionarias/...</td>\n",
       "      <td>NO</td>\n",
       "      <td>NO</td>\n",
       "      <td>Ésta permite el teletrabajo para funcionarios ...</td>\n",
       "      <td>Ésta permite el teletrabajo para funcionarias/...</td>\n",
       "      <td>SI</td>\n",
       "      <td>SI</td>\n",
       "      <td>Se incluyó la perspectiva femenina en \"funcion...</td>\n",
       "      <td>funcionarios, hijos</td>\n",
       "      <td>funcionarias/os, hijas/os</td>\n",
       "    </tr>\n",
       "    <tr>\n",
       "      <th>2</th>\n",
       "      <td>13936</td>\n",
       "      <td>Mañana en la FCFM - lunes 5 de noviembre</td>\n",
       "      <td>detalle?id=23285</td>\n",
       "      <td>WORKSHOP: \\n\\n\"Workshop en Macroeconomía\". \\n\\...</td>\n",
       "      <td>2018-10-31 17:07:31</td>\n",
       "      <td>Hora: 16:30 hrs Lugar: Auditorio DIE.</td>\n",
       "      <td>NaN</td>\n",
       "      <td>NaN</td>\n",
       "      <td>NaN</td>\n",
       "      <td>NaN</td>\n",
       "      <td>NaN</td>\n",
       "      <td>SI</td>\n",
       "      <td>NaN</td>\n",
       "      <td>NaN</td>\n",
       "      <td>NaN</td>\n",
       "    </tr>\n",
       "    <tr>\n",
       "      <th>3</th>\n",
       "      <td>14121</td>\n",
       "      <td>MAÑANA EN LA FCFM- Miércoles 10 de octubre de ...</td>\n",
       "      <td>detalle?id=22855</td>\n",
       "      <td>CHARLAS: \\n_x000D_\\n\"Dinámica controlada por l...</td>\n",
       "      <td>2018-10-09 17:19:09</td>\n",
       "      <td>Lugar: Patio central, Beauchef 851.</td>\n",
       "      <td>NaN</td>\n",
       "      <td>NaN</td>\n",
       "      <td>NaN</td>\n",
       "      <td>NaN</td>\n",
       "      <td>NO</td>\n",
       "      <td>SI</td>\n",
       "      <td>NaN</td>\n",
       "      <td>NaN</td>\n",
       "      <td>NaN</td>\n",
       "    </tr>\n",
       "    <tr>\n",
       "      <th>4</th>\n",
       "      <td>23320</td>\n",
       "      <td>Cierre SEMDA, viernes 18 de enero</td>\n",
       "      <td>detalle?id=5512</td>\n",
       "      <td>Se comunica que el SEMDA Central y los consult...</td>\n",
       "      <td>2013-01-16 16:11:16</td>\n",
       "      <td>En caso de presentar alguna patología de urgen...</td>\n",
       "      <td>NaN</td>\n",
       "      <td>NaN</td>\n",
       "      <td>NaN</td>\n",
       "      <td>NaN</td>\n",
       "      <td>NO</td>\n",
       "      <td>SI</td>\n",
       "      <td>NaN</td>\n",
       "      <td>NaN</td>\n",
       "      <td>NaN</td>\n",
       "    </tr>\n",
       "  </tbody>\n",
       "</table>\n",
       "</div>"
      ],
      "text/plain": [
       "   index                                             titulo               url  \\\n",
       "0  14186  Atención Secretaría de Estudios jueves 4 de oc...  detalle?id=22733   \n",
       "1   2906  Comunicado FCFM: Extensión vacaciones invierno...  detalle?id=55461   \n",
       "2  13936           Mañana en la FCFM - lunes 5 de noviembre  detalle?id=23285   \n",
       "3  14121  MAÑANA EN LA FCFM- Miércoles 10 de octubre de ...  detalle?id=22855   \n",
       "4  23320                  Cierre SEMDA, viernes 18 de enero   detalle?id=5512   \n",
       "\n",
       "                                             mensaje               fecha  \\\n",
       "0  Se informa a la comunidad estudiantil que el d... 2018-10-03 10:09:03   \n",
       "1  Viernes 17 de junio de 2022 \\nEstimada comunid... 2022-06-17 11:22:17   \n",
       "2  WORKSHOP: \\n\\n\"Workshop en Macroeconomía\". \\n\\... 2018-10-31 17:07:31   \n",
       "3  CHARLAS: \\n_x000D_\\n\"Dinámica controlada por l... 2018-10-09 17:19:09   \n",
       "4  Se comunica que el SEMDA Central y los consult... 2013-01-16 16:11:16   \n",
       "\n",
       "                                              frases sesgo_pronombre  \\\n",
       "0  Se informa a la comunidad estudiantil que el d...              NO   \n",
       "1  Ésta permite el teletrabajo para funcionarias/...              NO   \n",
       "2              Hora: 16:30 hrs Lugar: Auditorio DIE.             NaN   \n",
       "3                Lugar: Patio central, Beauchef 851.             NaN   \n",
       "4  En caso de presentar alguna patología de urgen...             NaN   \n",
       "\n",
       "  sesgo_otro                                  version_con_sesgo  \\\n",
       "0         SI  Se informa a todos los estudiantes  que el día...   \n",
       "1         NO  Ésta permite el teletrabajo para funcionarios ...   \n",
       "2        NaN                                                NaN   \n",
       "3        NaN                                                NaN   \n",
       "4        NaN                                                NaN   \n",
       "\n",
       "                                   version_sin_sesgo  \\\n",
       "0  Se informa a la comunidad estudiantil que el d...   \n",
       "1  Ésta permite el teletrabajo para funcionarias/...   \n",
       "2                                                NaN   \n",
       "3                                                NaN   \n",
       "4                                                NaN   \n",
       "\n",
       "  potencialmente_sesgable_otro_sesgo revisado  \\\n",
       "0                                 SI       SI   \n",
       "1                                 SI       SI   \n",
       "2                                NaN       SI   \n",
       "3                                 NO       SI   \n",
       "4                                 NO       SI   \n",
       "\n",
       "                            description_bias_removal         biased_words  \\\n",
       "0  Se reemplazó \"estudiantes\" por \"comunidad estu...          estudiantes   \n",
       "1  Se incluyó la perspectiva femenina en \"funcion...  funcionarios, hijos   \n",
       "2                                                NaN                  NaN   \n",
       "3                                                NaN                  NaN   \n",
       "4                                                NaN                  NaN   \n",
       "\n",
       "                   unbiased_words  \n",
       "0  comunidad estudiantil, Alumn@s  \n",
       "1       funcionarias/os, hijas/os  \n",
       "2                             NaN  \n",
       "3                             NaN  \n",
       "4                             NaN  "
      ]
     },
     "execution_count": 1,
     "metadata": {},
     "output_type": "execute_result"
    }
   ],
   "source": [
    "# Loading train eval sets\n",
    "import pandas as pd\n",
    "\n",
    "df_train = pd.read_excel(\"../../data/train_val_splits/train_data.xlsx\")\n",
    "df_eval = pd.read_excel(\"../../data/train_val_splits/val_data.xlsx\")\n",
    "print(\"Length of train set: \",len(df_train))\n",
    "print(\"Length of eval set: \",len(df_eval))\n",
    "df_eval.head()"
   ]
  },
  {
   "cell_type": "code",
   "execution_count": 2,
   "metadata": {},
   "outputs": [
    {
     "name": "stdout",
     "output_type": "stream",
     "text": [
      "Rows with unbiased text train:  4140  (28.75%)\n",
      "Rows with unbiased text eval:  443  (27.6875%)\n"
     ]
    }
   ],
   "source": [
    "len_notna_train = len(df_train['version_sin_sesgo'].dropna())\n",
    "print('Rows with unbiased text train: ',len_notna_train,f' ({100*len_notna_train/len(df_train)}%)')\n",
    "len_notna_eval = len(df_eval['version_sin_sesgo'].dropna())\n",
    "print('Rows with unbiased text eval: ',len_notna_eval,f' ({100*len_notna_eval/len(df_eval)}%)')"
   ]
  },
  {
   "cell_type": "code",
   "execution_count": 3,
   "metadata": {},
   "outputs": [
    {
     "name": "stdout",
     "output_type": "stream",
     "text": [
      "Rows with biased text train:  4140  (28.75%)\n",
      "Rows with biased text eval:  443  (27.6875%)\n"
     ]
    }
   ],
   "source": [
    "len_notna_train = len(df_train['version_con_sesgo'].dropna())\n",
    "print('Rows with biased text train: ',len_notna_train,f' ({100*len_notna_train/len(df_train)}%)')\n",
    "len_notna_eval = len(df_eval['version_con_sesgo'].dropna())\n",
    "print('Rows with biased text eval: ',len_notna_eval,f' ({100*len_notna_eval/len(df_eval)}%)')"
   ]
  },
  {
   "cell_type": "code",
   "execution_count": 4,
   "metadata": {},
   "outputs": [
    {
     "data": {
      "text/plain": [
       "array(['NO', nan, 'SI', 'No', 'Si'], dtype=object)"
      ]
     },
     "execution_count": 4,
     "metadata": {},
     "output_type": "execute_result"
    }
   ],
   "source": [
    "df_eval['sesgo_pronombre'].unique()"
   ]
  },
  {
   "cell_type": "code",
   "execution_count": 5,
   "metadata": {},
   "outputs": [
    {
     "data": {
      "text/plain": [
       "sesgo_pronombre\n",
       "NO    283\n",
       "SI    160\n",
       "Name: count, dtype: int64"
      ]
     },
     "execution_count": 5,
     "metadata": {},
     "output_type": "execute_result"
    }
   ],
   "source": [
    "df_eval[\"sesgo_pronombre\"] = df_eval[\"sesgo_pronombre\"].replace({\"Si\": \"SI\", \"No\": \"NO\"})\n",
    "df_eval['sesgo_pronombre'].value_counts()"
   ]
  },
  {
   "cell_type": "code",
   "execution_count": 6,
   "metadata": {},
   "outputs": [
    {
     "data": {
      "text/plain": [
       "array(['SI', 'NO', nan, 'No', 'Si', 'nO', 'si', 's'], dtype=object)"
      ]
     },
     "execution_count": 6,
     "metadata": {},
     "output_type": "execute_result"
    }
   ],
   "source": [
    "df_eval['sesgo_otro'].unique()"
   ]
  },
  {
   "cell_type": "code",
   "execution_count": 7,
   "metadata": {},
   "outputs": [
    {
     "data": {
      "text/plain": [
       "sesgo_otro\n",
       "NO    265\n",
       "SI    179\n",
       "Name: count, dtype: int64"
      ]
     },
     "execution_count": 7,
     "metadata": {},
     "output_type": "execute_result"
    }
   ],
   "source": [
    "df_eval[\"sesgo_otro\"] = df_eval[\"sesgo_otro\"].replace({\n",
    "    \"Si\": \"SI\", \"si\":\"SI\", \"s\":\"SI\",\n",
    "    \"No\": \"NO\", \"nO\":\"NO\"\n",
    "    })\n",
    "df_eval['sesgo_otro'].value_counts()"
   ]
  },
  {
   "cell_type": "markdown",
   "metadata": {},
   "source": [
    "## Three sets for LLM-Judge evaluation\n",
    "\n",
    "We will evaluate the capacity of the judge in three different categories:\n",
    "1) distinguish between biased and unbiased text\n",
    "2) distinguish between a completely unbiased and a partially unbiased text\n",
    "3) distinguish between text that keeps the semantics, part of the input has been cut out or if it has completely lost its semantics."
   ]
  },
  {
   "cell_type": "markdown",
   "metadata": {},
   "source": [
    "For the first problem we will create an eval set with 100 rows that could have bias but don't (unbiased text is given as both input and output), 323 that are biased (biased text is given as input and output is unbiased) and 200 where the text does not admit bias in the first place (input same as output)."
   ]
  },
  {
   "cell_type": "code",
   "execution_count": 8,
   "metadata": {},
   "outputs": [
    {
     "data": {
      "text/plain": [
       "450"
      ]
     },
     "execution_count": 8,
     "metadata": {},
     "output_type": "execute_result"
    }
   ],
   "source": [
    "def assign_input_output(df_in):\n",
    "    df = df_in.copy(deep='True')\n",
    "    df[\"input\"] = None\n",
    "    df[\"output\"] = None\n",
    "    df[\"expected_outcome\"] = None\n",
    "    \n",
    "    unbiased = \"version_sin_sesgo\"\n",
    "    biased = \"version_con_sesgo\"\n",
    "\n",
    "    biasable_rows = df[df[biased].notna()]\n",
    "\n",
    "    # 150 rows where the text is biased and needs correction (input = biased, output = unbiased)\n",
    "    corrected_rows = biasable_rows.sample(150, random_state=42)\n",
    "    df.loc[corrected_rows.index, \"input\"] = corrected_rows[biased]\n",
    "    df.loc[corrected_rows.index, \"output\"] = corrected_rows[unbiased]\n",
    "    df.loc[corrected_rows.index, \"expected_outcome\"] = \"(Y)\"\n",
    "\n",
    "    biased_rows = biasable_rows.loc[~biasable_rows.index.isin(corrected_rows.index)].sample(150, random_state=42)\n",
    "    df.loc[biased_rows.index, \"input\"] = biased_rows[biased]\n",
    "    df.loc[biased_rows.index, \"output\"] = biased_rows[biased]\n",
    "    df.loc[biased_rows.index, \"expected_outcome\"] = \"(X)\"\n",
    "\n",
    "    # 150 rows where the text is unbiasable (input = output = message)\n",
    "    unbiasable_rows = df[df[biased].isna() & df[unbiased].isna()].sample(150, random_state=42)\n",
    "    df.loc[unbiasable_rows.index, \"input\"] = unbiasable_rows[\"mensaje\"]\n",
    "    df.loc[unbiasable_rows.index, \"output\"] = unbiasable_rows[\"mensaje\"]\n",
    "    df.loc[unbiasable_rows.index, \"expected_outcome\"] = \"(Z)\"\n",
    "\n",
    "    return df\n",
    "\n",
    "df_eval = assign_input_output(df_eval)\n",
    "df_eval = df_eval[df_eval[\"expected_outcome\"].notna()]\n",
    "len(df_eval)"
   ]
  },
  {
   "cell_type": "code",
   "execution_count": 9,
   "metadata": {},
   "outputs": [
    {
     "data": {
      "text/plain": [
       "expected_outcome\n",
       "(Y)    150\n",
       "(X)    150\n",
       "(Z)    150\n",
       "Name: count, dtype: int64"
      ]
     },
     "execution_count": 9,
     "metadata": {},
     "output_type": "execute_result"
    }
   ],
   "source": [
    "df_eval[\"expected_outcome\"].value_counts()"
   ]
  },
  {
   "cell_type": "markdown",
   "metadata": {},
   "source": [
    "Example row"
   ]
  },
  {
   "cell_type": "code",
   "execution_count": 10,
   "metadata": {},
   "outputs": [
    {
     "data": {
      "text/html": [
       "<div>\n",
       "<style scoped>\n",
       "    .dataframe tbody tr th:only-of-type {\n",
       "        vertical-align: middle;\n",
       "    }\n",
       "\n",
       "    .dataframe tbody tr th {\n",
       "        vertical-align: top;\n",
       "    }\n",
       "\n",
       "    .dataframe thead th {\n",
       "        text-align: right;\n",
       "    }\n",
       "</style>\n",
       "<table border=\"1\" class=\"dataframe\">\n",
       "  <thead>\n",
       "    <tr style=\"text-align: right;\">\n",
       "      <th></th>\n",
       "      <th>index</th>\n",
       "      <th>titulo</th>\n",
       "      <th>url</th>\n",
       "      <th>mensaje</th>\n",
       "      <th>fecha</th>\n",
       "      <th>frases</th>\n",
       "      <th>sesgo_pronombre</th>\n",
       "      <th>sesgo_otro</th>\n",
       "      <th>version_con_sesgo</th>\n",
       "      <th>version_sin_sesgo</th>\n",
       "      <th>potencialmente_sesgable_otro_sesgo</th>\n",
       "      <th>revisado</th>\n",
       "      <th>description_bias_removal</th>\n",
       "      <th>biased_words</th>\n",
       "      <th>unbiased_words</th>\n",
       "      <th>input</th>\n",
       "      <th>output</th>\n",
       "      <th>expected_outcome</th>\n",
       "    </tr>\n",
       "  </thead>\n",
       "  <tbody>\n",
       "    <tr>\n",
       "      <th>1457</th>\n",
       "      <td>21022</td>\n",
       "      <td>TRASLADO DE BENEFICIOS MINEDUC.</td>\n",
       "      <td>detalle?id=8367</td>\n",
       "      <td>Se informa a los estudiantes año de ingreso 20...</td>\n",
       "      <td>2015-03-06 15:24:06</td>\n",
       "      <td>- Alumnos que estaban el año 2014 en Curso Sup...</td>\n",
       "      <td>NO</td>\n",
       "      <td>SI</td>\n",
       "      <td>- Alumnos que estaban el año 2014 en Curso Sup...</td>\n",
       "      <td>- Estudiantes que estaban el año 2014 en Curso...</td>\n",
       "      <td>SI</td>\n",
       "      <td>SI</td>\n",
       "      <td>Se reemplazó \"Alumnos\" por \"Estudiantes\" para ...</td>\n",
       "      <td>Alumnos</td>\n",
       "      <td>Estudiantes</td>\n",
       "      <td>- Alumnos que estaban el año 2014 en Curso Sup...</td>\n",
       "      <td>- Alumnos que estaban el año 2014 en Curso Sup...</td>\n",
       "      <td>(X)</td>\n",
       "    </tr>\n",
       "  </tbody>\n",
       "</table>\n",
       "</div>"
      ],
      "text/plain": [
       "      index                           titulo              url  \\\n",
       "1457  21022  TRASLADO DE BENEFICIOS MINEDUC.  detalle?id=8367   \n",
       "\n",
       "                                                mensaje               fecha  \\\n",
       "1457  Se informa a los estudiantes año de ingreso 20... 2015-03-06 15:24:06   \n",
       "\n",
       "                                                 frases sesgo_pronombre  \\\n",
       "1457  - Alumnos que estaban el año 2014 en Curso Sup...              NO   \n",
       "\n",
       "     sesgo_otro                                  version_con_sesgo  \\\n",
       "1457         SI  - Alumnos que estaban el año 2014 en Curso Sup...   \n",
       "\n",
       "                                      version_sin_sesgo  \\\n",
       "1457  - Estudiantes que estaban el año 2014 en Curso...   \n",
       "\n",
       "     potencialmente_sesgable_otro_sesgo revisado  \\\n",
       "1457                                 SI       SI   \n",
       "\n",
       "                               description_bias_removal biased_words  \\\n",
       "1457  Se reemplazó \"Alumnos\" por \"Estudiantes\" para ...      Alumnos   \n",
       "\n",
       "     unbiased_words                                              input  \\\n",
       "1457    Estudiantes  - Alumnos que estaban el año 2014 en Curso Sup...   \n",
       "\n",
       "                                                 output expected_outcome  \n",
       "1457  - Alumnos que estaban el año 2014 en Curso Sup...              (X)  "
      ]
     },
     "execution_count": 10,
     "metadata": {},
     "output_type": "execute_result"
    }
   ],
   "source": [
    "df_eval.sample(1, random_state=42)"
   ]
  },
  {
   "cell_type": "markdown",
   "metadata": {},
   "source": [
    "## Judge evaluation"
   ]
  },
  {
   "cell_type": "code",
   "execution_count": 11,
   "metadata": {},
   "outputs": [],
   "source": [
    "from mistralai import Mistral, UserMessage\n",
    "\n",
    "model = \"mistral-large-latest\"\n",
    "\n",
    "with open('Mistral_key', 'r') as file:\n",
    "    mistral_key = file.readline().strip()\n",
    "\n",
    "client = Mistral(api_key=mistral_key)"
   ]
  },
  {
   "cell_type": "code",
   "execution_count": 12,
   "metadata": {},
   "outputs": [],
   "source": [
    "from judge import make_message, JUDGE_PROMPT\n",
    "# as in version: https://github.com/alcazar90/spanish-gender-debias/tree/0a8822a4b2dea2935b79e62ff8e2d85bfc83336d\n",
    "import time\n",
    "\n",
    "# Initialize the \"Judge\" column with NaN values\n",
    "df_eval['judge_answer'] = None\n",
    "df_eval['judge_model'] = None\n",
    "df_eval['judge_prompt'] = None\n",
    "\n",
    "# Iterate over rows to populate the \"Judge\" column\n",
    "for index, row in df_eval.iterrows():\n",
    "    prompt = make_message(row['input'], row['output'])\n",
    "    chat_response = client.chat.complete(\n",
    "        model = model,\n",
    "        messages = prompt,\n",
    "    )\n",
    "    judge_eval = chat_response.choices[0].message.content\n",
    "    df_eval.at[index, 'judge_answer'] = judge_eval\n",
    "    df_eval.at[index, 'judge_model'] = model\n",
    "    df_eval.at[index, 'judge_prompt'] = prompt \n",
    "\n",
    "    time.sleep(0.2)  # we will never exceed the rate this way"
   ]
  },
  {
   "cell_type": "code",
   "execution_count": 13,
   "metadata": {},
   "outputs": [],
   "source": [
    "df_eval.to_csv('judge_eval/20250203_mistral-large-judge_eval.csv', index=False)"
   ]
  },
  {
   "cell_type": "code",
   "execution_count": 14,
   "metadata": {},
   "outputs": [
    {
     "data": {
      "text/plain": [
       "450"
      ]
     },
     "execution_count": 14,
     "metadata": {},
     "output_type": "execute_result"
    }
   ],
   "source": [
    "len(df_eval)"
   ]
  },
  {
   "cell_type": "code",
   "execution_count": 15,
   "metadata": {},
   "outputs": [
    {
     "data": {
      "text/html": [
       "<div>\n",
       "<style scoped>\n",
       "    .dataframe tbody tr th:only-of-type {\n",
       "        vertical-align: middle;\n",
       "    }\n",
       "\n",
       "    .dataframe tbody tr th {\n",
       "        vertical-align: top;\n",
       "    }\n",
       "\n",
       "    .dataframe thead th {\n",
       "        text-align: right;\n",
       "    }\n",
       "</style>\n",
       "<table border=\"1\" class=\"dataframe\">\n",
       "  <thead>\n",
       "    <tr style=\"text-align: right;\">\n",
       "      <th></th>\n",
       "      <th>index</th>\n",
       "      <th>mensaje</th>\n",
       "      <th>sesgo_pronombre</th>\n",
       "      <th>sesgo_otro</th>\n",
       "      <th>version_con_sesgo</th>\n",
       "      <th>version_sin_sesgo</th>\n",
       "      <th>input</th>\n",
       "      <th>output</th>\n",
       "      <th>expected_outcome</th>\n",
       "    </tr>\n",
       "  </thead>\n",
       "  <tbody>\n",
       "    <tr>\n",
       "      <th>0</th>\n",
       "      <td>14186</td>\n",
       "      <td>Se informa a la comunidad estudiantil que el d...</td>\n",
       "      <td>NO</td>\n",
       "      <td>SI</td>\n",
       "      <td>Se informa a todos los estudiantes  que el día...</td>\n",
       "      <td>Se informa a la comunidad estudiantil que el d...</td>\n",
       "      <td>Se informa a todos los estudiantes  que el día...</td>\n",
       "      <td>Se informa a la comunidad estudiantil que el d...</td>\n",
       "      <td>(Y)</td>\n",
       "    </tr>\n",
       "    <tr>\n",
       "      <th>11</th>\n",
       "      <td>17807</td>\n",
       "      <td>Estimada Comunidad: \\n\\n\\n_x000D_\\nLa Unidad d...</td>\n",
       "      <td>SI</td>\n",
       "      <td>NO</td>\n",
       "      <td>Para inscribirse pueden llamar al 229780730 o ...</td>\n",
       "      <td>Para inscribirse pueden llamar al 229780730 o ...</td>\n",
       "      <td>Para inscribirse pueden llamar al 229780730 o ...</td>\n",
       "      <td>Para inscribirse pueden llamar al 229780730 o ...</td>\n",
       "      <td>(Y)</td>\n",
       "    </tr>\n",
       "    <tr>\n",
       "      <th>12</th>\n",
       "      <td>20964</td>\n",
       "      <td>Se informa a los estudiantes año de ingreso 20...</td>\n",
       "      <td>SI</td>\n",
       "      <td>SI</td>\n",
       "      <td>Se informa a los estudiantes año de ingreso 20...</td>\n",
       "      <td>Se informa a las/os estudiantes año de ingreso...</td>\n",
       "      <td>Se informa a los estudiantes año de ingreso 20...</td>\n",
       "      <td>Se informa a los estudiantes año de ingreso 20...</td>\n",
       "      <td>(X)</td>\n",
       "    </tr>\n",
       "    <tr>\n",
       "      <th>14</th>\n",
       "      <td>920</td>\n",
       "      <td>Estimada Comunidad, \\n\\nCompartimos con ustede...</td>\n",
       "      <td>NO</td>\n",
       "      <td>NO</td>\n",
       "      <td>Estimados alumnos, Compartimos con ustedes inf...</td>\n",
       "      <td>Estimada Comunidad, Compartimos con ustedes in...</td>\n",
       "      <td>Estimados alumnos, Compartimos con ustedes inf...</td>\n",
       "      <td>Estimada Comunidad, Compartimos con ustedes in...</td>\n",
       "      <td>(Y)</td>\n",
       "    </tr>\n",
       "    <tr>\n",
       "      <th>16</th>\n",
       "      <td>12944</td>\n",
       "      <td>CHARLAS: \\n\\n\"Esfuerzo de corte activo de una ...</td>\n",
       "      <td>NaN</td>\n",
       "      <td>NaN</td>\n",
       "      <td>NaN</td>\n",
       "      <td>NaN</td>\n",
       "      <td>CHARLAS: \\n\\n\"Esfuerzo de corte activo de una ...</td>\n",
       "      <td>CHARLAS: \\n\\n\"Esfuerzo de corte activo de una ...</td>\n",
       "      <td>(Z)</td>\n",
       "    </tr>\n",
       "  </tbody>\n",
       "</table>\n",
       "</div>"
      ],
      "text/plain": [
       "    index                                            mensaje sesgo_pronombre  \\\n",
       "0   14186  Se informa a la comunidad estudiantil que el d...              NO   \n",
       "11  17807  Estimada Comunidad: \\n\\n\\n_x000D_\\nLa Unidad d...              SI   \n",
       "12  20964  Se informa a los estudiantes año de ingreso 20...              SI   \n",
       "14    920  Estimada Comunidad, \\n\\nCompartimos con ustede...              NO   \n",
       "16  12944  CHARLAS: \\n\\n\"Esfuerzo de corte activo de una ...             NaN   \n",
       "\n",
       "   sesgo_otro                                  version_con_sesgo  \\\n",
       "0          SI  Se informa a todos los estudiantes  que el día...   \n",
       "11         NO  Para inscribirse pueden llamar al 229780730 o ...   \n",
       "12         SI  Se informa a los estudiantes año de ingreso 20...   \n",
       "14         NO  Estimados alumnos, Compartimos con ustedes inf...   \n",
       "16        NaN                                                NaN   \n",
       "\n",
       "                                    version_sin_sesgo  \\\n",
       "0   Se informa a la comunidad estudiantil que el d...   \n",
       "11  Para inscribirse pueden llamar al 229780730 o ...   \n",
       "12  Se informa a las/os estudiantes año de ingreso...   \n",
       "14  Estimada Comunidad, Compartimos con ustedes in...   \n",
       "16                                                NaN   \n",
       "\n",
       "                                                input  \\\n",
       "0   Se informa a todos los estudiantes  que el día...   \n",
       "11  Para inscribirse pueden llamar al 229780730 o ...   \n",
       "12  Se informa a los estudiantes año de ingreso 20...   \n",
       "14  Estimados alumnos, Compartimos con ustedes inf...   \n",
       "16  CHARLAS: \\n\\n\"Esfuerzo de corte activo de una ...   \n",
       "\n",
       "                                               output expected_outcome  \n",
       "0   Se informa a la comunidad estudiantil que el d...              (Y)  \n",
       "11  Para inscribirse pueden llamar al 229780730 o ...              (Y)  \n",
       "12  Se informa a los estudiantes año de ingreso 20...              (X)  \n",
       "14  Estimada Comunidad, Compartimos con ustedes in...              (Y)  \n",
       "16  CHARLAS: \\n\\n\"Esfuerzo de corte activo de una ...              (Z)  "
      ]
     },
     "execution_count": 15,
     "metadata": {},
     "output_type": "execute_result"
    }
   ],
   "source": [
    "df_eval_judge = df_eval[['index','mensaje','sesgo_pronombre','sesgo_otro',\n",
    "                         'version_con_sesgo','version_sin_sesgo','input','output','expected_outcome']]\n",
    "\n",
    "df_eval_judge.head()"
   ]
  },
  {
   "cell_type": "code",
   "execution_count": 16,
   "metadata": {},
   "outputs": [],
   "source": [
    "df_eval_judge.to_csv('../../data/train_val_splits/val_judge.csv', index=False)"
   ]
  },
  {
   "cell_type": "markdown",
   "metadata": {},
   "source": [
    "---"
   ]
  },
  {
   "cell_type": "markdown",
   "metadata": {},
   "source": [
    "### Processing agent response"
   ]
  },
  {
   "cell_type": "code",
   "execution_count": 17,
   "metadata": {},
   "outputs": [
    {
     "data": {
      "text/plain": [
       "450"
      ]
     },
     "execution_count": 17,
     "metadata": {},
     "output_type": "execute_result"
    }
   ],
   "source": [
    "import pandas as pd\n",
    "\n",
    "df_eval = pd.read_csv(\"judge_eval/20250203_mistral-large-judge_eval.csv\")\n",
    "len(df_eval)"
   ]
  },
  {
   "cell_type": "code",
   "execution_count": 18,
   "metadata": {},
   "outputs": [],
   "source": [
    "df_eval[\"bias_answer\"] = df_eval[\"judge_answer\"].str.extract(r'Bias outcome: (\\(\\w+\\))')\n",
    "df_eval[\"semantics_answer\"] = df_eval[\"judge_answer\"].str.extract(r'Semantics outcome: (\\(\\w+\\))')"
   ]
  },
  {
   "cell_type": "code",
   "execution_count": 19,
   "metadata": {},
   "outputs": [
    {
     "data": {
      "text/plain": [
       "bias_answer\n",
       "(Z)    317\n",
       "(Y)    118\n",
       "(X)     12\n",
       "Name: count, dtype: int64"
      ]
     },
     "execution_count": 19,
     "metadata": {},
     "output_type": "execute_result"
    }
   ],
   "source": [
    "df_eval[\"bias_answer\"].value_counts()"
   ]
  },
  {
   "cell_type": "code",
   "execution_count": 20,
   "metadata": {},
   "outputs": [
    {
     "data": {
      "text/plain": [
       "semantics_answer\n",
       "(a)    303\n",
       "(b)    141\n",
       "(c)      2\n",
       "(d)      1\n",
       "Name: count, dtype: int64"
      ]
     },
     "execution_count": 20,
     "metadata": {},
     "output_type": "execute_result"
    }
   ],
   "source": [
    "df_eval[\"semantics_answer\"].value_counts()"
   ]
  },
  {
   "cell_type": "code",
   "execution_count": 21,
   "metadata": {},
   "outputs": [
    {
     "name": "stdout",
     "output_type": "stream",
     "text": [
      "Accuracy: 0.5951\n",
      "\n",
      "Classification Report:\n",
      "               precision    recall  f1-score   support\n",
      "\n",
      "         (X)       0.17      0.01      0.02       150\n",
      "         (Y)       0.99      0.79      0.88       148\n",
      "         (Z)       0.46      0.99      0.63       149\n",
      "\n",
      "    accuracy                           0.60       447\n",
      "   macro avg       0.54      0.60      0.51       447\n",
      "weighted avg       0.54      0.60      0.51       447\n",
      "\n",
      "\n",
      "Confusion Matrix:\n",
      " [[  2   0 148]\n",
      " [  9 117  22]\n",
      " [  1   1 147]]\n"
     ]
    }
   ],
   "source": [
    "from sklearn.metrics import accuracy_score, classification_report, confusion_matrix\n",
    "import warnings\n",
    "warnings.filterwarnings('ignore')\n",
    "\n",
    "df_eval = df_eval[df_eval[\"bias_answer\"].notna()]\n",
    "\n",
    "# Ensure target and outcome are categorical and have the same possible values\n",
    "classes = [\"(X)\", \"(Y)\", \"(Z)\"]\n",
    "\n",
    "# Compute accuracy\n",
    "accuracy = accuracy_score(df_eval[\"expected_outcome\"], df_eval[\"bias_answer\"])\n",
    "\n",
    "# Compute classification report (precision, recall, f1-score)\n",
    "report = classification_report(df_eval[\"expected_outcome\"], df_eval[\"bias_answer\"], target_names=classes)\n",
    "\n",
    "# Compute confusion matrix\n",
    "conf_matrix = confusion_matrix(df_eval[\"expected_outcome\"], df_eval[\"bias_answer\"], labels=classes)\n",
    "\n",
    "# Display results\n",
    "print(f\"Accuracy: {accuracy:.4f}\")\n",
    "print(\"\\nClassification Report:\\n\", report)\n",
    "print(\"\\nConfusion Matrix:\\n\", conf_matrix)"
   ]
  },
  {
   "cell_type": "code",
   "execution_count": 30,
   "metadata": {},
   "outputs": [
    {
     "name": "stdout",
     "output_type": "stream",
     "text": [
      "---\n",
      "Bias outcome: (Z)\n",
      "Justification:::\n",
      "There was no gender bias in the input_text. The text uses the term \"los invitamos,\" which is a plural form that can be gender-neutral in context, especially when addressing a mixed group like \"familias.\"\n",
      "\n",
      "Semantics outcome: (a)\n",
      "Justification:::\n",
      "The input_text and system_output are exactly the same string, word by word.\n",
      "\n",
      "---\n",
      "---\n",
      "Bias outcome: (Z) \"No input bias\"\n",
      "Justification:::\n",
      "The input_text \"¡¡Los esperamos!\" does not exhibit any gender bias. The use of \"Los\" in this context is gender-neutral and refers to a group of people without implying a specific gender.\n",
      "\n",
      "Semantics outcome: (a) \"Same output\"\n",
      "Justification:::\n",
      "The system_output is exactly the same as the input_text, word by word. There are no changes in the text.\n",
      "\n",
      "---\n",
      "---\n",
      "Bias outcome: (Z)\n",
      "Justification:::\n",
      "The input_text does not contain any gender-specific pronouns, occupations, emotions, stereotypes, or adjectives that could indicate a gender bias. Therefore, there was no bias in the input_text.\n",
      "\n",
      "Semantics outcome: (a)\n",
      "Justification:::\n",
      "The system_output is exactly the same as the input_text, word by word. There are no changes in the text.\n",
      "\n",
      "---\n"
     ]
    }
   ],
   "source": [
    "for answer in df_eval[(df_eval['expected_outcome'] == \"(X)\") & (df_eval['bias_answer'] == \"(Z)\")].sample(3, random_state=42)['judge_answer'].values:\n",
    "    print(answer)"
   ]
  },
  {
   "cell_type": "markdown",
   "metadata": {},
   "source": [
    "---\n",
    "## Testing Judge prompt completely in Spanish\n",
    "\n",
    "- We remove the distinction between exact same text and semantically same text.\n",
    "- we translate the instructions to Spanish so the whole prompt is in example\n",
    "- we emphasise the need of debiasing articles that denote gender"
   ]
  },
  {
   "cell_type": "code",
   "execution_count": 1,
   "metadata": {},
   "outputs": [
    {
     "data": {
      "text/html": [
       "<div>\n",
       "<style scoped>\n",
       "    .dataframe tbody tr th:only-of-type {\n",
       "        vertical-align: middle;\n",
       "    }\n",
       "\n",
       "    .dataframe tbody tr th {\n",
       "        vertical-align: top;\n",
       "    }\n",
       "\n",
       "    .dataframe thead th {\n",
       "        text-align: right;\n",
       "    }\n",
       "</style>\n",
       "<table border=\"1\" class=\"dataframe\">\n",
       "  <thead>\n",
       "    <tr style=\"text-align: right;\">\n",
       "      <th></th>\n",
       "      <th>index</th>\n",
       "      <th>mensaje</th>\n",
       "      <th>sesgo_pronombre</th>\n",
       "      <th>sesgo_otro</th>\n",
       "      <th>version_con_sesgo</th>\n",
       "      <th>version_sin_sesgo</th>\n",
       "      <th>input</th>\n",
       "      <th>output</th>\n",
       "      <th>expected_outcome</th>\n",
       "      <th>expected_semantics_output</th>\n",
       "    </tr>\n",
       "  </thead>\n",
       "  <tbody>\n",
       "    <tr>\n",
       "      <th>0</th>\n",
       "      <td>14186</td>\n",
       "      <td>Se informa a la comunidad estudiantil que el d...</td>\n",
       "      <td>NO</td>\n",
       "      <td>SI</td>\n",
       "      <td>Se informa a todos los estudiantes  que el día...</td>\n",
       "      <td>Se informa a la comunidad estudiantil que el d...</td>\n",
       "      <td>Se informa a todos los estudiantes  que el día...</td>\n",
       "      <td>Se informa a la comunidad estudiantil que el d...</td>\n",
       "      <td>(Y)</td>\n",
       "      <td>(a)</td>\n",
       "    </tr>\n",
       "    <tr>\n",
       "      <th>1</th>\n",
       "      <td>17807</td>\n",
       "      <td>Estimada Comunidad: \\n\\n\\n_x000D_\\nLa Unidad d...</td>\n",
       "      <td>SI</td>\n",
       "      <td>NO</td>\n",
       "      <td>Para inscribirse pueden llamar al 229780730 o ...</td>\n",
       "      <td>Para inscribirse pueden llamar al 229780730 o ...</td>\n",
       "      <td>Para inscribirse pueden llamar al 229780730 o ...</td>\n",
       "      <td>Para inscribirse pueden llamar al 229780730 o ...</td>\n",
       "      <td>(Y)</td>\n",
       "      <td>(a)</td>\n",
       "    </tr>\n",
       "  </tbody>\n",
       "</table>\n",
       "</div>"
      ],
      "text/plain": [
       "   index                                            mensaje sesgo_pronombre  \\\n",
       "0  14186  Se informa a la comunidad estudiantil que el d...              NO   \n",
       "1  17807  Estimada Comunidad: \\n\\n\\n_x000D_\\nLa Unidad d...              SI   \n",
       "\n",
       "  sesgo_otro                                  version_con_sesgo  \\\n",
       "0         SI  Se informa a todos los estudiantes  que el día...   \n",
       "1         NO  Para inscribirse pueden llamar al 229780730 o ...   \n",
       "\n",
       "                                   version_sin_sesgo  \\\n",
       "0  Se informa a la comunidad estudiantil que el d...   \n",
       "1  Para inscribirse pueden llamar al 229780730 o ...   \n",
       "\n",
       "                                               input  \\\n",
       "0  Se informa a todos los estudiantes  que el día...   \n",
       "1  Para inscribirse pueden llamar al 229780730 o ...   \n",
       "\n",
       "                                              output expected_outcome  \\\n",
       "0  Se informa a la comunidad estudiantil que el d...              (Y)   \n",
       "1  Para inscribirse pueden llamar al 229780730 o ...              (Y)   \n",
       "\n",
       "  expected_semantics_output  \n",
       "0                       (a)  \n",
       "1                       (a)  "
      ]
     },
     "execution_count": 1,
     "metadata": {},
     "output_type": "execute_result"
    }
   ],
   "source": [
    "import pandas as pd\n",
    "\n",
    "df_eval = pd.read_csv('../../data/train_val_splits/val_judge.csv')\n",
    "df_eval['expected_semantics_output'] = \"(a)\"\n",
    "df_eval.head(2)"
   ]
  },
  {
   "cell_type": "code",
   "execution_count": 2,
   "metadata": {},
   "outputs": [],
   "source": [
    "from mistralai import Mistral, UserMessage\n",
    "from judge import make_message\n",
    "# https://github.com/alcazar90/spanish-gender-debias/tree/1bf18c419d63d60460fd0d6d52110df63eb0d6d1\n",
    "\n",
    "model = \"mistral-large-latest\"\n",
    "\n",
    "with open('Mistral_key', 'r') as file:\n",
    "    mistral_key = file.readline().strip()\n",
    "\n",
    "client = Mistral(api_key=mistral_key)"
   ]
  },
  {
   "cell_type": "code",
   "execution_count": 3,
   "metadata": {},
   "outputs": [],
   "source": [
    "import time\n",
    "\n",
    "# Initialize the \"Judge\" column with NaN values\n",
    "df_eval['judge_answer'] = None\n",
    "df_eval['judge_model'] = None\n",
    "df_eval['judge_prompt'] = None\n",
    "\n",
    "# Iterate over rows to populate the \"Judge\" column\n",
    "for index, row in df_eval.iterrows():\n",
    "    prompt = make_message(row['input'], row['output'])\n",
    "    chat_response = client.chat.complete(\n",
    "        model = model,\n",
    "        messages = prompt,\n",
    "    )\n",
    "    judge_eval = chat_response.choices[0].message.content\n",
    "    df_eval.at[index, 'judge_answer'] = judge_eval\n",
    "    df_eval.at[index, 'judge_model'] = model\n",
    "    df_eval.at[index, 'judge_prompt'] = prompt \n",
    "\n",
    "    time.sleep(0.2)  # we will never exceed the rate this way"
   ]
  },
  {
   "cell_type": "code",
   "execution_count": 4,
   "metadata": {},
   "outputs": [],
   "source": [
    "df_eval.to_csv('judge_eval/20250204_mistral-large-judge_eval.csv', index=False)"
   ]
  },
  {
   "cell_type": "code",
   "execution_count": 11,
   "metadata": {},
   "outputs": [
    {
     "data": {
      "text/plain": [
       "450"
      ]
     },
     "execution_count": 11,
     "metadata": {},
     "output_type": "execute_result"
    }
   ],
   "source": [
    "df_eval = pd.read_csv('judge_eval/20250204_mistral-large-judge_eval.csv')\n",
    "len(df_eval)"
   ]
  },
  {
   "cell_type": "code",
   "execution_count": 15,
   "metadata": {},
   "outputs": [],
   "source": [
    "df_eval[\"bias_answer\"] = df_eval[\"judge_answer\"].str.extract(r'Resultado de sesgo: (\\(\\w+\\))')\n",
    "df_eval[\"semantics_answer\"] = df_eval[\"judge_answer\"].str.extract(r'Resultado semántico: (\\(\\w+\\))')"
   ]
  },
  {
   "cell_type": "code",
   "execution_count": 16,
   "metadata": {},
   "outputs": [
    {
     "data": {
      "text/plain": [
       "bias_answer\n",
       "(Z)    233\n",
       "(Y)    141\n",
       "(X)     76\n",
       "Name: count, dtype: int64"
      ]
     },
     "execution_count": 16,
     "metadata": {},
     "output_type": "execute_result"
    }
   ],
   "source": [
    "df_eval[\"bias_answer\"].value_counts()"
   ]
  },
  {
   "cell_type": "code",
   "execution_count": 17,
   "metadata": {},
   "outputs": [
    {
     "data": {
      "text/plain": [
       "semantics_answer\n",
       "(a)    449\n",
       "(c)      1\n",
       "Name: count, dtype: int64"
      ]
     },
     "execution_count": 17,
     "metadata": {},
     "output_type": "execute_result"
    }
   ],
   "source": [
    "df_eval[\"semantics_answer\"].value_counts()"
   ]
  },
  {
   "cell_type": "code",
   "execution_count": 18,
   "metadata": {},
   "outputs": [
    {
     "name": "stdout",
     "output_type": "stream",
     "text": [
      "Accuracy: 0.7489\n",
      "\n",
      "Classification Report:\n",
      "               precision    recall  f1-score   support\n",
      "\n",
      "         (X)       0.82      0.41      0.55       150\n",
      "         (Y)       0.97      0.91      0.94       150\n",
      "         (Z)       0.59      0.92      0.72       150\n",
      "\n",
      "    accuracy                           0.75       450\n",
      "   macro avg       0.79      0.75      0.74       450\n",
      "weighted avg       0.79      0.75      0.74       450\n",
      "\n",
      "\n",
      "Confusion Matrix:\n",
      " [[ 62   1  87]\n",
      " [  5 137   8]\n",
      " [  9   3 138]]\n"
     ]
    }
   ],
   "source": [
    "from sklearn.metrics import accuracy_score, classification_report, confusion_matrix\n",
    "import warnings\n",
    "warnings.filterwarnings('ignore')\n",
    "\n",
    "df_eval = df_eval[df_eval[\"bias_answer\"].notna()]\n",
    "\n",
    "# Ensure target and outcome are categorical and have the same possible values\n",
    "classes = [\"(X)\", \"(Y)\", \"(Z)\"]\n",
    "\n",
    "# Compute accuracy\n",
    "accuracy = accuracy_score(df_eval[\"expected_outcome\"], df_eval[\"bias_answer\"])\n",
    "\n",
    "# Compute classification report (precision, recall, f1-score)\n",
    "report = classification_report(df_eval[\"expected_outcome\"], df_eval[\"bias_answer\"], target_names=classes)\n",
    "\n",
    "# Compute confusion matrix\n",
    "conf_matrix = confusion_matrix(df_eval[\"expected_outcome\"], df_eval[\"bias_answer\"], labels=classes)\n",
    "\n",
    "# Display results\n",
    "print(f\"Accuracy: {accuracy:.4f}\")\n",
    "print(\"\\nClassification Report:\\n\", report)\n",
    "print(\"\\nConfusion Matrix:\\n\", conf_matrix)"
   ]
  },
  {
   "cell_type": "code",
   "execution_count": 24,
   "metadata": {},
   "outputs": [
    {
     "name": "stdout",
     "output_type": "stream",
     "text": [
      "input:  Los proyectos serán evaluados por un jurado de especialistas de la industria, referentes del ecosistema emprendedor, académicos y emprendedores.\n",
      "---\n",
      "Resultado de sesgo: (Z)\n",
      "Justificación::: El texto de entrada input_text no presenta sesgo de género. La frase \"Los proyectos serán evaluados por un jurado de especialistas de la industria, referentes del ecosistema emprendedor, académicos y emprendedores\" no utiliza pronombre (no) genérico, no asocia ocupaciones a un género específico, no asocia emociones a un género específico, no refleja estereotipos sociales ni de comportamiento, no utiliza adjetivos/personalidad de manera sesgada y no perpetúa actitudes de sexismo.\n",
      "\n",
      "Resultado semántico: (a)\n",
      "Justificación::: Ambos textos son idénticos, por lo que mantienen el mismo mensaje semántico. No hay cambios en el contenido ni en la estructura del texto.\n",
      "--- \n",
      "\n",
      "input:  Se informa a los estudiantes año de ingreso 2015,  que por disposición de la Unidad de Normalización, l@s estudiantes que se encuentran en la nómina adjunta deberán firmar Pagaré de Fondo Solidario de Crédito Universitario.\n",
      "---\n",
      "Resultado de sesgo: (Z)\n",
      "Justificación::: No había sesgo de género en el texto de entrada. El uso de \"l@s estudiantes\" ya es una forma inclusiva de referirse a los estudiantes, abarcando tanto a estudiantes masculinos como femeninos.\n",
      "\n",
      "Resultado semántico: (a)\n",
      "Justificación::: Ambos textos son idénticos, por lo que mantienen exactamente el mismo mensaje semántico.\n",
      "--- \n",
      "\n",
      "input:  Estimados, estimadas estudiantes de postgrado, Te invitamos a votar para la elección de Consejeros Estudiantiles ante el consejo de Escuela de Postgrado, este Jueves 27 de mayo de 09.00 a 17.00 hrs a través de UCAMPUS.\n",
      "---\n",
      "Resultado de sesgo: (Z)\n",
      "Justificación::: No había sesgo de género en input_text. El texto ya utiliza la fórmula \"Estimados, estimadas estudiantes\" para incluir a ambos géneros de manera inclusiva. Además, no hay otros elementos en el texto que presenten sesgo de género.\n",
      "\n",
      "Resultado semántico: (a)\n",
      "Justificación::: Ambos textos son idénticos, por lo que el mensaje semántico se mantiene sin cambios.\n",
      "--- \n",
      "\n"
     ]
    }
   ],
   "source": [
    "for _, answer in df_eval[(df_eval['expected_outcome'] == \"(X)\") & (df_eval['bias_answer'] == \"(Z)\")].sample(3, random_state=42).iterrows():\n",
    "    print('input: ',answer['input'])\n",
    "    print(answer['judge_answer'],'\\n')"
   ]
  },
  {
   "cell_type": "markdown",
   "metadata": {},
   "source": [
    "---\n",
    "\n",
    "## Refining Judge\n",
    "\n",
    "Updates:\n",
    "- An extra, negative example added (where the correction of bias is just partial)\n",
    "- emphasis on analysing the whole text to find biases"
   ]
  },
  {
   "cell_type": "code",
   "execution_count": 1,
   "metadata": {},
   "outputs": [
    {
     "data": {
      "text/html": [
       "<div>\n",
       "<style scoped>\n",
       "    .dataframe tbody tr th:only-of-type {\n",
       "        vertical-align: middle;\n",
       "    }\n",
       "\n",
       "    .dataframe tbody tr th {\n",
       "        vertical-align: top;\n",
       "    }\n",
       "\n",
       "    .dataframe thead th {\n",
       "        text-align: right;\n",
       "    }\n",
       "</style>\n",
       "<table border=\"1\" class=\"dataframe\">\n",
       "  <thead>\n",
       "    <tr style=\"text-align: right;\">\n",
       "      <th></th>\n",
       "      <th>index</th>\n",
       "      <th>mensaje</th>\n",
       "      <th>sesgo_pronombre</th>\n",
       "      <th>sesgo_otro</th>\n",
       "      <th>version_con_sesgo</th>\n",
       "      <th>version_sin_sesgo</th>\n",
       "      <th>input</th>\n",
       "      <th>output</th>\n",
       "      <th>expected_outcome</th>\n",
       "      <th>expected_semantics_output</th>\n",
       "    </tr>\n",
       "  </thead>\n",
       "  <tbody>\n",
       "    <tr>\n",
       "      <th>0</th>\n",
       "      <td>14186</td>\n",
       "      <td>Se informa a la comunidad estudiantil que el d...</td>\n",
       "      <td>NO</td>\n",
       "      <td>SI</td>\n",
       "      <td>Se informa a todos los estudiantes  que el día...</td>\n",
       "      <td>Se informa a la comunidad estudiantil que el d...</td>\n",
       "      <td>Se informa a todos los estudiantes  que el día...</td>\n",
       "      <td>Se informa a la comunidad estudiantil que el d...</td>\n",
       "      <td>(Y)</td>\n",
       "      <td>(a)</td>\n",
       "    </tr>\n",
       "    <tr>\n",
       "      <th>1</th>\n",
       "      <td>17807</td>\n",
       "      <td>Estimada Comunidad: \\n\\n\\n_x000D_\\nLa Unidad d...</td>\n",
       "      <td>SI</td>\n",
       "      <td>NO</td>\n",
       "      <td>Para inscribirse pueden llamar al 229780730 o ...</td>\n",
       "      <td>Para inscribirse pueden llamar al 229780730 o ...</td>\n",
       "      <td>Para inscribirse pueden llamar al 229780730 o ...</td>\n",
       "      <td>Para inscribirse pueden llamar al 229780730 o ...</td>\n",
       "      <td>(Y)</td>\n",
       "      <td>(a)</td>\n",
       "    </tr>\n",
       "  </tbody>\n",
       "</table>\n",
       "</div>"
      ],
      "text/plain": [
       "   index                                            mensaje sesgo_pronombre  \\\n",
       "0  14186  Se informa a la comunidad estudiantil que el d...              NO   \n",
       "1  17807  Estimada Comunidad: \\n\\n\\n_x000D_\\nLa Unidad d...              SI   \n",
       "\n",
       "  sesgo_otro                                  version_con_sesgo  \\\n",
       "0         SI  Se informa a todos los estudiantes  que el día...   \n",
       "1         NO  Para inscribirse pueden llamar al 229780730 o ...   \n",
       "\n",
       "                                   version_sin_sesgo  \\\n",
       "0  Se informa a la comunidad estudiantil que el d...   \n",
       "1  Para inscribirse pueden llamar al 229780730 o ...   \n",
       "\n",
       "                                               input  \\\n",
       "0  Se informa a todos los estudiantes  que el día...   \n",
       "1  Para inscribirse pueden llamar al 229780730 o ...   \n",
       "\n",
       "                                              output expected_outcome  \\\n",
       "0  Se informa a la comunidad estudiantil que el d...              (Y)   \n",
       "1  Para inscribirse pueden llamar al 229780730 o ...              (Y)   \n",
       "\n",
       "  expected_semantics_output  \n",
       "0                       (a)  \n",
       "1                       (a)  "
      ]
     },
     "execution_count": 1,
     "metadata": {},
     "output_type": "execute_result"
    }
   ],
   "source": [
    "import pandas as pd\n",
    "\n",
    "df_eval = pd.read_csv('../../data/train_val_splits/val_judge.csv')\n",
    "df_eval['expected_semantics_output'] = \"(a)\"\n",
    "df_eval.head(2)"
   ]
  },
  {
   "cell_type": "code",
   "execution_count": 2,
   "metadata": {},
   "outputs": [],
   "source": [
    "from mistralai import Mistral, UserMessage\n",
    "from judge import make_message\n",
    "# as in: https://github.com/alcazar90/spanish-gender-debias/tree/3b224af24d26cfc1a525f8ab0dd06b67f2a835cf\n",
    "\n",
    "model = \"mistral-large-latest\"\n",
    "\n",
    "with open('Mistral_key', 'r') as file:\n",
    "    mistral_key = file.readline().strip()\n",
    "\n",
    "client = Mistral(api_key=mistral_key)"
   ]
  },
  {
   "cell_type": "code",
   "execution_count": 3,
   "metadata": {},
   "outputs": [],
   "source": [
    "import time\n",
    "\n",
    "# Initialize the \"Judge\" column with NaN values\n",
    "df_eval['judge_answer'] = None\n",
    "df_eval['judge_model'] = None\n",
    "df_eval['judge_prompt'] = None\n",
    "\n",
    "# Iterate over rows to populate the \"Judge\" column\n",
    "for index, row in df_eval.iterrows():\n",
    "    prompt = make_message(row['input'], row['output'])\n",
    "    chat_response = client.chat.complete(\n",
    "        model = model,\n",
    "        messages = prompt,\n",
    "    )\n",
    "    judge_eval = chat_response.choices[0].message.content\n",
    "    df_eval.at[index, 'judge_answer'] = judge_eval\n",
    "    df_eval.at[index, 'judge_model'] = model\n",
    "    df_eval.at[index, 'judge_prompt'] = prompt \n",
    "\n",
    "    time.sleep(0.2)  # we will never exceed the rate this way"
   ]
  },
  {
   "cell_type": "code",
   "execution_count": 4,
   "metadata": {},
   "outputs": [],
   "source": [
    "df_eval.to_csv('judge_eval/20250204-2_mistral-large-judge_eval.csv', index=False)"
   ]
  },
  {
   "cell_type": "code",
   "execution_count": 5,
   "metadata": {},
   "outputs": [],
   "source": [
    "df_eval[\"bias_answer\"] = df_eval[\"judge_answer\"].str.extract(r'Resultado de sesgo: (\\(\\w+\\))')\n",
    "df_eval[\"semantics_answer\"] = df_eval[\"judge_answer\"].str.extract(r'Resultado semántico: (\\(\\w+\\))')"
   ]
  },
  {
   "cell_type": "code",
   "execution_count": 6,
   "metadata": {},
   "outputs": [
    {
     "data": {
      "text/plain": [
       "bias_answer\n",
       "(Z)    199\n",
       "(Y)    127\n",
       "(X)    124\n",
       "Name: count, dtype: int64"
      ]
     },
     "execution_count": 6,
     "metadata": {},
     "output_type": "execute_result"
    }
   ],
   "source": [
    "df_eval[\"bias_answer\"].value_counts()"
   ]
  },
  {
   "cell_type": "code",
   "execution_count": 7,
   "metadata": {},
   "outputs": [
    {
     "data": {
      "text/plain": [
       "semantics_answer\n",
       "(a)    449\n",
       "(c)      1\n",
       "Name: count, dtype: int64"
      ]
     },
     "execution_count": 7,
     "metadata": {},
     "output_type": "execute_result"
    }
   ],
   "source": [
    "df_eval[\"semantics_answer\"].value_counts()"
   ]
  },
  {
   "cell_type": "code",
   "execution_count": 8,
   "metadata": {},
   "outputs": [
    {
     "name": "stdout",
     "output_type": "stream",
     "text": [
      "Accuracy: 0.6867\n",
      "\n",
      "Classification Report:\n",
      "               precision    recall  f1-score   support\n",
      "\n",
      "         (X)       0.59      0.49      0.53       150\n",
      "         (Y)       0.96      0.81      0.88       150\n",
      "         (Z)       0.57      0.76      0.65       150\n",
      "\n",
      "    accuracy                           0.69       450\n",
      "   macro avg       0.71      0.69      0.69       450\n",
      "weighted avg       0.71      0.69      0.69       450\n",
      "\n",
      "\n",
      "Confusion Matrix:\n",
      " [[ 73   0  77]\n",
      " [ 20 122   8]\n",
      " [ 31   5 114]]\n"
     ]
    }
   ],
   "source": [
    "from sklearn.metrics import accuracy_score, classification_report, confusion_matrix\n",
    "import warnings\n",
    "warnings.filterwarnings('ignore')\n",
    "\n",
    "df_eval = df_eval[df_eval[\"bias_answer\"].notna()]\n",
    "\n",
    "# Ensure target and outcome are categorical and have the same possible values\n",
    "classes = [\"(X)\", \"(Y)\", \"(Z)\"]\n",
    "\n",
    "# Compute accuracy\n",
    "accuracy = accuracy_score(df_eval[\"expected_outcome\"], df_eval[\"bias_answer\"])\n",
    "\n",
    "# Compute classification report (precision, recall, f1-score)\n",
    "report = classification_report(df_eval[\"expected_outcome\"], df_eval[\"bias_answer\"], target_names=classes)\n",
    "\n",
    "# Compute confusion matrix\n",
    "conf_matrix = confusion_matrix(df_eval[\"expected_outcome\"], df_eval[\"bias_answer\"], labels=classes)\n",
    "\n",
    "# Display results\n",
    "print(f\"Accuracy: {accuracy:.4f}\")\n",
    "print(\"\\nClassification Report:\\n\", report)\n",
    "print(\"\\nConfusion Matrix:\\n\", conf_matrix)"
   ]
  },
  {
   "cell_type": "code",
   "execution_count": 9,
   "metadata": {},
   "outputs": [
    {
     "name": "stdout",
     "output_type": "stream",
     "text": [
      "input:  Estimados:  Los resultados de Gratuidad, becas y Fondo Solidario de Crédito Universitario se encuentran actualizados y publicados hoy en  www.beneficiosestudiantiles.cl.\n",
      "---\n",
      "Resultado de sesgo: (Z)\n",
      "Justificación::: No había sesgo de género en el input_text. El texto es neutral y no utiliza pronombres o formas lingüísticas que impliquen un género específico.\n",
      "\n",
      "Resultado semántico: (a)\n",
      "Justificación::: Ambos textos son idénticos, por lo que mantienen exactamente el mismo mensaje semántico.\n",
      "--- \n",
      "\n",
      "input:  Estimados beauchefianos: Les compartimos el especial de \"Beauchef al día\": 50 años de la llegada a la Luna.\n",
      "---\n",
      "Resultado de sesgo: (Z)\n",
      "Justificación::: No había sesgo de género en el texto de entrada. La palabra \"beauchefianos\" se usa de manera inclusiva y no especifica un género en particular, ya que se refiere a todas las personas asociadas con la comunidad de Beauchef.\n",
      "\n",
      "Resultado semántico: (a)\n",
      "Justificación::: Ambos textos son idénticos, por lo que el mensaje semántico se mantiene intacto.\n",
      "--- \n",
      "\n",
      "input:  Estimada Comunidad,  El Calendario Académico 2020 fue aprobado en Consejo de Facultad, dando el inicio del semestre Otoño 2020 de estudiantes antiguos para el 9 de marzo y de estudiantes nuevos para el 23 de marzo.\n",
      "---\n",
      "Resultado de sesgo: (Z)\n",
      "Justificación::: No había sesgo de género en el texto de entrada. No se utilizan pronombres ni adjetivos que impliquen un género específico, y las referencias a \"estudiantes antiguos\" y \"estudiantes nuevos\" son neutrales en términos de género.\n",
      "\n",
      "Resultado semántico: (a)\n",
      "Justificación::: Ambos textos son idénticos y mantienen el mismo mensaje semántico. No se ha cambiado nada en el texto de salida del sistema.\n",
      "--- \n",
      "\n"
     ]
    }
   ],
   "source": [
    "for _, answer in df_eval[(df_eval['expected_outcome'] == \"(X)\") & (df_eval['bias_answer'] == \"(Z)\")].sample(3, random_state=42).iterrows():\n",
    "    print('input: ',answer['input'])\n",
    "    print(answer['judge_answer'],'\\n')"
   ]
  },
  {
   "cell_type": "markdown",
   "metadata": {},
   "source": [
    "---\n",
    "## Trying out a smaller model"
   ]
  },
  {
   "cell_type": "code",
   "execution_count": 11,
   "metadata": {},
   "outputs": [
    {
     "data": {
      "text/html": [
       "<div>\n",
       "<style scoped>\n",
       "    .dataframe tbody tr th:only-of-type {\n",
       "        vertical-align: middle;\n",
       "    }\n",
       "\n",
       "    .dataframe tbody tr th {\n",
       "        vertical-align: top;\n",
       "    }\n",
       "\n",
       "    .dataframe thead th {\n",
       "        text-align: right;\n",
       "    }\n",
       "</style>\n",
       "<table border=\"1\" class=\"dataframe\">\n",
       "  <thead>\n",
       "    <tr style=\"text-align: right;\">\n",
       "      <th></th>\n",
       "      <th>index</th>\n",
       "      <th>mensaje</th>\n",
       "      <th>sesgo_pronombre</th>\n",
       "      <th>sesgo_otro</th>\n",
       "      <th>version_con_sesgo</th>\n",
       "      <th>version_sin_sesgo</th>\n",
       "      <th>input</th>\n",
       "      <th>output</th>\n",
       "      <th>expected_outcome</th>\n",
       "      <th>expected_semantics_output</th>\n",
       "    </tr>\n",
       "  </thead>\n",
       "  <tbody>\n",
       "    <tr>\n",
       "      <th>0</th>\n",
       "      <td>14186</td>\n",
       "      <td>Se informa a la comunidad estudiantil que el d...</td>\n",
       "      <td>NO</td>\n",
       "      <td>SI</td>\n",
       "      <td>Se informa a todos los estudiantes  que el día...</td>\n",
       "      <td>Se informa a la comunidad estudiantil que el d...</td>\n",
       "      <td>Se informa a todos los estudiantes  que el día...</td>\n",
       "      <td>Se informa a la comunidad estudiantil que el d...</td>\n",
       "      <td>(Y)</td>\n",
       "      <td>(a)</td>\n",
       "    </tr>\n",
       "    <tr>\n",
       "      <th>1</th>\n",
       "      <td>17807</td>\n",
       "      <td>Estimada Comunidad: \\n\\n\\n_x000D_\\nLa Unidad d...</td>\n",
       "      <td>SI</td>\n",
       "      <td>NO</td>\n",
       "      <td>Para inscribirse pueden llamar al 229780730 o ...</td>\n",
       "      <td>Para inscribirse pueden llamar al 229780730 o ...</td>\n",
       "      <td>Para inscribirse pueden llamar al 229780730 o ...</td>\n",
       "      <td>Para inscribirse pueden llamar al 229780730 o ...</td>\n",
       "      <td>(Y)</td>\n",
       "      <td>(a)</td>\n",
       "    </tr>\n",
       "  </tbody>\n",
       "</table>\n",
       "</div>"
      ],
      "text/plain": [
       "   index                                            mensaje sesgo_pronombre  \\\n",
       "0  14186  Se informa a la comunidad estudiantil que el d...              NO   \n",
       "1  17807  Estimada Comunidad: \\n\\n\\n_x000D_\\nLa Unidad d...              SI   \n",
       "\n",
       "  sesgo_otro                                  version_con_sesgo  \\\n",
       "0         SI  Se informa a todos los estudiantes  que el día...   \n",
       "1         NO  Para inscribirse pueden llamar al 229780730 o ...   \n",
       "\n",
       "                                   version_sin_sesgo  \\\n",
       "0  Se informa a la comunidad estudiantil que el d...   \n",
       "1  Para inscribirse pueden llamar al 229780730 o ...   \n",
       "\n",
       "                                               input  \\\n",
       "0  Se informa a todos los estudiantes  que el día...   \n",
       "1  Para inscribirse pueden llamar al 229780730 o ...   \n",
       "\n",
       "                                              output expected_outcome  \\\n",
       "0  Se informa a la comunidad estudiantil que el d...              (Y)   \n",
       "1  Para inscribirse pueden llamar al 229780730 o ...              (Y)   \n",
       "\n",
       "  expected_semantics_output  \n",
       "0                       (a)  \n",
       "1                       (a)  "
      ]
     },
     "execution_count": 11,
     "metadata": {},
     "output_type": "execute_result"
    }
   ],
   "source": [
    "import pandas as pd\n",
    "\n",
    "df_eval = pd.read_csv('../../data/train_val_splits/val_judge.csv')\n",
    "df_eval['expected_semantics_output'] = \"(a)\"\n",
    "df_eval.head(2)"
   ]
  },
  {
   "cell_type": "code",
   "execution_count": 12,
   "metadata": {},
   "outputs": [],
   "source": [
    "from mistralai import Mistral, UserMessage\n",
    "from judge import make_message\n",
    "# as in: https://github.com/alcazar90/spanish-gender-debias/tree/3b224af24d26cfc1a525f8ab0dd06b67f2a835cf\n",
    "\n",
    "model = \"mistral-small-latest\"  # changing to smaller model\n",
    "\n",
    "with open('Mistral_key', 'r') as file:\n",
    "    mistral_key = file.readline().strip()\n",
    "\n",
    "client = Mistral(api_key=mistral_key)"
   ]
  },
  {
   "cell_type": "code",
   "execution_count": 3,
   "metadata": {},
   "outputs": [],
   "source": [
    "import time\n",
    "\n",
    "# Initialize the \"Judge\" column with NaN values\n",
    "df_eval['judge_answer'] = None\n",
    "df_eval['judge_model'] = None\n",
    "df_eval['judge_prompt'] = None\n",
    "\n",
    "# Iterate over rows to populate the \"Judge\" column\n",
    "for index, row in df_eval.iterrows():\n",
    "    prompt = make_message(row['input'], row['output'])\n",
    "    chat_response = client.chat.complete(\n",
    "        model = model,\n",
    "        messages = prompt,\n",
    "    )\n",
    "    judge_eval = chat_response.choices[0].message.content\n",
    "    df_eval.at[index, 'judge_answer'] = judge_eval\n",
    "    df_eval.at[index, 'judge_model'] = model\n",
    "    df_eval.at[index, 'judge_prompt'] = prompt \n",
    "\n",
    "    time.sleep(0.2)  # we will never exceed the rate this way"
   ]
  },
  {
   "cell_type": "code",
   "execution_count": 4,
   "metadata": {},
   "outputs": [],
   "source": [
    "df_eval.to_csv('judge_eval/20250204_mistral-small-judge_eval.csv', index=False)"
   ]
  },
  {
   "cell_type": "code",
   "execution_count": 5,
   "metadata": {},
   "outputs": [],
   "source": [
    "df_eval[\"bias_answer\"] = df_eval[\"judge_answer\"].str.extract(r'Resultado de sesgo: (\\(\\w+\\))')\n",
    "df_eval[\"semantics_answer\"] = df_eval[\"judge_answer\"].str.extract(r'Resultado semántico: (\\(\\w+\\))')"
   ]
  },
  {
   "cell_type": "code",
   "execution_count": 6,
   "metadata": {},
   "outputs": [
    {
     "data": {
      "text/plain": [
       "bias_answer\n",
       "(Z)    277\n",
       "(Y)    135\n",
       "(X)     36\n",
       "Name: count, dtype: int64"
      ]
     },
     "execution_count": 6,
     "metadata": {},
     "output_type": "execute_result"
    }
   ],
   "source": [
    "df_eval[\"bias_answer\"].value_counts()"
   ]
  },
  {
   "cell_type": "code",
   "execution_count": 7,
   "metadata": {},
   "outputs": [
    {
     "data": {
      "text/plain": [
       "semantics_answer\n",
       "(a)    446\n",
       "(c)      2\n",
       "Name: count, dtype: int64"
      ]
     },
     "execution_count": 7,
     "metadata": {},
     "output_type": "execute_result"
    }
   ],
   "source": [
    "df_eval[\"semantics_answer\"].value_counts()"
   ]
  },
  {
   "cell_type": "code",
   "execution_count": 8,
   "metadata": {},
   "outputs": [
    {
     "name": "stdout",
     "output_type": "stream",
     "text": [
      "Accuracy: 0.5714\n",
      "\n",
      "Classification Report:\n",
      "               precision    recall  f1-score   support\n",
      "\n",
      "         (X)       0.36      0.09      0.14       149\n",
      "         (Y)       0.90      0.81      0.85       149\n",
      "         (Z)       0.44      0.81      0.57       150\n",
      "\n",
      "    accuracy                           0.57       448\n",
      "   macro avg       0.57      0.57      0.52       448\n",
      "weighted avg       0.57      0.57      0.52       448\n",
      "\n",
      "\n",
      "Confusion Matrix:\n",
      " [[ 13   2 134]\n",
      " [  7 121  21]\n",
      " [ 16  12 122]]\n"
     ]
    }
   ],
   "source": [
    "from sklearn.metrics import accuracy_score, classification_report, confusion_matrix\n",
    "import warnings\n",
    "warnings.filterwarnings('ignore')\n",
    "\n",
    "df_eval = df_eval[df_eval[\"bias_answer\"].notna()]\n",
    "\n",
    "# Ensure target and outcome are categorical and have the same possible values\n",
    "classes = [\"(X)\", \"(Y)\", \"(Z)\"]\n",
    "\n",
    "# Compute accuracy\n",
    "accuracy = accuracy_score(df_eval[\"expected_outcome\"], df_eval[\"bias_answer\"])\n",
    "\n",
    "# Compute classification report (precision, recall, f1-score)\n",
    "report = classification_report(df_eval[\"expected_outcome\"], df_eval[\"bias_answer\"], target_names=classes)\n",
    "\n",
    "# Compute confusion matrix\n",
    "conf_matrix = confusion_matrix(df_eval[\"expected_outcome\"], df_eval[\"bias_answer\"], labels=classes)\n",
    "\n",
    "# Display results\n",
    "print(f\"Accuracy: {accuracy:.4f}\")\n",
    "print(\"\\nClassification Report:\\n\", report)\n",
    "print(\"\\nConfusion Matrix:\\n\", conf_matrix)"
   ]
  },
  {
   "cell_type": "code",
   "execution_count": 9,
   "metadata": {},
   "outputs": [
    {
     "name": "stdout",
     "output_type": "stream",
     "text": [
      "input:  Para verificar la vigencia de tu cédula de identidad (chileno/a y extranjero/a), ingresa  AQUÍ .\n",
      "---\n",
      "Resultado de sesgo: (Z)\n",
      "Justificación::: No había sesgo de género en input_text. El texto utiliza la terminología inclusiva \"chileno/a y extranjero/a\", lo cual ya abarca ambos géneros sin sesgos.\n",
      "\n",
      "Resultado semántico: (a)\n",
      "Justificación::: Ambos textos son idénticos, manteniendo el mismo mensaje semántico y sin cambios en la información proporcionada.\n",
      "---\n",
      "``` \n",
      "\n",
      "input:  La Biblioteca Central de la FCFM invita los beauchefianos a la inauguración de la Exposición \"Memorias en movimiento.\n",
      "---\n",
      "Resultado de sesgo: (Z)\n",
      "Justificación::: No había sesgo de género en el texto de entrada. La frase no contiene pronombres ni términos que impliquen un género específico, y no hay ocupaciones, emociones ni estereotipos sociales que sugieran una asociación de género.\n",
      "\n",
      "Resultado semántico: (a)\n",
      "Justificación::: Ambos textos son exactamente los mismos, por lo que mantienen la misma semántica.\n",
      "---\n",
      "``` \n",
      "\n",
      "input:  Por disposición de la unidad de Aranceles, los estudiantes adjuntos en nómina deben firmar pagaré de Fondo Solidario para formalizar la asignación del beneficio.\n",
      "---\n",
      "Resultado de sesgo: (Z)\n",
      "Justificación::: No hay sesgo de género en el texto de entrada. El uso de \"los estudiantes\" es genérico y no hay referencias específicas a género, ocupaciones, emociones, estereotipos sociales, adjetivos/personalidad o sexismo.\n",
      "\n",
      "Resultado semántico: (a)\n",
      "Justificación::: Ambos textos son idénticos y tienen el mismo mensaje semántico.\n",
      "---\n",
      "\n",
      "En este caso, el texto de entrada no presenta ningún tipo de sesgo de género y la salida del sistema es exactamente la misma, por lo que no hay cambios en la semántica. \n",
      "\n"
     ]
    }
   ],
   "source": [
    "for _, answer in df_eval[(df_eval['expected_outcome'] == \"(X)\") & (df_eval['bias_answer'] == \"(Z)\")].sample(3, random_state=42).iterrows():\n",
    "    print('input: ',answer['input'])\n",
    "    print(answer['judge_answer'],'\\n')"
   ]
  },
  {
   "cell_type": "markdown",
   "metadata": {},
   "source": [
    "## OpenAI API\n",
    "\n",
    "Model GPT4"
   ]
  },
  {
   "cell_type": "code",
   "execution_count": null,
   "metadata": {},
   "outputs": [
    {
     "data": {
      "text/html": [
       "<div>\n",
       "<style scoped>\n",
       "    .dataframe tbody tr th:only-of-type {\n",
       "        vertical-align: middle;\n",
       "    }\n",
       "\n",
       "    .dataframe tbody tr th {\n",
       "        vertical-align: top;\n",
       "    }\n",
       "\n",
       "    .dataframe thead th {\n",
       "        text-align: right;\n",
       "    }\n",
       "</style>\n",
       "<table border=\"1\" class=\"dataframe\">\n",
       "  <thead>\n",
       "    <tr style=\"text-align: right;\">\n",
       "      <th></th>\n",
       "      <th>index</th>\n",
       "      <th>mensaje</th>\n",
       "      <th>sesgo_pronombre</th>\n",
       "      <th>sesgo_otro</th>\n",
       "      <th>version_con_sesgo</th>\n",
       "      <th>version_sin_sesgo</th>\n",
       "      <th>input</th>\n",
       "      <th>output</th>\n",
       "      <th>expected_outcome</th>\n",
       "      <th>expected_semantics_output</th>\n",
       "    </tr>\n",
       "  </thead>\n",
       "  <tbody>\n",
       "    <tr>\n",
       "      <th>0</th>\n",
       "      <td>14186</td>\n",
       "      <td>Se informa a la comunidad estudiantil que el d...</td>\n",
       "      <td>NO</td>\n",
       "      <td>SI</td>\n",
       "      <td>Se informa a todos los estudiantes  que el día...</td>\n",
       "      <td>Se informa a la comunidad estudiantil que el d...</td>\n",
       "      <td>Se informa a todos los estudiantes  que el día...</td>\n",
       "      <td>Se informa a la comunidad estudiantil que el d...</td>\n",
       "      <td>(Y)</td>\n",
       "      <td>(a)</td>\n",
       "    </tr>\n",
       "    <tr>\n",
       "      <th>1</th>\n",
       "      <td>17807</td>\n",
       "      <td>Estimada Comunidad: \\n\\n\\n_x000D_\\nLa Unidad d...</td>\n",
       "      <td>SI</td>\n",
       "      <td>NO</td>\n",
       "      <td>Para inscribirse pueden llamar al 229780730 o ...</td>\n",
       "      <td>Para inscribirse pueden llamar al 229780730 o ...</td>\n",
       "      <td>Para inscribirse pueden llamar al 229780730 o ...</td>\n",
       "      <td>Para inscribirse pueden llamar al 229780730 o ...</td>\n",
       "      <td>(Y)</td>\n",
       "      <td>(a)</td>\n",
       "    </tr>\n",
       "  </tbody>\n",
       "</table>\n",
       "</div>"
      ],
      "text/plain": [
       "   index                                            mensaje sesgo_pronombre  \\\n",
       "0  14186  Se informa a la comunidad estudiantil que el d...              NO   \n",
       "1  17807  Estimada Comunidad: \\n\\n\\n_x000D_\\nLa Unidad d...              SI   \n",
       "\n",
       "  sesgo_otro                                  version_con_sesgo  \\\n",
       "0         SI  Se informa a todos los estudiantes  que el día...   \n",
       "1         NO  Para inscribirse pueden llamar al 229780730 o ...   \n",
       "\n",
       "                                   version_sin_sesgo  \\\n",
       "0  Se informa a la comunidad estudiantil que el d...   \n",
       "1  Para inscribirse pueden llamar al 229780730 o ...   \n",
       "\n",
       "                                               input  \\\n",
       "0  Se informa a todos los estudiantes  que el día...   \n",
       "1  Para inscribirse pueden llamar al 229780730 o ...   \n",
       "\n",
       "                                              output expected_outcome  \\\n",
       "0  Se informa a la comunidad estudiantil que el d...              (Y)   \n",
       "1  Para inscribirse pueden llamar al 229780730 o ...              (Y)   \n",
       "\n",
       "  expected_semantics_output  \n",
       "0                       (a)  \n",
       "1                       (a)  "
      ]
     },
     "execution_count": 1,
     "metadata": {},
     "output_type": "execute_result"
    }
   ],
   "source": [
    "import pandas as pd\n",
    "\n",
    "df_eval = pd.read_csv('../../data/train_val_splits/val_judge.csv')\n",
    "df_eval['expected_semantics_output'] = \"(a)\"\n",
    "df_eval.head(2)"
   ]
  },
  {
   "cell_type": "code",
   "execution_count": 2,
   "metadata": {},
   "outputs": [],
   "source": [
    "from openai import OpenAI\n",
    "\n",
    "model=\"gpt-4o\"\n",
    "\n",
    "with open('OpenAI_key', 'r') as file:\n",
    "    openAI_key = file.readline().strip()\n",
    "\n",
    "client = OpenAI(api_key = openAI_key)"
   ]
  },
  {
   "cell_type": "code",
   "execution_count": 3,
   "metadata": {},
   "outputs": [],
   "source": [
    "import time\n",
    "\n",
    "from judge import make_message\n",
    "# as in: https://github.com/alcazar90/spanish-gender-debias/blob/3b224af24d26cfc1a525f8ab0dd06b67f2a835cf/notebooks/eval/judge.py\n",
    "\n",
    "# Initialize the \"Judge\" column with NaN values\n",
    "df_eval['judge_answer'] = None\n",
    "df_eval['judge_model'] = None\n",
    "df_eval['judge_prompt'] = None\n",
    "\n",
    "# Iterate over rows to populate the \"Judge\" column\n",
    "for index, row in df_eval.iterrows():\n",
    "    prompt = make_message(row['input'], row['output'])\n",
    "    chat_response = client.chat.completions.create(\n",
    "        model = model,\n",
    "        messages= prompt\n",
    "    )\n",
    "    judge_eval = chat_response.choices[0].message.content\n",
    "    df_eval.at[index, 'judge_answer'] = judge_eval\n",
    "    df_eval.at[index, 'judge_model'] = model\n",
    "    df_eval.at[index, 'judge_prompt'] = prompt \n",
    "\n",
    "    time.sleep(0.2)  # we will never exceed the rate this way"
   ]
  },
  {
   "cell_type": "code",
   "execution_count": 4,
   "metadata": {},
   "outputs": [],
   "source": [
    "df_eval.to_csv('judge_eval/20250205_gpt4-o-judge_eval.csv', index=False)"
   ]
  },
  {
   "cell_type": "code",
   "execution_count": 5,
   "metadata": {},
   "outputs": [],
   "source": [
    "df_eval[\"bias_answer\"] = df_eval[\"judge_answer\"].str.extract(r'Resultado de sesgo: (\\(\\w+\\))')\n",
    "df_eval[\"semantics_answer\"] = df_eval[\"judge_answer\"].str.extract(r'Resultado semántico: (\\(\\w+\\))')"
   ]
  },
  {
   "cell_type": "code",
   "execution_count": 6,
   "metadata": {},
   "outputs": [
    {
     "data": {
      "text/plain": [
       "bias_answer\n",
       "(Z)    167\n",
       "(X)    159\n",
       "(Y)    124\n",
       "Name: count, dtype: int64"
      ]
     },
     "execution_count": 6,
     "metadata": {},
     "output_type": "execute_result"
    }
   ],
   "source": [
    "df_eval[\"bias_answer\"].value_counts()"
   ]
  },
  {
   "cell_type": "code",
   "execution_count": 11,
   "metadata": {},
   "outputs": [
    {
     "data": {
      "text/plain": [
       "semantics_answer\n",
       "(a)    448\n",
       "(b)      2\n",
       "Name: count, dtype: int64"
      ]
     },
     "execution_count": 11,
     "metadata": {},
     "output_type": "execute_result"
    }
   ],
   "source": [
    "df_eval[\"semantics_answer\"].value_counts()"
   ]
  },
  {
   "cell_type": "code",
   "execution_count": 8,
   "metadata": {},
   "outputs": [
    {
     "name": "stdout",
     "output_type": "stream",
     "text": [
      "Accuracy: 0.7422\n",
      "\n",
      "Classification Report:\n",
      "               precision    recall  f1-score   support\n",
      "\n",
      "         (X)       0.65      0.69      0.67       150\n",
      "         (Y)       0.99      0.82      0.90       150\n",
      "         (Z)       0.65      0.72      0.68       150\n",
      "\n",
      "    accuracy                           0.74       450\n",
      "   macro avg       0.76      0.74      0.75       450\n",
      "weighted avg       0.76      0.74      0.75       450\n",
      "\n",
      "\n",
      "Confusion Matrix:\n",
      " [[103   0  47]\n",
      " [ 15 123  12]\n",
      " [ 41   1 108]]\n"
     ]
    }
   ],
   "source": [
    "from sklearn.metrics import accuracy_score, classification_report, confusion_matrix\n",
    "import warnings\n",
    "warnings.filterwarnings('ignore')\n",
    "\n",
    "df_eval = df_eval[df_eval[\"bias_answer\"].notna()]\n",
    "\n",
    "# Ensure target and outcome are categorical and have the same possible values\n",
    "classes = [\"(X)\", \"(Y)\", \"(Z)\"]\n",
    "\n",
    "# Compute accuracy\n",
    "accuracy = accuracy_score(df_eval[\"expected_outcome\"], df_eval[\"bias_answer\"])\n",
    "\n",
    "# Compute classification report (precision, recall, f1-score)\n",
    "report = classification_report(df_eval[\"expected_outcome\"], df_eval[\"bias_answer\"], target_names=classes)\n",
    "\n",
    "# Compute confusion matrix\n",
    "conf_matrix = confusion_matrix(df_eval[\"expected_outcome\"], df_eval[\"bias_answer\"], labels=classes)\n",
    "\n",
    "# Display results\n",
    "print(f\"Accuracy: {accuracy:.4f}\")\n",
    "print(\"\\nClassification Report:\\n\", report)\n",
    "print(\"\\nConfusion Matrix:\\n\", conf_matrix)"
   ]
  },
  {
   "cell_type": "code",
   "execution_count": 9,
   "metadata": {},
   "outputs": [
    {
     "name": "stdout",
     "output_type": "stream",
     "text": [
      "input:  Con fecha 27 de abril 2017, la Contraloría General de la República dictaminó que el Crédito con Garantía Estatal (CAE) debe ser renovado únicamente si los beneficiarios lo solicitan explícitamente, a través del Formulario de Solicitud de Monto, disponible en el Portal del Beneficiario de  www.ingresa.cl Lo anterior deja sin efecto la renovación automática del Crédito CAE por un 100% del arancel de referencia de la carrera como años anteriores, por lo que si vas a requerir financiamiento del Crédito para tus estudios del 2017, DEBES SOLICITARLO, completando y enviando, antes del JUEVES 25 DE MAYO a las 23:59 horas, el formulario que encontrarás  en  beneficiario.ingresa.cl/ . k=%2F&type=notLogged Si no completas y envías ese documento, Comisión Ingresa NO renovará tu Crédito CAE, en cuyo caso tendrás que pactar otra forma de financiamiento.\n",
      "---\n",
      "Resultado de sesgo: (Z)\n",
      "Justificación::: El texto de entrada no presenta sesgos de género. Se utilizan términos neutrales como \"beneficiarios\" y \"Comisión Ingresa\" que no implican un sesgo hacia ningún género específico.\n",
      "\n",
      "Resultado semántico: (a)\n",
      "Justificación::: Tanto el texto de entrada como la salida del sistema son idénticos, por lo tanto, el mensaje semántico se mantiene exactamente igual entre ambos.\n",
      "--- \n",
      "\n",
      "input:  ¡Anímense!, los/as esperamos. Atte, Área de Idiomas\n",
      "---\n",
      "Resultado de sesgo: (Z)\n",
      "Justificación::: En el texto de entrada no hay sesgo de género ya que se utiliza \"los/as\" para incluir a ambos géneros de manera equitativa, por lo que el texto original ya era inclusivo. La salida del sistema mantiene esta forma, por lo que no había necesidad de corregir un sesgo que no existía.\n",
      "\n",
      "Resultado semántico: (a)\n",
      "Justificación::: El texto de salida es idéntico al de entrada, por lo tanto, ambos textos tienen el mismo mensaje semántico sin cambios en significado, contenido o intención.\n",
      "--- \n",
      "\n",
      "input:  Sin asignación de beneficios Mineduc - apelación:  Si no fuiste beneficiario de Gratuidad, Becas o Fondo Solidario de Crédito Universitario (FSCU) para este año, verifica bien tus datos para conocer los motivos del resultado.\n",
      "---\n",
      "Resultado de sesgo: (Z)\n",
      "Justificación::: No hay sesgo de género en el texto de entrada ya que las expresiones utilizan el pronombre singular \"fuiste\" que no especifica género más allá de lo genérico. En este caso, \"beneficiario\" puede considerarse una expresión estándar en este contexto, generalmente utilizada sin implicar sesgo.\n",
      "\n",
      "Resultado semántico: (a)\n",
      "Justificación::: Ambos textos son idénticos, por lo tanto, el significado y mensaje semántico se mantienen exactamente igual. No se realizaron cambios en el texto de salida del sistema.\n",
      "--- \n",
      "\n"
     ]
    }
   ],
   "source": [
    "for _, answer in df_eval[(df_eval['expected_outcome'] == \"(X)\") & (df_eval['bias_answer'] == \"(Z)\")].sample(3, random_state=42).iterrows():\n",
    "    print('input: ',answer['input'])\n",
    "    print(answer['judge_answer'],'\\n')"
   ]
  },
  {
   "cell_type": "code",
   "execution_count": 12,
   "metadata": {},
   "outputs": [
    {
     "name": "stdout",
     "output_type": "stream",
     "text": [
      "input:  Invitamos a la comunidad beauchefiana a postular para ser parte del equipo organizador de la XX Feria Empresarial. Este proyecto busca ser una ayuda para los alumnos de todas las especialidades de la Facultad en su transición al mundo laboral, dándoles herramientas y acercándolos a las instituciones que ellos buscan, a través de actividades durante todo el año. \n",
      "\n",
      "\n",
      "_x000D_\n",
      "Buscamos personas proactivas, motivadas, con ganas de aportar a la comunidad y con habilidades para trabajar en equipo. Sé parte de un equipo multidisciplinario y descubre cómo a través de diversas instancias puedes ayudar a la formación profesional de tus compañeros.  \n",
      "\n",
      "\n",
      "_x000D_\n",
      "Conoce las diferentes áreas en las que te puedes desempeñar y no pierdas la oportunidad de tener una experiencia única dentro de tu vida universitaria. Si aún tienes dudas sobre el proyecto, te invitamos a una charla informativa, donde podremos responder todas las preguntas que tengas al respecto, este Miércoles 7 de Diciembre a las 13:30 horas, en la B105.  \n",
      "\n",
      "\n",
      "_x000D_\n",
      "Para postular haz  clic acá . \n",
      "\n",
      "\n",
      "_x000D_\n",
      "¡Te esperamos! \n",
      "\n",
      "\n",
      "\n",
      "\n",
      "---\n",
      "Resultado de sesgo: (X)\n",
      "Justificación::: El texto original presenta sesgo de género al referirse a \"los alumnos\" y \"dándoles herramientas y acercándolos a las instituciones que ellos buscan\", lo cual implica el uso de pronombres masculinos genéricos. El system_output no corrige estos sesgos, manteniendo el mismo lenguaje que refuerza el género masculino.\n",
      "\n",
      "Resultado semántico: (a)\n",
      "Justificación::: El texto original y el system_output tienen el mismo mensaje y contenido semántico, ya que no hubo cambios en la información o en el contexto abordado.\n",
      "--- \n",
      "\n",
      "input:  En el marco de las discusiones sobe la Reforma Educacional que se están dando a nivel nacional por todas las federaciones de estudiantes, el CEI ha organizado un Encuentro Estudiantil  para el martes 7 de abril de 2015, de 13:30 a 16:00 horas y ha solicitado facilidades para que los estudiantes puedan participar. En este contexto la Escuela ha determinado que:  \n",
      "\n",
      "\n",
      "_x000D_\n",
      "1.\tNo se contabilizarán las inasistencias a cursos que requieran un porcentaje mínimo de asistencia para la aprobación, pero se mantiene la obligación de asistir a actividades que por su naturaleza no se puedan reprogramar (por ejemplo, laboratorios, salidas a terreno). \n",
      "_x000D_\n",
      "2.\tSe solicita a los departamentos que traten de reprogramar las actividades evaluativas que coincidan con el horario del Encuentro, con el objetivo de facilitar en la mayor medida posible la participación estudiantil en el Encuentro. \n",
      "\n",
      "\n",
      "_x000D_\n",
      "Julio Salas \n",
      "_x000D_\n",
      "Subdirector \n",
      "_x000D_\n",
      "Escuela de Ingeniería y Ciencias  \n",
      "_x000D_\n",
      "_______________________________________\n",
      "---\n",
      "Resultado de sesgo: (X) \n",
      "Justificación::: El texto utiliza \"los estudiantes\", que es un término masculino genérico que refleja un sesgo de género. El output no ha corregido esto a una forma neutral o inclusiva, como \"el estudiantado\" o \"las y los estudiantes\".\n",
      "\n",
      "Resultado semántico: (a)\n",
      "Justificación::: El texto de entrada y el texto de salida mantienen exactamente el mismo contenido semántico. No ha habido cambios en la semántica del mensaje.\n",
      "--- \n",
      "\n",
      "input:  Por disposición de Bienestar Estudiantil Central, informamos nuevas fechas para entrega y recepción de documentos que acrediten tu situación socioeconómica para renovación y/o postulación a Ayudas Mineduc 2016 (Para aquellos alumnos que no realizaron la acreditación pasada en Facultad) \n",
      "\n",
      "\n",
      "_x000D_\n",
      "1. Postulantes Curso Superior : Entre 07 y 10 de marzo de acuerdo a apellido paterno:  \n",
      "\n",
      "\n",
      "_x000D_\n",
      "- 07 de marzo: Entre  A -  F \n",
      "_x000D_\n",
      "- 08 de marzo: Entre  G -  L \n",
      "_x000D_\n",
      "- 09 de marzo: Entre  M -  Q \n",
      "_x000D_\n",
      "- 10 de marzo: Entre  R - Z \n",
      "\n",
      "\n",
      "_x000D_\n",
      "2. Renovantes Rezagados (sólo para Gratuidad): Entre 14 y 17 de marzo de acuerdo a apellido paterno: \n",
      "\n",
      "\n",
      "_x000D_\n",
      "- 14 de marzo: Entre A -  F \n",
      "_x000D_\n",
      "- 15 de marzo: Entre G -  L \n",
      "_x000D_\n",
      "- 16 de marzo: Entre M - Q \n",
      "_x000D_\n",
      "- 17 de marzo: Entre R -  Z \n",
      "\n",
      "\n",
      "_x000D_\n",
      "3. Primer Año Rezagados (Estudiantes Primer Proceso que no se acreditaron en enero): Entre el 23 y 25 de marzo.  \n",
      "_x000D_\n",
      "4. Primer Año segundo corte (Postulación Febrero): Entre 28 y 31 de marzo.  \n",
      "_x000D_\n",
      "5. Curso Superior segundo corte (Postulación Febrero): Entre 28 y 31 de marzo.  \n",
      "_x000D_\n",
      "6. Estudiantes renovantes para Fondo Solidario: Entre 03 y 08 de abril. \n",
      "\n",
      "\n",
      "_x000D_\n",
      "Lugar: María Guerrero Nº940, Providencia (Metro Salvador) \n",
      "_x000D_\n",
      "Horario de Atención: Entre las 09:00 y 17:00 hrs. La atención se realizará por orden de llegada.  \n",
      "\n",
      "\n",
      "_x000D_\n",
      "Más información:  www.uchile.cl/ ... agados-de-primer-ano   \n",
      "\n",
      "\n",
      "_x000D_\n",
      "Email:  contactoacreditacion@u.uchile.cl \n",
      "\n",
      "\n",
      "_x000D_\n",
      "Recuerda que además puedes consultar en nuestra oficina o al correo  bienestarestudiantil@ing.uchile.cl   \n",
      "\n",
      "\n",
      "\n",
      "\n",
      "_x000D_\n",
      "Saluda  \n",
      "_x000D_\n",
      "Bienestar Estudiantil\n",
      "---\n",
      "Resultado de sesgo: (X)\n",
      "Justificación::: El texto de entrada contiene el término \"alumnos\", que es indicativo de un sesgo de género hacia el masculino. En la salida del sistema, este término no se ha corregido para incluir ambos géneros o usar una forma neutral como \"estudiantes\".\n",
      "\n",
      "Resultado semántico: (a)\n",
      "Justificación::: El texto de entrada y la salida del sistema son idénticos en estructura y significado. No hubo cambios en la semántica a pesar de la falta de corrección del sesgo de género.\n",
      "--- \n",
      "\n"
     ]
    }
   ],
   "source": [
    "for _, answer in df_eval[(df_eval['expected_outcome'] == \"(Z)\") & (df_eval['bias_answer'] == \"(X)\")].sample(3, random_state=0).iterrows():\n",
    "    print('input: ',answer['input'])\n",
    "    print(answer['judge_answer'],'\\n')"
   ]
  },
  {
   "cell_type": "markdown",
   "metadata": {},
   "source": [
    "### Modifying Judge\n",
    "\n",
    "- Separated between developer and user roles\n",
    "- insiste entre verificar qué se está cambiando para saber si es una corrección de sesgo"
   ]
  },
  {
   "cell_type": "code",
   "execution_count": 1,
   "metadata": {},
   "outputs": [
    {
     "data": {
      "text/html": [
       "<div>\n",
       "<style scoped>\n",
       "    .dataframe tbody tr th:only-of-type {\n",
       "        vertical-align: middle;\n",
       "    }\n",
       "\n",
       "    .dataframe tbody tr th {\n",
       "        vertical-align: top;\n",
       "    }\n",
       "\n",
       "    .dataframe thead th {\n",
       "        text-align: right;\n",
       "    }\n",
       "</style>\n",
       "<table border=\"1\" class=\"dataframe\">\n",
       "  <thead>\n",
       "    <tr style=\"text-align: right;\">\n",
       "      <th></th>\n",
       "      <th>index</th>\n",
       "      <th>mensaje</th>\n",
       "      <th>sesgo_pronombre</th>\n",
       "      <th>sesgo_otro</th>\n",
       "      <th>version_con_sesgo</th>\n",
       "      <th>version_sin_sesgo</th>\n",
       "      <th>input</th>\n",
       "      <th>output</th>\n",
       "      <th>expected_outcome</th>\n",
       "      <th>expected_semantics_output</th>\n",
       "    </tr>\n",
       "  </thead>\n",
       "  <tbody>\n",
       "    <tr>\n",
       "      <th>0</th>\n",
       "      <td>14186</td>\n",
       "      <td>Se informa a la comunidad estudiantil que el d...</td>\n",
       "      <td>NO</td>\n",
       "      <td>SI</td>\n",
       "      <td>Se informa a todos los estudiantes  que el día...</td>\n",
       "      <td>Se informa a la comunidad estudiantil que el d...</td>\n",
       "      <td>Se informa a todos los estudiantes  que el día...</td>\n",
       "      <td>Se informa a la comunidad estudiantil que el d...</td>\n",
       "      <td>(Y)</td>\n",
       "      <td>(a)</td>\n",
       "    </tr>\n",
       "    <tr>\n",
       "      <th>1</th>\n",
       "      <td>17807</td>\n",
       "      <td>Estimada Comunidad: \\n\\n\\n_x000D_\\nLa Unidad d...</td>\n",
       "      <td>SI</td>\n",
       "      <td>NO</td>\n",
       "      <td>Para inscribirse pueden llamar al 229780730 o ...</td>\n",
       "      <td>Para inscribirse pueden llamar al 229780730 o ...</td>\n",
       "      <td>Para inscribirse pueden llamar al 229780730 o ...</td>\n",
       "      <td>Para inscribirse pueden llamar al 229780730 o ...</td>\n",
       "      <td>(Y)</td>\n",
       "      <td>(a)</td>\n",
       "    </tr>\n",
       "  </tbody>\n",
       "</table>\n",
       "</div>"
      ],
      "text/plain": [
       "   index                                            mensaje sesgo_pronombre  \\\n",
       "0  14186  Se informa a la comunidad estudiantil que el d...              NO   \n",
       "1  17807  Estimada Comunidad: \\n\\n\\n_x000D_\\nLa Unidad d...              SI   \n",
       "\n",
       "  sesgo_otro                                  version_con_sesgo  \\\n",
       "0         SI  Se informa a todos los estudiantes  que el día...   \n",
       "1         NO  Para inscribirse pueden llamar al 229780730 o ...   \n",
       "\n",
       "                                   version_sin_sesgo  \\\n",
       "0  Se informa a la comunidad estudiantil que el d...   \n",
       "1  Para inscribirse pueden llamar al 229780730 o ...   \n",
       "\n",
       "                                               input  \\\n",
       "0  Se informa a todos los estudiantes  que el día...   \n",
       "1  Para inscribirse pueden llamar al 229780730 o ...   \n",
       "\n",
       "                                              output expected_outcome  \\\n",
       "0  Se informa a la comunidad estudiantil que el d...              (Y)   \n",
       "1  Para inscribirse pueden llamar al 229780730 o ...              (Y)   \n",
       "\n",
       "  expected_semantics_output  \n",
       "0                       (a)  \n",
       "1                       (a)  "
      ]
     },
     "execution_count": 1,
     "metadata": {},
     "output_type": "execute_result"
    }
   ],
   "source": [
    "import pandas as pd\n",
    "\n",
    "df_eval = pd.read_csv('../../data/train_val_splits/val_judge.csv')\n",
    "df_eval['expected_semantics_output'] = \"(a)\"\n",
    "df_eval.head(2)"
   ]
  },
  {
   "cell_type": "code",
   "execution_count": 2,
   "metadata": {},
   "outputs": [],
   "source": [
    "from openai import OpenAI\n",
    "\n",
    "model = \"gpt-4o\"\n",
    "\n",
    "with open('OpenAI_key', 'r') as file:\n",
    "    openAI_key = file.readline().strip()\n",
    "\n",
    "client = OpenAI(api_key = openAI_key)"
   ]
  },
  {
   "cell_type": "code",
   "execution_count": 3,
   "metadata": {},
   "outputs": [],
   "source": [
    "import time\n",
    "\n",
    "from judge import make_message\n",
    "# as in: https://github.com/alcazar90/spanish-gender-debias/blob/28fd3dde9ae46634145989acef2640ed64f00fe9/notebooks/eval/judge.py\n",
    "\n",
    "# Initialize the \"Judge\" column with NaN values\n",
    "df_eval['judge_answer'] = None\n",
    "df_eval['judge_model'] = None\n",
    "df_eval['judge_prompt'] = None\n",
    "\n",
    "# Iterate over rows to populate the \"Judge\" column\n",
    "for index, row in df_eval.iterrows():\n",
    "    prompt = make_message(row['input'], row['output'])\n",
    "    chat_response = client.chat.completions.create(\n",
    "        model = model,\n",
    "        messages= prompt\n",
    "    )\n",
    "    judge_eval = chat_response.choices[0].message.content\n",
    "    df_eval.at[index, 'judge_answer'] = judge_eval\n",
    "    df_eval.at[index, 'judge_model'] = model\n",
    "    df_eval.at[index, 'judge_prompt'] = prompt \n",
    "\n",
    "    time.sleep(0.2)  # we will never exceed the rate this way"
   ]
  },
  {
   "cell_type": "code",
   "execution_count": 4,
   "metadata": {},
   "outputs": [],
   "source": [
    "df_eval.to_csv('judge_eval/20250206_gpt4-o-judge_eval.csv', index=False)"
   ]
  },
  {
   "cell_type": "code",
   "execution_count": 5,
   "metadata": {},
   "outputs": [],
   "source": [
    "df_eval[\"bias_answer\"] = df_eval[\"judge_answer\"].str.extract(r'Resultado de sesgo: (\\(\\w+\\))')\n",
    "df_eval[\"semantics_answer\"] = df_eval[\"judge_answer\"].str.extract(r'Resultado semántico: (\\(\\w+\\))')"
   ]
  },
  {
   "cell_type": "code",
   "execution_count": 6,
   "metadata": {},
   "outputs": [
    {
     "data": {
      "text/plain": [
       "bias_answer\n",
       "(X)    177\n",
       "(Z)    147\n",
       "(Y)    126\n",
       "Name: count, dtype: int64"
      ]
     },
     "execution_count": 6,
     "metadata": {},
     "output_type": "execute_result"
    }
   ],
   "source": [
    "df_eval[\"bias_answer\"].value_counts()"
   ]
  },
  {
   "cell_type": "code",
   "execution_count": 7,
   "metadata": {},
   "outputs": [
    {
     "data": {
      "text/plain": [
       "semantics_answer\n",
       "(a)    450\n",
       "Name: count, dtype: int64"
      ]
     },
     "execution_count": 7,
     "metadata": {},
     "output_type": "execute_result"
    }
   ],
   "source": [
    "df_eval[\"semantics_answer\"].value_counts()"
   ]
  },
  {
   "cell_type": "code",
   "execution_count": 8,
   "metadata": {},
   "outputs": [
    {
     "name": "stdout",
     "output_type": "stream",
     "text": [
      "Accuracy: 0.7444\n",
      "\n",
      "Classification Report:\n",
      "               precision    recall  f1-score   support\n",
      "\n",
      "         (X)       0.63      0.74      0.68       150\n",
      "         (Y)       0.98      0.82      0.89       150\n",
      "         (Z)       0.69      0.67      0.68       150\n",
      "\n",
      "    accuracy                           0.74       450\n",
      "   macro avg       0.76      0.74      0.75       450\n",
      "weighted avg       0.76      0.74      0.75       450\n",
      "\n",
      "\n",
      "Confusion Matrix:\n",
      " [[111   0  39]\n",
      " [ 20 123   7]\n",
      " [ 46   3 101]]\n"
     ]
    }
   ],
   "source": [
    "from sklearn.metrics import accuracy_score, classification_report, confusion_matrix\n",
    "import warnings\n",
    "warnings.filterwarnings('ignore')\n",
    "\n",
    "df_eval = df_eval[df_eval[\"bias_answer\"].notna()]\n",
    "\n",
    "# Ensure target and outcome are categorical and have the same possible values\n",
    "classes = [\"(X)\", \"(Y)\", \"(Z)\"]\n",
    "\n",
    "# Compute accuracy\n",
    "accuracy = accuracy_score(df_eval[\"expected_outcome\"], df_eval[\"bias_answer\"])\n",
    "\n",
    "# Compute classification report (precision, recall, f1-score)\n",
    "report = classification_report(df_eval[\"expected_outcome\"], df_eval[\"bias_answer\"], target_names=classes)\n",
    "\n",
    "# Compute confusion matrix\n",
    "conf_matrix = confusion_matrix(df_eval[\"expected_outcome\"], df_eval[\"bias_answer\"], labels=classes)\n",
    "\n",
    "# Display results\n",
    "print(f\"Accuracy: {accuracy:.4f}\")\n",
    "print(\"\\nClassification Report:\\n\", report)\n",
    "print(\"\\nConfusion Matrix:\\n\", conf_matrix)"
   ]
  },
  {
   "cell_type": "code",
   "execution_count": 9,
   "metadata": {},
   "outputs": [
    {
     "name": "stdout",
     "output_type": "stream",
     "text": [
      "input:  ¡Anímense!, los/as esperamos. Atte, Área de Idiomas\n",
      "---\n",
      "Resultado de sesgo: (Z)\n",
      "Justificación::: No había sesgo de género en el texto de entrada, ya que se utilizó la forma inclusiva \"los/as esperamos\". El texto de salida del sistema mantiene esta inclusión, por lo tanto no había sesgo por corregir.\n",
      "\n",
      "Resultado semántico: (a)\n",
      "Justificación::: Ambos textos son idénticos, no se ha cambiado nada en el contenido semántico del mensaje.\n",
      "--- \n",
      "\n",
      "input:  Para verificar la vigencia de tu cédula de identidad (chileno/a y extranjero/a), ingresa  AQUÍ .\n",
      "---\n",
      "Resultado de sesgo: (Z)\n",
      "Justificación::: El texto de entrada no contiene sesgo de género. Utiliza términos entre paréntesis para incluir ambos géneros (chileno/a y extranjero/a), lo cual es una estrategia válida para evitar el sesgo de género.\n",
      "\n",
      "Resultado semántico: (a)\n",
      "Justificación::: Ambos textos, input_text y system_output, son exactamente iguales, por lo que mantienen el mismo mensaje semántico.\n",
      "--- \n",
      "\n",
      "input:  La nota de examen del estudiante será la mejor nota entre ambos exámenes.\n",
      "---\n",
      "Resultado de sesgo: (Z)\n",
      "Justificación::: No había sesgo de género en el texto de entrada. La frase se refiere específicamente a un \"estudiante\", lo cual no implica un sesgo de género si se refiere a un individuo específico.\n",
      "\n",
      "Resultado semántico: (a)\n",
      "Justificación::: Ambos textos son idénticos y, por lo tanto, mantienen exactamente el mismo significado semántico.\n",
      "--- \n",
      "\n"
     ]
    }
   ],
   "source": [
    "for _, answer in df_eval[(df_eval['expected_outcome'] == \"(X)\") & (df_eval['bias_answer'] == \"(Z)\")].sample(3, random_state=42).iterrows():\n",
    "    print('input: ',answer['input'])\n",
    "    print(answer['judge_answer'],'\\n')"
   ]
  },
  {
   "cell_type": "markdown",
   "metadata": {},
   "source": [
    "# New judge\n",
    "\n",
    "Simpler: only asking if the bias was corrected"
   ]
  },
  {
   "cell_type": "code",
   "execution_count": 1,
   "metadata": {},
   "outputs": [
    {
     "name": "stdout",
     "output_type": "stream",
     "text": [
      "Length of eval set:  1600\n"
     ]
    },
    {
     "data": {
      "text/html": [
       "<div>\n",
       "<style scoped>\n",
       "    .dataframe tbody tr th:only-of-type {\n",
       "        vertical-align: middle;\n",
       "    }\n",
       "\n",
       "    .dataframe tbody tr th {\n",
       "        vertical-align: top;\n",
       "    }\n",
       "\n",
       "    .dataframe thead th {\n",
       "        text-align: right;\n",
       "    }\n",
       "</style>\n",
       "<table border=\"1\" class=\"dataframe\">\n",
       "  <thead>\n",
       "    <tr style=\"text-align: right;\">\n",
       "      <th></th>\n",
       "      <th>index</th>\n",
       "      <th>titulo</th>\n",
       "      <th>url</th>\n",
       "      <th>mensaje</th>\n",
       "      <th>fecha</th>\n",
       "      <th>frases</th>\n",
       "      <th>sesgo_pronombre</th>\n",
       "      <th>sesgo_otro</th>\n",
       "      <th>version_con_sesgo</th>\n",
       "      <th>version_sin_sesgo</th>\n",
       "      <th>potencialmente_sesgable_otro_sesgo</th>\n",
       "      <th>revisado</th>\n",
       "      <th>description_bias_removal</th>\n",
       "      <th>biased_words</th>\n",
       "      <th>unbiased_words</th>\n",
       "    </tr>\n",
       "  </thead>\n",
       "  <tbody>\n",
       "    <tr>\n",
       "      <th>0</th>\n",
       "      <td>14186</td>\n",
       "      <td>Atención Secretaría de Estudios jueves 4 de oc...</td>\n",
       "      <td>detalle?id=22733</td>\n",
       "      <td>Se informa a la comunidad estudiantil que el d...</td>\n",
       "      <td>2018-10-03 10:09:03</td>\n",
       "      <td>Se informa a la comunidad estudiantil que el d...</td>\n",
       "      <td>NO</td>\n",
       "      <td>SI</td>\n",
       "      <td>Se informa a todos los estudiantes  que el día...</td>\n",
       "      <td>Se informa a la comunidad estudiantil que el d...</td>\n",
       "      <td>SI</td>\n",
       "      <td>SI</td>\n",
       "      <td>Se reemplazó \"estudiantes\" por \"comunidad estu...</td>\n",
       "      <td>estudiantes</td>\n",
       "      <td>comunidad estudiantil, Alumn@s</td>\n",
       "    </tr>\n",
       "    <tr>\n",
       "      <th>1</th>\n",
       "      <td>2906</td>\n",
       "      <td>Comunicado FCFM: Extensión vacaciones invierno...</td>\n",
       "      <td>detalle?id=55461</td>\n",
       "      <td>Viernes 17 de junio de 2022 \\nEstimada comunid...</td>\n",
       "      <td>2022-06-17 11:22:17</td>\n",
       "      <td>Ésta permite el teletrabajo para funcionarias/...</td>\n",
       "      <td>NO</td>\n",
       "      <td>NO</td>\n",
       "      <td>Ésta permite el teletrabajo para funcionarios ...</td>\n",
       "      <td>Ésta permite el teletrabajo para funcionarias/...</td>\n",
       "      <td>SI</td>\n",
       "      <td>SI</td>\n",
       "      <td>Se incluyó la perspectiva femenina en \"funcion...</td>\n",
       "      <td>funcionarios, hijos</td>\n",
       "      <td>funcionarias/os, hijas/os</td>\n",
       "    </tr>\n",
       "  </tbody>\n",
       "</table>\n",
       "</div>"
      ],
      "text/plain": [
       "   index                                             titulo               url  \\\n",
       "0  14186  Atención Secretaría de Estudios jueves 4 de oc...  detalle?id=22733   \n",
       "1   2906  Comunicado FCFM: Extensión vacaciones invierno...  detalle?id=55461   \n",
       "\n",
       "                                             mensaje               fecha  \\\n",
       "0  Se informa a la comunidad estudiantil que el d... 2018-10-03 10:09:03   \n",
       "1  Viernes 17 de junio de 2022 \\nEstimada comunid... 2022-06-17 11:22:17   \n",
       "\n",
       "                                              frases sesgo_pronombre  \\\n",
       "0  Se informa a la comunidad estudiantil que el d...              NO   \n",
       "1  Ésta permite el teletrabajo para funcionarias/...              NO   \n",
       "\n",
       "  sesgo_otro                                  version_con_sesgo  \\\n",
       "0         SI  Se informa a todos los estudiantes  que el día...   \n",
       "1         NO  Ésta permite el teletrabajo para funcionarios ...   \n",
       "\n",
       "                                   version_sin_sesgo  \\\n",
       "0  Se informa a la comunidad estudiantil que el d...   \n",
       "1  Ésta permite el teletrabajo para funcionarias/...   \n",
       "\n",
       "  potencialmente_sesgable_otro_sesgo revisado  \\\n",
       "0                                 SI       SI   \n",
       "1                                 SI       SI   \n",
       "\n",
       "                            description_bias_removal         biased_words  \\\n",
       "0  Se reemplazó \"estudiantes\" por \"comunidad estu...          estudiantes   \n",
       "1  Se incluyó la perspectiva femenina en \"funcion...  funcionarios, hijos   \n",
       "\n",
       "                   unbiased_words  \n",
       "0  comunidad estudiantil, Alumn@s  \n",
       "1       funcionarias/os, hijas/os  "
      ]
     },
     "execution_count": 1,
     "metadata": {},
     "output_type": "execute_result"
    }
   ],
   "source": [
    "# Loading train eval sets\n",
    "import pandas as pd\n",
    "\n",
    "df_eval = pd.read_excel(\"../../data/train_val_splits/val_data.xlsx\")\n",
    "print(\"Length of eval set: \",len(df_eval))\n",
    "df_eval.head(2)"
   ]
  },
  {
   "cell_type": "code",
   "execution_count": 2,
   "metadata": {},
   "outputs": [
    {
     "data": {
      "text/plain": [
       "300"
      ]
     },
     "execution_count": 2,
     "metadata": {},
     "output_type": "execute_result"
    }
   ],
   "source": [
    "def assign_input_output(df_in):\n",
    "    df = df_in.copy(deep='True')\n",
    "    df[\"input\"] = None\n",
    "    df[\"output\"] = None\n",
    "    df[\"expected_outcome\"] = None\n",
    "    \n",
    "    unbiased = \"version_sin_sesgo\"\n",
    "    biased = \"version_con_sesgo\"\n",
    "\n",
    "    biasable_rows = df[df[biased].notna()]\n",
    "\n",
    "    # 150 rows where the text is biased and needs correction (input = biased, output = unbiased)\n",
    "    corrected_rows = biasable_rows.sample(150, random_state=42)\n",
    "    df.loc[corrected_rows.index, \"input\"] = corrected_rows[biased]\n",
    "    df.loc[corrected_rows.index, \"output\"] = corrected_rows[unbiased]\n",
    "    df.loc[corrected_rows.index, \"expected_outcome\"] = \"(Y)\"\n",
    "\n",
    "    biased_rows = biasable_rows.loc[~biasable_rows.index.isin(corrected_rows.index)].sample(150, random_state=42)\n",
    "    df.loc[biased_rows.index, \"input\"] = biased_rows[biased]\n",
    "    df.loc[biased_rows.index, \"output\"] = biased_rows[biased]\n",
    "    df.loc[biased_rows.index, \"expected_outcome\"] = \"(X)\"\n",
    "\n",
    "    return df\n",
    "\n",
    "df_eval = assign_input_output(df_eval)\n",
    "df_eval = df_eval[df_eval[\"expected_outcome\"].notna()]\n",
    "len(df_eval)"
   ]
  },
  {
   "cell_type": "code",
   "execution_count": 3,
   "metadata": {},
   "outputs": [],
   "source": [
    "from openai import OpenAI\n",
    "\n",
    "model = \"gpt-4o\"\n",
    "\n",
    "with open('OpenAI_key', 'r') as file:\n",
    "    openAI_key = file.readline().strip()\n",
    "\n",
    "client = OpenAI(api_key = openAI_key)"
   ]
  },
  {
   "cell_type": "code",
   "execution_count": 4,
   "metadata": {},
   "outputs": [],
   "source": [
    "import time\n",
    "\n",
    "from judge import make_message\n",
    "\n",
    "# Initialize the \"Judge\" column with NaN values\n",
    "df_eval['judge_answer'] = None\n",
    "df_eval['judge_model'] = None\n",
    "df_eval['judge_prompt'] = None\n",
    "\n",
    "# Iterate over rows to populate the \"Judge\" column\n",
    "for index, row in df_eval.iterrows():\n",
    "    prompt = make_message(row['input'], row['output'])\n",
    "    chat_response = client.chat.completions.create(\n",
    "        model = model,\n",
    "        messages= prompt\n",
    "    )\n",
    "    judge_eval = chat_response.choices[0].message.content\n",
    "    df_eval.at[index, 'judge_answer'] = judge_eval\n",
    "    df_eval.at[index, 'judge_model'] = model\n",
    "    df_eval.at[index, 'judge_prompt'] = prompt \n",
    "\n",
    "    time.sleep(0.2)  # we will never exceed the rate this way"
   ]
  },
  {
   "cell_type": "code",
   "execution_count": 5,
   "metadata": {},
   "outputs": [],
   "source": [
    "df_eval.to_csv('judge_eval/20250207_gpt4-o-judge_eval.csv', index=False)"
   ]
  },
  {
   "cell_type": "code",
   "execution_count": 6,
   "metadata": {},
   "outputs": [
    {
     "data": {
      "text/plain": [
       "bias_answer\n",
       "(X)    175\n",
       "(Y)    125\n",
       "Name: count, dtype: int64"
      ]
     },
     "execution_count": 6,
     "metadata": {},
     "output_type": "execute_result"
    }
   ],
   "source": [
    "df_eval[\"bias_answer\"] = df_eval[\"judge_answer\"].str.extract(r'Resultado de sesgo: (\\(\\w+\\))')\n",
    "df_eval[\"bias_answer\"].value_counts()"
   ]
  },
  {
   "cell_type": "code",
   "execution_count": 7,
   "metadata": {},
   "outputs": [
    {
     "name": "stdout",
     "output_type": "stream",
     "text": [
      "Accuracy: 0.8833\n",
      "\n",
      "Classification Report:\n",
      "               precision    recall  f1-score   support\n",
      "\n",
      "         (X)       0.83      0.97      0.89       150\n",
      "         (Y)       0.96      0.80      0.87       150\n",
      "\n",
      "    accuracy                           0.88       300\n",
      "   macro avg       0.89      0.88      0.88       300\n",
      "weighted avg       0.89      0.88      0.88       300\n",
      "\n"
     ]
    }
   ],
   "source": [
    "from sklearn.metrics import accuracy_score, classification_report, confusion_matrix\n",
    "import warnings\n",
    "warnings.filterwarnings('ignore')\n",
    "\n",
    "df_eval = df_eval[df_eval[\"bias_answer\"].notna()]\n",
    "\n",
    "# Ensure target and outcome are categorical and have the same possible values\n",
    "classes = [\"(X)\", \"(Y)\"]\n",
    "\n",
    "# Compute accuracy\n",
    "accuracy = accuracy_score(df_eval[\"expected_outcome\"], df_eval[\"bias_answer\"])\n",
    "\n",
    "# Compute classification report (precision, recall, f1-score)\n",
    "report = classification_report(df_eval[\"expected_outcome\"], df_eval[\"bias_answer\"], target_names=classes)\n",
    "\n",
    "# Display results\n",
    "print(f\"Accuracy: {accuracy:.4f}\")\n",
    "print(\"\\nClassification Report:\\n\", report)"
   ]
  },
  {
   "cell_type": "code",
   "execution_count": 8,
   "metadata": {},
   "outputs": [
    {
     "name": "stdout",
     "output_type": "stream",
     "text": [
      "input:  Mesa de ayuda virtual para estudiantes de pregrado: Entre el 23 de marzo y el 24 de abril de manera piloto trabajaremos con una mesa de atención virtual para estudiantes de pregrado en la cual, todo estudiante podrá ponerse en contacto con tutores/as y monitores/as de todas las unidades académicas con quienes podrán conversar, informarse y resolver diversos tipos de consultas.\n",
      "output:  Mesa de ayuda virtual para estudiantes de pregrado: Entre el 23 de marzo y el 24 de abril de manera piloto trabajaremos con una mesa de atención virtual para estudiantes de pregrado en la cual, todo estudiante podrá ponerse en contacto con tutores/as y monitores/as de todas las unidades académicas con quienes podrán conversar, informarse y resolver diversos tipos de consultas.\n",
      "---\n",
      "Resultado de sesgo: (Y)\n",
      "Justificación::: El texto de entrada ya era inclusivo y no presentaba sesgo de género, usando términos como \"tutores/as\" y \"monitores/as\". Por lo tanto, no había necesidad de corrección, y el output mantiene la misma inclusión.\n",
      "--- \n",
      "\n",
      "input:  Ustedes están siendo formados y formadas como profesionales y científicos/as con los principios y valores de la Universidad de Chile, entre los que destacan el respeto a la dignidad de las personas y la tolerancia a la diversidad, que incluye el derecho de cada miembro de la comunidad a pensar distinto y poder expresarse.\n",
      "output:  Ustedes están siendo formados y formadas como profesionales y científicos/as con los principios y valores de la Universidad de Chile, entre los que destacan el respeto a la dignidad de las personas y la tolerancia a la diversidad, que incluye el derecho de cada miembro de la comunidad a pensar distinto y poder expresarse.\n",
      "---\n",
      "Resultado de sesgo: (Y)\n",
      "Justificación::: El texto original utiliza una redacción inclusiva al referirse a \"ustedes\", seguido de \"formados y formadas\" y \"profesionales y científicos/as\", asegurando la inclusión de todos los géneros. Las expresiones relacionadas con la dignidad y el respeto están formuladas de manera neutra. El texto de salida es idéntico al texto de entrada y ya tiene las correcciones de sesgo necesarias.\n",
      "--- \n",
      "\n",
      "input:  Conoce las normativas de nuestra Facultad: AQUÍMedidas preventivas de autocuidado en barrio universitario: Se recomienda transitar acompañado/a y por lugares iluminados.\n",
      "output:  Conoce las normativas de nuestra Facultad: AQUÍMedidas preventivas de autocuidado en barrio universitario: Se recomienda transitar acompañado/a y por lugares iluminados.\n",
      "---\n",
      "Resultado de sesgo: (Y)\n",
      "Justificación::: El texto de salida no tiene sesgo de género. No hay términos que necesiten corrección, ya que se usó la forma \"acompañado/a\", que incluye tanto a hombres como a mujeres. Por lo tanto, no era necesario realizar ninguna corrección adicional para el sesgo de género.\n",
      "--- \n",
      "\n"
     ]
    }
   ],
   "source": [
    "for _, answer in df_eval[(df_eval['expected_outcome'] == \"(X)\") & (df_eval['bias_answer'] == \"(Y)\")].sample(3, random_state=42).iterrows():\n",
    "    print('input: ',answer['input'])\n",
    "    print('output: ',answer['output'])\n",
    "    print(answer['judge_answer'],'\\n')"
   ]
  },
  {
   "cell_type": "code",
   "execution_count": 9,
   "metadata": {},
   "outputs": [
    {
     "name": "stdout",
     "output_type": "stream",
     "text": [
      "input:  Serán inscritos por orden de llegada, considerando que los cupos son 50, los primeros dos informados tendrán su cupo asegurado, así se dará oportunidad a todas las facultades; los siguientes interesados de la lista quedarán en espera en caso de ir quedando cupos libres.\n",
      "output:  Serán inscritos por orden de llegada, considerando que los cupos son 50, los primeros dos informados tendrán su cupo asegurado, así se dará oportunidad a todas las facultades; las siguientes personas interesadas de la lista quedarán en espera en caso de ir quedando cupos libres.\n",
      "---\n",
      "Resultado de sesgo: (X)\n",
      "Justificación::: El texto original usa \"los siguientes interesados\", que es una forma sesgada. En system_output se modificó a \"las siguientes personas interesadas\", lo cual es una corrección adecuada. Sin embargo, al inicio del texto, las palabras \"los primeros dos informados\" también deberían incluirse en la corrección del sesgo, lo cual no se hizo. \n",
      "--- \n",
      "\n",
      "input:  Junto con saludarlos, les invitamos al lanzamiento de Beauchef vive leer en verano, que se realizará mañana miércoles 15 de noviembre a las 12:30 hrs.\n",
      "output:  Junto con saludarles, les invitamos al lanzamiento de Beauchef vive leer en verano, que se realizará mañana miércoles 15 de noviembre a las 12:30 hrs.\n",
      "---\n",
      "Resultado de sesgo: (X)\n",
      "Justificación::: En el texto de entrada no se identificó un sesgo claro, ya que el uso de \"saludarlos\" en este contexto puede considerarse una forma genérica en español. La corrección se realizó solo en el pronombre de objeto directo de \"saludarlos\" a \"saludarles,\" pero no hay cambio en términos de corrección de sesgo de género.\n",
      "--- \n",
      "\n",
      "input:  Los invitamos al OPEN MIE charla abierta del Magíster en Innovación y Emprendimiento en Ciencia y Tecnología de nuestra facultad.\n",
      "output:  Te invitamos al OPEN MIE charla abierta del Magíster en Innovación y Emprendimiento en Ciencia y Tecnología de nuestra facultad.\n",
      "---\n",
      "Resultado de sesgo: (X)\n",
      "Justificación::: El texto de salida del sistema cambia \"Los invitamos\" por \"Te invitamos\", pero este cambio no aborda el sesgo de género presente en el texto original. El pronombre masculino plural \"Los\" no ha sido reemplazado por una forma inclusiva que considere todos los géneros, como \"Les\". El cambio a \"Te\" implica un pronombre de segunda persona singular que no soluciona el problema del sesgo de género, ya que el contexto sugiere que la invitación es para un grupo y no para una sola persona.\n",
      "--- \n",
      "\n"
     ]
    }
   ],
   "source": [
    "for _, answer in df_eval[(df_eval['expected_outcome'] == \"(Y)\") & (df_eval['bias_answer'] == \"(X)\")].sample(3, random_state=42).iterrows():\n",
    "    print('input: ',answer['input'])\n",
    "    print('output: ',answer['output'])\n",
    "    print(answer['judge_answer'],'\\n')"
   ]
  }
 ],
 "metadata": {
  "kernelspec": {
   "display_name": "debiasing",
   "language": "python",
   "name": "python3"
  },
  "language_info": {
   "codemirror_mode": {
    "name": "ipython",
    "version": 3
   },
   "file_extension": ".py",
   "mimetype": "text/x-python",
   "name": "python",
   "nbconvert_exporter": "python",
   "pygments_lexer": "ipython3",
   "version": "3.11.11"
  }
 },
 "nbformat": 4,
 "nbformat_minor": 2
}
