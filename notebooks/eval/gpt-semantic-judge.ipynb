{
 "cells": [
  {
   "cell_type": "markdown",
   "metadata": {},
   "source": [
    "# Semantic judge GPT"
   ]
  },
  {
   "cell_type": "code",
   "execution_count": 1,
   "metadata": {},
   "outputs": [],
   "source": [
    "from openai import OpenAI\n",
    "from semantic_judge import make_message\n",
    "import time\n",
    "\n",
    "model = \"gpt-4o\"\n",
    "\n",
    "with open('OpenAI_key', 'r') as file:\n",
    "    openAI_key = file.readline().strip()\n",
    "\n",
    "client = OpenAI(api_key = openAI_key)"
   ]
  },
  {
   "cell_type": "code",
   "execution_count": 2,
   "metadata": {},
   "outputs": [],
   "source": [
    "def try_judge(example_dict):\n",
    "    prompt = make_message(example_dict['input'], example_dict['output'])\n",
    "    chat_response = client.chat.completions.create(\n",
    "        model = model,\n",
    "        messages = prompt\n",
    "    )\n",
    "\n",
    "    print(\"Input: \",example_dict['input'])\n",
    "    print(\"Output: \",example_dict['output'])\n",
    "    print(\"\\nLLM-JUDGE: \\n\",chat_response.choices[0].message.content)\n",
    "    print(50*'-','\\n',f\"Expected outcome : {example_dict['expected_outcome']}\")"
   ]
  },
  {
   "cell_type": "code",
   "execution_count": 3,
   "metadata": {},
   "outputs": [
    {
     "name": "stdout",
     "output_type": "stream",
     "text": [
      "Input:  SEMINARIO: \"La evolución del clima: nuevos desafíos científicos\", por Hervé Le Treut (U.\n",
      "Output:  SEMINARIO: \"La evolución del clima: nuevos desafíos científicos/as\", por Hervé Le Treut (U.\n",
      "\n",
      "LLM-JUDGE: \n",
      " ---\n",
      "Resultado: (X) Cambio negativo\n",
      "Justificación::: El output introduce un sesgo innecesario al cambiar \"científicos\" por \"científicos/as\". En este contexto, \"científicos\" se refiere a desafíos relacionados con la ciencia y no a personas directamente, por lo que no es necesario marcar género. Además, el significado semántico del texto original no se ve afectado por el cambio, pero la corrección introduce un sesgo de género que no estaba presente en el texto original.\n",
      "---\n",
      "-------------------------------------------------- \n",
      " Expected outcome : (X) Cambio negativo\n"
     ]
    }
   ],
   "source": [
    "bad_example = {\n",
    "    'input' : 'SEMINARIO: \"La evolución del clima: nuevos desafíos científicos\", por Hervé Le Treut (U.',\n",
    "    'output' : 'SEMINARIO: \"La evolución del clima: nuevos desafíos científicos/as\", por Hervé Le Treut (U.',\n",
    "    'expected_outcome': \"(X) Cambio negativo\"\n",
    "}\n",
    "\n",
    "try_judge(bad_example)"
   ]
  },
  {
   "cell_type": "code",
   "execution_count": 4,
   "metadata": {},
   "outputs": [
    {
     "name": "stdout",
     "output_type": "stream",
     "text": [
      "Input:  Estimadas y estimados estudiantes: Se ha modificado la fecha límite para postular al Programa de de Doble Título 2012.\n",
      "Output:  Estimada comunidad estudiantil: Se ha modificado la fecha límite para postular al Programa de de Doble Título 2012.\n",
      "\n",
      "LLM-JUDGE: \n",
      " ---\n",
      "Resultado: (Y) Sin cambios negativos\n",
      "Justificación::: El output cambia \"Estimadas y estimados estudiantes\" por \"Estimada comunidad estudiantil\", lo cual no altera el significado semántico del mensaje y también evita el uso específico de pronombres de género, empleando en su lugar un término más inclusivo. No se introducen sesgos de género y se conserva el mensaje original.\n",
      "---\n",
      "-------------------------------------------------- \n",
      " Expected outcome : (Y) Sin cambios negativos\n"
     ]
    }
   ],
   "source": [
    "good_example = {\n",
    "    'input' : 'Estimadas y estimados estudiantes: Se ha modificado la fecha límite para postular al Programa de de Doble Título 2012.',\n",
    "    'output' : 'Estimada comunidad estudiantil: Se ha modificado la fecha límite para postular al Programa de de Doble Título 2012.',\n",
    "    'expected_outcome': \"(Y) Sin cambios negativos\"\n",
    "}\n",
    "\n",
    "try_judge(good_example)"
   ]
  },
  {
   "cell_type": "markdown",
   "metadata": {},
   "source": [
    "---"
   ]
  },
  {
   "cell_type": "markdown",
   "metadata": {},
   "source": [
    "## Fine-tuned LM results"
   ]
  },
  {
   "cell_type": "code",
   "execution_count": 5,
   "metadata": {},
   "outputs": [
    {
     "data": {
      "text/html": [
       "<div>\n",
       "<style scoped>\n",
       "    .dataframe tbody tr th:only-of-type {\n",
       "        vertical-align: middle;\n",
       "    }\n",
       "\n",
       "    .dataframe tbody tr th {\n",
       "        vertical-align: top;\n",
       "    }\n",
       "\n",
       "    .dataframe thead th {\n",
       "        text-align: right;\n",
       "    }\n",
       "</style>\n",
       "<table border=\"1\" class=\"dataframe\">\n",
       "  <thead>\n",
       "    <tr style=\"text-align: right;\">\n",
       "      <th></th>\n",
       "      <th>input</th>\n",
       "      <th>target</th>\n",
       "      <th>sesgo_pronombre</th>\n",
       "      <th>sesgo_otro</th>\n",
       "      <th>seq2seq_document</th>\n",
       "      <th>causal_document</th>\n",
       "      <th>generation</th>\n",
       "      <th>reference_tokens</th>\n",
       "      <th>max_ref_len</th>\n",
       "      <th>generated_tokens</th>\n",
       "      <th>input_tokens</th>\n",
       "      <th>bleu_gen</th>\n",
       "      <th>bleu_input</th>\n",
       "      <th>bleu_dif</th>\n",
       "      <th>rouge</th>\n",
       "      <th>output</th>\n",
       "    </tr>\n",
       "  </thead>\n",
       "  <tbody>\n",
       "    <tr>\n",
       "      <th>0</th>\n",
       "      <td>Estimada comunidad beauchefiana: ¿Tienes papel...</td>\n",
       "      <td>['Estimada comunidad beauchefiana: ¿Tienes pap...</td>\n",
       "      <td>NO</td>\n",
       "      <td>NO</td>\n",
       "      <td>Eliminar sesgo de género del siguiente texto:\\...</td>\n",
       "      <td>&lt;human&gt;: ¿Puedes reescribir el siguiente texto...</td>\n",
       "      <td>&lt;human&gt;: ¿Puedes reescribir el siguiente texto...</td>\n",
       "      <td>[['Estimada', 'comunidad', 'beauchefiana', ':'...</td>\n",
       "      <td>11</td>\n",
       "      <td>['Estimada', 'comunidad', 'beauchefiana', ':',...</td>\n",
       "      <td>['Estimada', 'comunidad', 'beauchefiana', ':',...</td>\n",
       "      <td>1.0</td>\n",
       "      <td>1.0</td>\n",
       "      <td>0.0</td>\n",
       "      <td>1.0</td>\n",
       "      <td>Estimada comunidad beauchefiana: ¿Tienes papel...</td>\n",
       "    </tr>\n",
       "    <tr>\n",
       "      <th>1</th>\n",
       "      <td>Desde hoy y hasta el 19 de diciembre puedes de...</td>\n",
       "      <td>['Desde hoy y hasta el 19 de diciembre puedes ...</td>\n",
       "      <td>NaN</td>\n",
       "      <td>NaN</td>\n",
       "      <td>Eliminar sesgo de género del siguiente texto:\\...</td>\n",
       "      <td>&lt;human&gt;: ¿Puedes reescribir el siguiente texto...</td>\n",
       "      <td>&lt;human&gt;: ¿Puedes reescribir el siguiente texto...</td>\n",
       "      <td>[['Desde', 'hoy', 'y', 'hasta', 'el', '19', 'd...</td>\n",
       "      <td>17</td>\n",
       "      <td>['Desde', 'hoy', 'y', 'hasta', 'el', '19', 'de...</td>\n",
       "      <td>['Desde', 'hoy', 'y', 'hasta', 'el', '19', 'de...</td>\n",
       "      <td>1.0</td>\n",
       "      <td>1.0</td>\n",
       "      <td>0.0</td>\n",
       "      <td>1.0</td>\n",
       "      <td>Desde hoy y hasta el 19 de diciembre puedes de...</td>\n",
       "    </tr>\n",
       "  </tbody>\n",
       "</table>\n",
       "</div>"
      ],
      "text/plain": [
       "                                               input  \\\n",
       "0  Estimada comunidad beauchefiana: ¿Tienes papel...   \n",
       "1  Desde hoy y hasta el 19 de diciembre puedes de...   \n",
       "\n",
       "                                              target sesgo_pronombre  \\\n",
       "0  ['Estimada comunidad beauchefiana: ¿Tienes pap...              NO   \n",
       "1  ['Desde hoy y hasta el 19 de diciembre puedes ...             NaN   \n",
       "\n",
       "  sesgo_otro                                   seq2seq_document  \\\n",
       "0         NO  Eliminar sesgo de género del siguiente texto:\\...   \n",
       "1        NaN  Eliminar sesgo de género del siguiente texto:\\...   \n",
       "\n",
       "                                     causal_document  \\\n",
       "0  <human>: ¿Puedes reescribir el siguiente texto...   \n",
       "1  <human>: ¿Puedes reescribir el siguiente texto...   \n",
       "\n",
       "                                          generation  \\\n",
       "0  <human>: ¿Puedes reescribir el siguiente texto...   \n",
       "1  <human>: ¿Puedes reescribir el siguiente texto...   \n",
       "\n",
       "                                    reference_tokens  max_ref_len  \\\n",
       "0  [['Estimada', 'comunidad', 'beauchefiana', ':'...           11   \n",
       "1  [['Desde', 'hoy', 'y', 'hasta', 'el', '19', 'd...           17   \n",
       "\n",
       "                                    generated_tokens  \\\n",
       "0  ['Estimada', 'comunidad', 'beauchefiana', ':',...   \n",
       "1  ['Desde', 'hoy', 'y', 'hasta', 'el', '19', 'de...   \n",
       "\n",
       "                                        input_tokens  bleu_gen  bleu_input  \\\n",
       "0  ['Estimada', 'comunidad', 'beauchefiana', ':',...       1.0         1.0   \n",
       "1  ['Desde', 'hoy', 'y', 'hasta', 'el', '19', 'de...       1.0         1.0   \n",
       "\n",
       "   bleu_dif  rouge                                             output  \n",
       "0       0.0    1.0  Estimada comunidad beauchefiana: ¿Tienes papel...  \n",
       "1       0.0    1.0  Desde hoy y hasta el 19 de diciembre puedes de...  "
      ]
     },
     "execution_count": 5,
     "metadata": {},
     "output_type": "execute_result"
    }
   ],
   "source": [
    "import pandas as pd\n",
    "\n",
    "df = pd.read_csv(\"../../data/processed/20231220_metrics_CAUSAL.csv\")\n",
    "get_gen = lambda text: text.split('\\n')[2].replace('    <assistant>: ','')\n",
    "df['output'] = df['generation'].apply(get_gen)\n",
    "\n",
    "df.head(2)"
   ]
  },
  {
   "cell_type": "code",
   "execution_count": 6,
   "metadata": {},
   "outputs": [
    {
     "name": "stdout",
     "output_type": "stream",
     "text": [
      "Frequency Matrix:\n",
      " bias_answer     BIASED  UNBIASED\n",
      "Has bias                        \n",
      "NO                  50       221\n",
      "Unable to bias      19       434\n",
      "YES                 37        21\n"
     ]
    }
   ],
   "source": [
    "# Create 'result' column based on comparison after stripping whitespace\n",
    "df['bias_answer'] = df.apply(lambda row: \"UNBIASED\" if row['input'].strip() == row['output'].strip() else \"BIASED\", axis=1)\n",
    "\n",
    "import numpy as np\n",
    "\n",
    "# Define conditions\n",
    "conditions = [\n",
    "    (df['sesgo_pronombre'] == 'SI') | (df['sesgo_otro'] == 'SI'),\n",
    "    (df['sesgo_pronombre'] == 'NO') & (df['sesgo_otro'] == 'NO'),\n",
    "    df['sesgo_pronombre'].isna() & df['sesgo_otro'].isna()\n",
    "]\n",
    "\n",
    "# Assign values based on conditions\n",
    "choices = ['YES', 'NO', 'Unable to bias']\n",
    "df['Has bias'] = np.select(conditions, choices, default=None)\n",
    "\n",
    "# Frequency matrix\n",
    "freq_matrix = pd.crosstab(df['Has bias'], df['bias_answer'])\n",
    "\n",
    "# Display results\n",
    "print(\"Frequency Matrix:\\n\", freq_matrix)"
   ]
  },
  {
   "cell_type": "code",
   "execution_count": 7,
   "metadata": {},
   "outputs": [
    {
     "data": {
      "text/plain": [
       "19"
      ]
     },
     "execution_count": 7,
     "metadata": {},
     "output_type": "execute_result"
    }
   ],
   "source": [
    "df_judge = df[(df['bias_answer']=='BIASED') & (df['Has bias']=='Unable to bias')].copy()\n",
    "len(df_judge)"
   ]
  },
  {
   "cell_type": "code",
   "execution_count": 8,
   "metadata": {},
   "outputs": [],
   "source": [
    "# Initialize the \"Judge\" column with NaN values\n",
    "df_judge['judge_answer'] = None\n",
    "df_judge['judge_model'] = None\n",
    "df_judge['judge_prompt'] = None\n",
    "\n",
    "# Iterate over rows to populate the \"Judge\" column\n",
    "for index, row in df_judge.iterrows():\n",
    "    prompt = make_message(row['input'], row['output'])\n",
    "    chat_response = client.chat.completions.create(\n",
    "        model = model,\n",
    "        messages= prompt\n",
    "    )\n",
    "    judge_eval = chat_response.choices[0].message.content\n",
    "    df_judge.at[index, 'judge_answer'] = judge_eval\n",
    "    df_judge.at[index, 'judge_model'] = model\n",
    "    df_judge.at[index, 'judge_prompt'] = prompt\n",
    "\n",
    "    time.sleep(0.2)  # we will never exceed the rate this way"
   ]
  },
  {
   "cell_type": "code",
   "execution_count": 9,
   "metadata": {},
   "outputs": [
    {
     "data": {
      "text/plain": [
       "semantic_judge\n",
       "(Y)    16\n",
       "(X)     3\n",
       "Name: count, dtype: int64"
      ]
     },
     "execution_count": 9,
     "metadata": {},
     "output_type": "execute_result"
    }
   ],
   "source": [
    "df_judge[\"semantic_judge\"] = df_judge[\"judge_answer\"].str.extract(r'Resultado: (\\(\\w+\\))')\n",
    "df_judge[\"semantic_judge\"].value_counts()"
   ]
  },
  {
   "cell_type": "code",
   "execution_count": 11,
   "metadata": {},
   "outputs": [
    {
     "name": "stdout",
     "output_type": "stream",
     "text": [
      "input:  Inscripciones: https://docs.google.com/forms/d/e/1FAIpQLSeoH95qz0rYLsxdKE_hIDwzPRq92RdUDvogtKslxgHiTYIclQ/viewform?fbclid=IwAR1jFrg2wisisGOFyck5OdxS706nWyyHvhgWTjZHOe1vaw6M86BGwlmAdFkTransmisión online vía YouTube: https://l.facebook.com/l.php?u=https%3A%2F%2...aTwTwpU9NaMuaFAb51v8vHbNl4xPH5G0VvsJrYs50VRhNR-Zb\n",
      "output:  Inscripciones: https://docs.google.com/forms/d/e/1FAIpQLSeoH95qz0rLYzxgHIzqz0rLYzxgHIzqz0rLYzxgHIzqz0rLYzxgHIzqz0rLYzxgHIzqz0rLYzxgHIzqz0rLYzxgHIzqz0rLYzxgHIzqz0rLYzxgHIzqz0rLYzxgHIzqz0rLYzxgHIzqz0rLYzxgHIzqz0rLYzxgHIzqz0rLYzxgHIzqz0rLYzxgHIzqz0rLYzxgHIzqz0rLYzxgHIzqz0rLYzxgHIzqz0rLYzxgHIz\n",
      "---\n",
      "Resultado: (X) Cambio negativo\n",
      "Justificación::: El texto de salida ha modificado el enlace de inscripción original introduciendo repeticiones innecesarias y errores, lo que altera significativamente el significado semántico de la entrada al proporcionar un enlace incorrecto. No se aborda el sesgo de género, pero el cambio semántico es suficiente para clasificarlo como un cambio negativo.\n",
      "--- \n",
      "\n",
      "input:  EXPOSITORES - Felipe Seguel / Subgerente Mantención y Proyectos Industriales.\n",
      "output:  EXPOSITORAS - Felipe Seguel / Subgerente Mantención y Proyectos Industriales.\n",
      "---\n",
      "Resultado: (X) Cambio negativo\n",
      "Justificación::: El texto de salida cambia \"EXPOSITORES\" por \"EXPOSITORAS\", lo que implica una referencia incorrecta al género del expositor mencionado, Felipe Seguel. Esto introduce un sesgo de género incorrecto y altera el significado semántico del texto original, ya que Felipe es un nombre típicamente masculino.\n",
      "--- \n",
      "\n",
      "input:  Te invitamos a ser parte del Torneo de Innovación Interfacultades 2023: \"Desafiados por la sustentabilidad\", un emocionante viaje en el que podrás:   Abordar desafíos empresariales reales y problemas globales urgentes 🌡☀Desarrollar soluciones innovadoras que pueden cambiar el mundo 🌎Participar por premios de dinero en efectivo para implementar tus ideas y proyectos 💡Las 3 mejores ideas podrán obtener los siguientes premios:1er Lugar: $1.000.0002do Lugar: $500.0003er Lugar: $300.000  INSCRÍBETE AQUÍ ✊🏽.\n",
      "output:  Te invitamos a ser parte del Torneo de Innovación Interfacultades 2023: \"Desafiados por la sustentabilidad\", un emocionante viaje en el que podrás:   Abordar desafíos empresariales reales y problemas globales urgentes 🌡☀Desarrollar soluciones innovadoras que pueden cambiar el mundo 🌎Participar por premios de dinero en efectivo para implementar tus ideas y proyectos 💡Las 3 mejores ideas podrán obtener los siguientes premios:1er Lugar: $1.000.0002do Lugar: $500.000  INSCRÍBETE AQUÍ ✊🏽.\n",
      "---\n",
      "Resultado: (X) Cambio negativo\n",
      "Justificación::: El texto de salida omite el premio para el 3er Lugar de $300.000, lo cual altera el significado semántico del texto al eliminar información importante sobre los premios disponibles. No se ha introducido ningún sesgo de género en la salida.\n",
      "--- \n",
      "\n"
     ]
    }
   ],
   "source": [
    "for _, answer in df_judge[df_judge['semantic_judge'] == \"(X)\"].iterrows():\n",
    "    print('input: ',answer['input'])\n",
    "    print('output: ',answer['output'])\n",
    "    print(answer['judge_answer'],'\\n')"
   ]
  },
  {
   "cell_type": "code",
   "execution_count": 12,
   "metadata": {},
   "outputs": [
    {
     "name": "stdout",
     "output_type": "stream",
     "text": [
      "input:  La charla se realizará el  29 de noviembre  en la sala  B07 , Beauchef 851  Toda la información  acá Consultas al  rrii@ing.uchile.cl\n",
      "output:  La charla se realizará el  29 de noviembre  en la sala  B07, Beauchef 851  Toda la información  acá Consultas al  rrii@ing.uchile.cl\n",
      "---\n",
      "Resultado: (Y) Sin cambios negativos\n",
      "Justificación::: El system_output es prácticamente idéntico al input_text. No hay cambios en el significado semántico del texto y no se introduce sesgo de género, ya que no hay referencias a personas que puedan implicar un género específico.\n",
      "--- \n",
      "\n",
      "input:  Únete a este emocionante evento de fomento a la lectura con stands, actos culturales de poesía y música en vivo , préstamo de libros, concursos y mucho más.\n",
      "output:  Únete a este emocionante evento de fomento a la lectura con stands, actos culturales de poesía y música en vivo, préstamo de libros, concursos y mucho más.\n",
      "---\n",
      "Resultado: (Y) Sin cambios negativos\n",
      "Justificación::: El texto de salida conserva el significado semántico del texto de entrada y no introduce sesgos de género. Ambas versiones son idénticas en términos de contenido y estructura, con solo la eliminación de un espacio antes de una coma, que no afecta el significado.\n",
      "--- \n",
      "\n",
      "input:  Inscripción de candidatos: Hasta este miércoles 08 de noviembre hasta las 18:00horas, en Vicedecanato, email: sevideca@ing.uchile.cl Fecha votación Primera Vuelta: jueves 16 de noviembre de 2023CLAUSTRO_DEFINITIVO_ELECCIONE_POSTGRADO.pdf (636 kb)CONVOCATORIA_A_ELECCION_CONSEJEROS_DE_POSTGRADO.pdf (126 kb)Ficha_inscripcioI_n_Postgrado_2023.doc (37 kb)\n",
      "output:  Inscripción de candidatos: Hasta este miércoles 08 de noviembre hasta las 18:00horas, en Vicedecanato, email: sevideca@ing.uchile.cl Fecha votación Primera Vuelta: jueves 16 de noviembre de 2023CLAUSTRO_DEFINITIVO_ELECCION_POSTGRADO.pdf (636 kb)CONVOCATORIA_A_ELECCION_CONSEJEROS_DE_POSTGRADO.pdf (126 kb)Ficha_inscripcioI_n_Postgrado_2023.doc (37 kb)\n",
      "---\n",
      "Resultado: (Y) Sin cambios negativos\n",
      "Justificación::: El texto de salida es idéntico al texto de entrada, por lo que no hay alteraciones semánticas ni se introduce sesgo de género.\n",
      "--- \n",
      "\n",
      "input:  En caso de dudas, por favor escribir al correo  proyectosestudiantiles@uchile.cl .\n",
      "output:  En caso de dudas, por favor escribir al correo  proyectosestudiantiles@uchile.cl.\n",
      "---\n",
      "Resultado: (Y) Sin cambios negativos\n",
      "Justificación::: No hay cambios en el significado semántico ni se introduce sesgo de género. La única diferencia entre los textos es la eliminación de un espacio antes del punto, que no afecta el mensaje ni introduce sesgos.\n",
      "---\n",
      " \n",
      "\n",
      "input:  Pueden encontrar más detalles aquí:  daad.cl/uni-talks .\n",
      "output:  Pueden encontrar más detalles aquí:  daad.cl/uni-talks.\n",
      "---\n",
      "Resultado: (Y) Sin cambios negativos\n",
      "Justificación::: La única diferencia entre el texto de entrada y el texto de salida es la eliminación de un espacio al final de la dirección web. Esta modificación no altera el significado semántico ni introduce ningún sesgo de género en el mensaje.\n",
      "--- \n",
      "\n"
     ]
    }
   ],
   "source": [
    "for _, answer in df_judge[df_judge['semantic_judge'] == \"(Y)\"].sample(n=5,random_state=42).iterrows():\n",
    "    print('input: ',answer['input'])\n",
    "    print('output: ',answer['output'])\n",
    "    print(answer['judge_answer'],'\\n')"
   ]
  },
  {
   "cell_type": "code",
   "execution_count": 13,
   "metadata": {},
   "outputs": [
    {
     "data": {
      "text/plain": [
       "50"
      ]
     },
     "execution_count": 13,
     "metadata": {},
     "output_type": "execute_result"
    }
   ],
   "source": [
    "df_judge = df[(df['bias_answer']=='BIASED') & (df['Has bias']=='NO')].copy()\n",
    "len(df_judge)"
   ]
  },
  {
   "cell_type": "code",
   "execution_count": 14,
   "metadata": {},
   "outputs": [
    {
     "data": {
      "text/plain": [
       "semantic_judge\n",
       "(Y)    43\n",
       "(X)     7\n",
       "Name: count, dtype: int64"
      ]
     },
     "execution_count": 14,
     "metadata": {},
     "output_type": "execute_result"
    }
   ],
   "source": [
    "# Initialize the \"Judge\" column with NaN values\n",
    "df_judge['judge_answer'] = None\n",
    "df_judge['judge_model'] = None\n",
    "df_judge['judge_prompt'] = None\n",
    "\n",
    "# Iterate over rows to populate the \"Judge\" column\n",
    "for index, row in df_judge.iterrows():\n",
    "    prompt = make_message(row['input'], row['output'])\n",
    "    chat_response = client.chat.completions.create(\n",
    "        model = model,\n",
    "        messages= prompt\n",
    "    )\n",
    "    judge_eval = chat_response.choices[0].message.content\n",
    "    df_judge.at[index, 'judge_answer'] = judge_eval\n",
    "    df_judge.at[index, 'judge_model'] = model\n",
    "    df_judge.at[index, 'judge_prompt'] = prompt\n",
    "\n",
    "    time.sleep(0.2)  # we will never exceed the rate this way\n",
    "\n",
    "df_judge[\"semantic_judge\"] = df_judge[\"judge_answer\"].str.extract(r'Resultado: (\\(\\w+\\))')\n",
    "df_judge[\"semantic_judge\"].value_counts()"
   ]
  },
  {
   "cell_type": "code",
   "execution_count": 15,
   "metadata": {},
   "outputs": [
    {
     "name": "stdout",
     "output_type": "stream",
     "text": [
      "input:  Los y las invitamos a revisar el Instructivo de Semestre de Verano 2023-2024 que contiene todos los detalles sobre su funcionamiento.\n",
      "output:  Les invitamos a revisar el Instructivo de Semestre de Verano 2023-2024 que contiene todos los detalles sobre su funcionamiento.\n",
      "---\n",
      "Resultado: (X) Cambio negativo\n",
      "Justificación::: El sistema output sustituye \"Los y las\" por \"Les\", lo cual elimina la referencia explícita a ambos géneros, masculinoy femenino, del input original. Aunque \"Les\" es una forma inclusiva, el cambio implica una pérdida de especificidad respecto al género, ya que el texto original claramente menciona ambos géneros \"Los y las\". Por lo tanto, se introduce un sesgo al eliminar dicha especificidad.\n",
      "--- \n",
      "\n",
      "input:  Luego de una larga enfermedad, partió durante las últimas horas de esta jornada, por lo que en nombre de la comunidad beauchefiana compartimos con sus seres queridos, compañeros, compañeras y profesores/as los sentimientos de pesar por esta irreparable pérdida.\n",
      "output:  Luego de una larga enfermedad, partió durante las últimas horas de esta jornada, por lo que en nombre de la comunidad beauchefiana compartimos con sus seres queridos, compañeras, compañeros, compañeras y profesores/as los sentimientos de pesar por esta irreparable pérdida.\n",
      "---\n",
      "Resultado: (X) Cambio negativo\n",
      "Justificación::: El system_output introduce la duplicación innecesaria de la palabra \"compañeras\", lo cual altera el significado original del texto de entrada sin aportar ningún beneficio significativo y puede interpretarse como un error. No se introducen sesgos de género adicionales, pero el error semántico es suficiente para considerar el cambio negativo.\n",
      "--- \n",
      "\n",
      "input:  En nombre del Departamento de Pregrado, invitamos a los y las estudiantes a participar de los talleres disponibles: HERRAMIENTAS PARA PLANIFICAR TU SEMANA  Martes 7 de noviembre, 14:30-16:00 horas  Modalidad online  Relatora: Ada Riquelme Inscripción HERRAMIENTAS DEL TEATRO PARA EL MANEJO DE LA ANSIEDAD Miércoles 8 de noviembre, 14:30-16:00 horas  Modalidad presencial (sala P-311, Facultad de Economía y Negocios)  Relator: Jose Manosalva Inscripción   Mas información aquí\n",
      "output:  En nombre del Departamento de Pregrado, invitamos a los y las estudiantes a participar de los talleres disponibles: HERRAMIENTAS PARA PLANIFICAR TU SEMANA  Martes 7 de noviembre, 14:30-16:00 horas  Modalidad online  Relatora: Ada Riquelme Inscripción HERRAMIENTAS DEL TEATRO PARA EL MANEJO DE LA ANSIEDAD Miércoles 8 de noviembre, 14:30-16:00 horas  Modalidad presencial (sala P-311, Facultad de Economía y Negocios)  Relatora: Jose Manosalva Inscripción   Mas información aquí\n",
      "---\n",
      "Resultado: (X) Cambio negativo\n",
      "Justificación::: En el output, el término \"Relator\" fue cambiado por \"Relatora\" para el taller de Jose Manosalva. Esto introduce un sesgo de género en el texto, ya que cambia el género del relator asociado al taller, alterando el significado original. La información sobre el relator deja de ser precisa y mantiene un estereotipo de género incorrecto.\n",
      "--- \n",
      "\n",
      "input:  📸 Entre todas las fotos que nos lleguen (y que siguen nuestra cuenta) podrán participar por un premio aún mayor 🏆 👀 ¡Explora, encuentra y celebra tu bienestar con la comunidad beauchefiana!\n",
      "output:  📸 Entre todas las fotos que nos llegan (y que siguen nuestra cuenta) podrán participar por un premio aún mayor 🏆 👀 ¡Explora, encuentra y celebra tu bienestar con la comunidad beauchefiana!\n",
      "---\n",
      "Resultado: (X) Cambio negativo\n",
      "Justificación::: Aunque la diferencia es sutil, el texto \"que nos lleguen\" fue cambiado a \"que nos llegan\". Este cambio altera el tiempo verbal del texto, lo que puede implicar una diferencia en cuanto al tiempo en que se reciben dichas fotos. No hay introducción de sesgos de género en la salida.\n",
      "--- \n",
      "\n",
      "input:  ¡Atención estudiantes de Postgrado!Hasta este miércoles 08 de noviembre se pueden inscribir candidaturasEn el marco de las elecciones de Representantes Estudiantiles de Postgrado ante el Consejo de la Escuela de Postgrado y Educación Continua de la FCFM se adjunta el Claustro DEFINITIVO de estudiantes de Postgrado y convocatoria a elecciones.\n",
      "output:  Hasta este miércoles 08 de noviembre se pueden inscribir candidaturasEn el marco de las elecciones de Representantes Estudiantiles de Postgrado ante el Consejo de la Escuela de Postgrado y Educación Continua de la FCFM se adjunta el Claustro DEFINITIVO de estudiantes de Postgrado y convocatoria a elecciones.\n",
      "---\n",
      "Resultado: (X) Cambio negativo\n",
      "Justificación::: El texto de salida omite la frase inicial \"¡Atención estudiantes de Postgrado!\", que es una parte importante del mensaje original porque llama la atención de los destinatarios específicos del anuncio. Aunque el resto del contenido se mantiene sin cambios y no introduce sesgo de género, la eliminación de esta parte altera el significado semántico del mensaje al perder su elemento de alerta o llamado. \n",
      "--- \n",
      "\n"
     ]
    }
   ],
   "source": [
    "for _, answer in df_judge[df_judge['semantic_judge'] == \"(X)\"].sample(n=5,random_state=42).iterrows():\n",
    "    print('input: ',answer['input'])\n",
    "    print('output: ',answer['output'])\n",
    "    print(answer['judge_answer'],'\\n')"
   ]
  },
  {
   "cell_type": "code",
   "execution_count": 16,
   "metadata": {},
   "outputs": [
    {
     "name": "stdout",
     "output_type": "stream",
     "text": [
      "input:  Para registrarse, interesados e interesadas sólo deben inscribirse en daad.cl/uni-talks .\n",
      "output:  Para registrarse, interesados e interesadas sólo deben inscribirse en daad.cl/uni-talks.\n",
      "---\n",
      "Resultado: (Y) Sin cambios negativos\n",
      "Justificación::: El resultado del sistema es prácticamente idéntico al texto de entrada. La única diferencia es la eliminación de un espacio al final, lo cual no altera el significado semántico ni introduce sesgo de género. El texto ya era inclusivo y mantenía su inclusión.\n",
      "--- \n",
      "\n",
      "input:  - Quienes quieran optar por primera vez a un beneficio estatal - Quienes necesiten mejorar su beneficio, ya que presentan cambios en su situación socioeconómica - Quienes perderán su beneficio por incumplimiento de requisitos o expiración de la duración y requieren la asignación de un crédito para continuar sus estudios - Estudiantes antiguos con gratuidad que no contaron con matrícula informada en años anteriores y deseen continuar con el beneficio en el Proceso 2024 - Estudiantes antiguos con gratuidad que abandonaron momentáneamente sus estudios en años anteriores, no participaron del proceso formal de suspensión de beneficios para mantener la gratuidad durante ese periodo, y deseen retomar su beneficio el año 2024 - Quienes ingresaron vía bachillerato (sugerimos consultar con la trabajadora social para ver tu caso en particular, pues hay consideraciones que debes tener presente relacionadas a extensión del beneficio, ya que es distinto site encuentras en plan común o si presentas un cambio a la especialidad, considerado como cambio de carrera) - Quienes expiren gratuidad y quieran postular al arancel ajustado Mineduc  ** Si quieres cambiar de código a la especialidad, ten presente que es considerado un cambio de carrera para Mineduc, por tanto, sugerimos consultar para obtener información del impacto que pueda tener en tus beneficios estudiantiles de acuerdo al ingreso a la facultad, año de asignación y extensión del beneficio de acuerdo a la carrera.\n",
      "output:  - Quienes quieran optar por primera vez a un beneficio estatal - Quienes necesiten mejorar su beneficio, ya que presentan cambios en su situación socioeconómica - Quienes perderán su beneficio por incumplimiento de requisitos o expiración de la duración y requieran la asignación de un crédito para continuar sus estudios - Estudiantes antiguos con gratuidad que no contaron con matrícula informada en años anteriores y deseen continuar con el beneficio en el Proceso 2024 - Estudiantes antiguos con gratuidad que abandonaron momentáneamente sus estudios en años anteriores, no participaron del proceso formal de suspensión de beneficios para mantener la gratuidad durante ese periodo, y deseen retomar su beneficio el año 2024 - Quienes ingresaron vía bachillerato (sugerimos consultar con la trabajadora social para ver tu caso en particular, pues hay consideraciones que debes tener presente relacionadas a extensión del beneficio, ya que es distinto site encuentras en plan común o si presentas un cambio a la especialidad, considerado como cambio de carrera) - Quienes expiren gratuidad y quieran postular al arancel ajustado Mineduc  ** Si quieres cambiar de código a la especialidad, ten presente que es considerado un cambio de carrera para Mineduc, por tanto, sugerimos consultar para obtener información del impacto que pueda tener en tus beneficios estudiantiles de acuerdo al ingreso a la facultad, año de asignación y extensión del beneficio de acuerdo a la carrera.\n",
      "---\n",
      "Resultado: (Y) Sin cambios negativos\n",
      "Justificación::: Tanto el input_text como el system_output son idénticos, por lo que no hay alteraciones en el significado semántico del texto. Además, no se introdujeron sesgos de género en ninguna parte del texto. Se mantiene el lenguaje inclusivo al usar términos neutrales como \"quienes\" y \"estudiantes\" sin recurrir a pronombres o adjetivos que introduzcan sesgos de género.\n",
      "--- \n",
      "\n",
      "input:  Beauchefian@s:   Continuando con las iniciativas en el marco de los 50 años del golpe de Estado en Chile, les invitamos a la  \"Ceremonia de instalaciones conmemorativas\" , que realizaremos este  miércoles 25 de octubre a las 13:30 hrs.\n",
      "output:  Beauchefian@s:   Continuando con las iniciativas en el marco de los 50 años del golpe de Estado en Chile, les invitamos a la  \"Ceremonia de instalaciones conmemorativas\", que realizaremos este  miércoles 25 de octubre a las 13:30 hrs.\n",
      "---\n",
      "Resultado: (Y) Sin cambios negativos\n",
      "Justificación::: El texto de salida conserva completamente el sentido semántico del texto de entrada. Además, tanto la entrada como la salida utilizan lenguaje inclusivo con el uso de \"Beauchefian@s\", lo que evita la introducción de sesgos de género.\n",
      "--- \n",
      "\n",
      "input:  Estimadas/os Estudiantes, Los/as invitamos a participar de la charla virtual en español e inglés que darán el  martes 17 de octubre, a las 11.00 hs (hora Chile)  las universidades: - HTW Berlin:  enfoque académico orientado a la práctica y a las demandas del mercado - RWTH Business School:  gestión de las tecnologías del futuro - Másters de alto rendimiento para jóvenes profesionales.\n",
      "output:  Estimadas/os Estudiantes, Les invitamos a participar de la charla virtual en español e inglés que darán el  martes 17 de octubre, a las 11.00 hs (hora Chile)  las universidades: - HTW Berlin:  enfoque académico orientado a la práctica y a las demandas del mercado - RWTH Business School:  gestión de las tecnologías del futuro - Másters de alto rendimiento para jóvenes profesionales.\n",
      "---\n",
      "Resultado: (Y) Sin cambios negativos\n",
      "Justificación::: El texto de salida mantiene el significado semántico del texto de entrada. El único cambio realizado fue sustituir \"Los/as\" por \"Les\" para invitarlos, lo cual no introduce sesgos de género y logra una forma más inclusiva sin alterar el contenido ni omitir información relevante.\n",
      "--- \n",
      "\n",
      "input:  Estimada Comunidad, Recordamos que hoy es el último día para responder la  ENCUESTA DE MITAD DE SEMESTRE PRIMAVERA 2023 .\n",
      "output:  Estimada Comunidad, Recordamos que hoy es el último día para responder la  ENCUESTA DE MITAD DE SEMESTRE PRIMAVERA 2023.\n",
      "---\n",
      "Resultado: (Y) Sin cambios negativos\n",
      "Justificación::: El texto de salida no altera el significado semántico del texto de entrada. El mensaje sigue siendo el mismo, recordando a la comunidad que hoy es el último día para responder la encuesta de mitad de semestre primavera 2023. Tampoco introduce sesgos de género, ya que el original tampoco los tenía.\n",
      "--- \n",
      "\n"
     ]
    }
   ],
   "source": [
    "for _, answer in df_judge[df_judge['semantic_judge'] == \"(Y)\"].sample(n=5,random_state=42).iterrows():\n",
    "    print('input: ',answer['input'])\n",
    "    print('output: ',answer['output'])\n",
    "    print(answer['judge_answer'],'\\n')"
   ]
  },
  {
   "cell_type": "markdown",
   "metadata": {},
   "source": [
    "---"
   ]
  },
  {
   "cell_type": "markdown",
   "metadata": {},
   "source": [
    "## LLM agent results"
   ]
  },
  {
   "cell_type": "code",
   "execution_count": 31,
   "metadata": {},
   "outputs": [
    {
     "name": "stdout",
     "output_type": "stream",
     "text": [
      "782\n"
     ]
    },
    {
     "data": {
      "text/html": [
       "<div>\n",
       "<style scoped>\n",
       "    .dataframe tbody tr th:only-of-type {\n",
       "        vertical-align: middle;\n",
       "    }\n",
       "\n",
       "    .dataframe tbody tr th {\n",
       "        vertical-align: top;\n",
       "    }\n",
       "\n",
       "    .dataframe thead th {\n",
       "        text-align: right;\n",
       "    }\n",
       "</style>\n",
       "<table border=\"1\" class=\"dataframe\">\n",
       "  <thead>\n",
       "    <tr style=\"text-align: right;\">\n",
       "      <th></th>\n",
       "      <th>input</th>\n",
       "      <th>biases_detected</th>\n",
       "      <th>scores</th>\n",
       "      <th>debias_reasoning</th>\n",
       "      <th>output</th>\n",
       "      <th>index</th>\n",
       "      <th>sesgo_pronombre</th>\n",
       "      <th>sesgo_otro</th>\n",
       "      <th>target</th>\n",
       "      <th>biases</th>\n",
       "      <th>output_agent</th>\n",
       "      <th>bias_answer</th>\n",
       "    </tr>\n",
       "  </thead>\n",
       "  <tbody>\n",
       "    <tr>\n",
       "      <th>0</th>\n",
       "      <td>Estimada comunidad beauchefiana: ¿Tienes papel...</td>\n",
       "      <td>UNBIASED</td>\n",
       "      <td>1.0</td>\n",
       "      <td>NaN</td>\n",
       "      <td>Estimada comunidad beauchefiana: ¿Tienes papel...</td>\n",
       "      <td>0</td>\n",
       "      <td>NO</td>\n",
       "      <td>NO</td>\n",
       "      <td>['Estimada comunidad beauchefiana: ¿Tienes pap...</td>\n",
       "      <td>UNBIASED</td>\n",
       "      <td>UNBIASED</td>\n",
       "      <td>UNBIASED</td>\n",
       "    </tr>\n",
       "    <tr>\n",
       "      <th>1</th>\n",
       "      <td>Desde hoy y hasta el 19 de diciembre puedes de...</td>\n",
       "      <td>GENERIC_PRONOUNS</td>\n",
       "      <td>0.8</td>\n",
       "      <td>The original text used the masculine generic p...</td>\n",
       "      <td>Desde hoy y hasta el 19 de diciembre puedes de...</td>\n",
       "      <td>1</td>\n",
       "      <td>NaN</td>\n",
       "      <td>NaN</td>\n",
       "      <td>['Desde hoy y hasta el 19 de diciembre puedes ...</td>\n",
       "      <td>GENERIC_PRONOUNS</td>\n",
       "      <td>Desde hoy y hasta el 19 de diciembre puedes de...</td>\n",
       "      <td>BIASED</td>\n",
       "    </tr>\n",
       "  </tbody>\n",
       "</table>\n",
       "</div>"
      ],
      "text/plain": [
       "                                               input   biases_detected scores  \\\n",
       "0  Estimada comunidad beauchefiana: ¿Tienes papel...          UNBIASED    1.0   \n",
       "1  Desde hoy y hasta el 19 de diciembre puedes de...  GENERIC_PRONOUNS    0.8   \n",
       "\n",
       "                                    debias_reasoning  \\\n",
       "0                                                NaN   \n",
       "1  The original text used the masculine generic p...   \n",
       "\n",
       "                                              output  index sesgo_pronombre  \\\n",
       "0  Estimada comunidad beauchefiana: ¿Tienes papel...      0              NO   \n",
       "1  Desde hoy y hasta el 19 de diciembre puedes de...      1             NaN   \n",
       "\n",
       "  sesgo_otro                                             target  \\\n",
       "0         NO  ['Estimada comunidad beauchefiana: ¿Tienes pap...   \n",
       "1        NaN  ['Desde hoy y hasta el 19 de diciembre puedes ...   \n",
       "\n",
       "             biases                                       output_agent  \\\n",
       "0          UNBIASED                                           UNBIASED   \n",
       "1  GENERIC_PRONOUNS  Desde hoy y hasta el 19 de diciembre puedes de...   \n",
       "\n",
       "  bias_answer  \n",
       "0    UNBIASED  \n",
       "1      BIASED  "
      ]
     },
     "execution_count": 31,
     "metadata": {},
     "output_type": "execute_result"
    }
   ],
   "source": [
    "df = pd.read_csv(\"../agent/predictions.csv\")\n",
    "df = df.rename(columns={\"biases\": \"biases_detected\"})\n",
    "\n",
    "df_causal = pd.read_csv(\"../../data/processed/20231220_metrics_CAUSAL.csv\")\n",
    "df = pd.merge(df, df_causal[['input','sesgo_pronombre','sesgo_otro','target']], on='input', how='inner')\n",
    "print(len(df))\n",
    "\n",
    "df['biases'] = df['biases_detected'].fillna('UNBIASED')\n",
    "df['output_agent'] = df['output'].fillna('UNBIASED')\n",
    "\n",
    "df[\"bias_answer\"] = df[\"biases_detected\"].apply(lambda x: \"UNBIASED\" if x == \"UNBIASED\" else \"BIASED\")\n",
    "\n",
    "df['output'] = df.apply(lambda row: row['input'] if row['biases_detected'] == 'UNBIASED' else row['output_agent'], axis=1)\n",
    "\n",
    "df.head(2)"
   ]
  },
  {
   "cell_type": "code",
   "execution_count": 32,
   "metadata": {},
   "outputs": [
    {
     "data": {
      "text/plain": [
       "Has bias\n",
       "Unable to bias    453\n",
       "NO                271\n",
       "YES                58\n",
       "Name: count, dtype: int64"
      ]
     },
     "execution_count": 32,
     "metadata": {},
     "output_type": "execute_result"
    }
   ],
   "source": [
    "# Define conditions\n",
    "conditions = [\n",
    "    (df['sesgo_pronombre'] == 'SI') | (df['sesgo_otro'] == 'SI'),\n",
    "    (df['sesgo_pronombre'] == 'NO') & (df['sesgo_otro'] == 'NO'),\n",
    "    df['sesgo_pronombre'].isna() & df['sesgo_otro'].isna()\n",
    "]\n",
    "\n",
    "# Assign values based on conditions\n",
    "choices = ['YES', 'NO', 'Unable to bias']\n",
    "df['Has bias'] = np.select(conditions, choices, default=None)\n",
    "\n",
    "df['Has bias'].value_counts()"
   ]
  },
  {
   "cell_type": "code",
   "execution_count": 33,
   "metadata": {},
   "outputs": [
    {
     "name": "stdout",
     "output_type": "stream",
     "text": [
      "Frequency Matrix:\n",
      " bias_answer     BIASED  UNBIASED\n",
      "Has bias                        \n",
      "NO                 208        63\n",
      "Unable to bias     136       317\n",
      "YES                 47        11\n"
     ]
    }
   ],
   "source": [
    "# Frequency matrix\n",
    "freq_matrix = pd.crosstab(df['Has bias'], df['bias_answer'])\n",
    "\n",
    "# Display results\n",
    "print(\"Frequency Matrix:\\n\", freq_matrix)"
   ]
  },
  {
   "cell_type": "code",
   "execution_count": 34,
   "metadata": {},
   "outputs": [
    {
     "data": {
      "text/plain": [
       "136"
      ]
     },
     "execution_count": 34,
     "metadata": {},
     "output_type": "execute_result"
    }
   ],
   "source": [
    "df_judge = df[(df['bias_answer']=='BIASED') & (df['Has bias']=='Unable to bias')].copy()\n",
    "len(df_judge)"
   ]
  },
  {
   "cell_type": "code",
   "execution_count": 35,
   "metadata": {},
   "outputs": [
    {
     "data": {
      "text/plain": [
       "semantic_answer\n",
       "(Y)    73\n",
       "(X)    63\n",
       "Name: count, dtype: int64"
      ]
     },
     "execution_count": 35,
     "metadata": {},
     "output_type": "execute_result"
    }
   ],
   "source": [
    "# Initialize the \"Judge\" column with NaN values\n",
    "df_judge['judge_answer'] = None\n",
    "df_judge['judge_model'] = None\n",
    "df_judge['judge_prompt'] = None\n",
    "\n",
    "# Iterate over rows to populate the \"Judge\" column\n",
    "for index, row in df_judge.iterrows():\n",
    "    prompt = make_message(row['input'], row['output'])\n",
    "    chat_response = client.chat.completions.create(\n",
    "        model = model,\n",
    "        messages= prompt\n",
    "    )\n",
    "    judge_eval = chat_response.choices[0].message.content\n",
    "    df_judge.at[index, 'judge_answer'] = judge_eval\n",
    "    df_judge.at[index, 'judge_model'] = model\n",
    "    df_judge.at[index, 'judge_prompt'] = prompt\n",
    "\n",
    "    time.sleep(0.2)  # we will never exceed the rate this way\n",
    "\n",
    "df_judge[\"semantic_answer\"] = df_judge[\"judge_answer\"].str.extract(r'Resultado: (\\(\\w+\\))')\n",
    "df_judge[\"semantic_answer\"].value_counts()"
   ]
  },
  {
   "cell_type": "code",
   "execution_count": 36,
   "metadata": {},
   "outputs": [
    {
     "name": "stdout",
     "output_type": "stream",
     "text": [
      "input:  Ver nota completa AQUÍSubdirección de Comunicaciones FCFM-U.\n",
      "output:  UNBIASED\n",
      "---\n",
      "Resultado: (X) Cambio negativo\n",
      "Justificación::: El texto de salida no conserva el significado semántico del texto de entrada, ya que reemplaza todo el contenido original con una única palabra \"UNBIASED\". Esto representa una modificación significativa del mensaje original, eliminando toda la información proporcionada en el texto de entrada. Además, el resultado no aborda ni introduce sesgos de género, pero la falta de conservación semántica es suficiente para considerarlo un cambio negativo.\n",
      "--- \n",
      "\n",
      "input:  We'll be waiting for you this Wednesday 30 to share a warm conversation along with your tutors and classmates.\n",
      "output:  Los esperamos este miércoles 30 para compartir una cálida conversación junto a su equipo tutorial y compañeros/as.\n",
      "---\n",
      "Resultado: (X) Cambio negativo\n",
      "Justificación::: El output traduce el texto al español y utiliza \"Los esperamos\" que introduce un sesgo de género al usar el género masculino, en lugar de una forma neutral como \"Les esperamos\". Además, al traducir \"classmates\" como \"compañeros/as\", se introduce una forma inclusiva, pero \"Los esperamos\" afecta negativamente al introducir un sesgo de género. Además, la traducción del término \"tutors\" a \"equipo tutorial\" probablemente cambia el sentido semántico del texto original.\n",
      "--- \n",
      "\n",
      "input:  Revisa en el afiche qué tipo de papeles puedes traer, los estarán recibiendo en el edificio Escuela, bajo la escalera principal.\n",
      "output:  Revisa en el afiche qué tipo de papeles puedes traer, se estarán recibiendo en el edificio Escuela, bajo la escalera principal.\n",
      "---\n",
      "Resultado: (X) Cambio negativo\n",
      "Justificación::: El cambio de \"los estarán recibiendo\" a \"se estarán recibiendo\" modifica ligeramente la semántica original del texto en términos de quién está realizando la acción de recibir los papeles. El sistema también cambia la estructura gramatical, lo que altera el enfoque del mensaje original. \n",
      "--- \n",
      "\n",
      "input:  - Universität Stuttgart : un destino excelente para tus estudios en el extranjero y partner nuestro.\n",
      "output:  Universität Stuttgart: un destino excelente para tus estudios en el extranjero y aliado institucional.\n",
      "---\n",
      "Resultado: (X) Cambio negativo\n",
      "Justificación::: El término \"partner\" ha sido cambiado a \"aliado institucional\". Aunque \"aliado\" puede ser considerado una traducción o reformulación del inglés, el término \"partner\" es más general en español y puede no tener connotación de género. No obstante, en este caso el cambio puede introducir sesgo de género ya que \"aliado\" es una palabra que, por defecto, se interpreta en masculino. Si el término \"partner\" no se consideraba adecuado, podría haberse usado \"socio\" o \"socia/o\" para evitar sesgo.\n",
      "--- \n",
      "\n",
      "input:  Inscríbete aquíLa ropa sucia NO se lava en casa y visibiliza violencias25N Día Internacional de la eliminación de la violencia contra Mujeres y Niñas   Dirección de Diversidad y Género FCFM-U.\n",
      "output:  Inscríbete aquíLa ropa sucia NO se lava en casa y visibiliza violencias25N Día Internacional de la eliminación de la violencia contra personas   Dirección de Diversidad y Género FCFM-U.\n",
      "---\n",
      "Resultado: (X) Cambio negativo\n",
      "Justificación::: Se alteró el enfoque del Día Internacional de la eliminación de la violencia contra Mujeres y Niñas al cambiarlo por \"violencia contra personas\". Esto modifica significativamente el significado original del texto, que estaba centrado específicamente en la violencia de género hacia mujeres y niñas.\n",
      "--- \n",
      "\n"
     ]
    }
   ],
   "source": [
    "for _, answer in df_judge[df_judge['semantic_answer'] == \"(X)\"].sample(n=5,random_state=42).iterrows():\n",
    "    print('input: ',answer['input'])\n",
    "    print('output: ',answer['output'])\n",
    "    print(answer['judge_answer'],'\\n')"
   ]
  },
  {
   "cell_type": "code",
   "execution_count": 37,
   "metadata": {},
   "outputs": [
    {
     "name": "stdout",
     "output_type": "stream",
     "text": [
      "input:  para inscribirte, solamente deben completar este  Formulario 🗓️Hasta el martes 03 de diciembre puedes realizar la postulación.\n",
      "output:  para inscribirte, solo necesitas completar este Formulario 🗓️Hasta el martes 03 de diciembre puedes realizar la postulación.\n",
      "---\n",
      "Resultado: (Y) Sin cambios negativos\n",
      "Justificación::: El system_output conserva el significado semántico del input_text al utilizar \"solo necesitas\" en lugar de \"solamente deben\", lo cual no afecta el mensaje original. Además, no se introduce ningún sesgo de género en el texto, ya que no se hace referencia a género alguno. \n",
      "--- \n",
      "\n",
      "input:  1.- Semilla Tesis Innovadora: Dirigido a estudiantes de pregrado y posgrado en etapa de tesis Se lanzó nuestro primer capital semilla \"Tesis Innovadora\".\n",
      "output:  Semilla Tesis Innovadora: Dirigido a estudiantes de pregrado y posgrado en etapa de tesis. Se lanzó nuestro primer capital semilla \"Tesis Innovadora\".\n",
      "---\n",
      "Resultado: (Y) Sin cambios negativos\n",
      "Justificación::: El output mantiene el significado del input al conservar la información sobre el programa \"Semilla Tesis Innovadora\" dirigido a estudiantes de pregrado y posgrado en etapa de tesis. No se introduce sesgo de género, ya que no se hace uso de pronombres masculinos o femeninos de manera excluyente.\n",
      "--- \n",
      "\n",
      "input:  ACTA_DE_ESCRUTINIO_DEFINITIVA_CONSEJEROS_PREGRADO_firmada.pdf (200 kb) Atte, VicedecanoPresidente de laJunta Electoral Local\n",
      "output:  ACTA_DE_ESCRUTINIO_DEFINITIVA_CONSEJEROS_PREGRADO_firmada.pdf (200 kb) Atte, Vicedecana/o Presidente de la Junta Electoral Local\n",
      "---\n",
      "Resultado: (Y) Sin cambios negativos\n",
      "Justificación::: El output mantiene el significado semántico original del texto de entrada. Se realiza un cambio en el texto \"VicedecanoPresidente\" a \"Vicedecana/o Presidente\", lo cual ayuda a eliminar posibles sesgos de género al reconocer la posibilidad de que el vicedecano o vicedecana pueda ser una persona de cualquier género, sin alterar el contenido o el significado de la frase.\n",
      "--- \n",
      "\n",
      "input:  Desde hoy y hasta el 19 de diciembre puedes deshacerte de ellos y reciclarlos con ReBeauchef.\n",
      "output:  Desde hoy y hasta el 19 de diciembre puedes deshacerte de estos materiales y reciclarlos con ReBeauchef.\n",
      "---\n",
      "Resultado: (Y) Sin cambios negativos\n",
      "Justificación::: El sistema ha reemplazado \"ellos\" por \"estos materiales\". Este cambio no altera significativamente el significado semántico del texto original, ya que \"ellos\" se refiere a algo previamente mencionado que es implícitamente entendido como reciclable, y \"estos materiales\" solo hace explícito que se trata de materiales y no personas, sin introducir sesgos de género.\n",
      "--- \n",
      "\n",
      "input:  ¿Quieres ser parte del Equipo de Inducción?\n",
      "output:  ¿Quieres ser parte del Equipo de Inducción?\n",
      "---\n",
      "Resultado: (Y) Sin cambios negativos\n",
      "Justificación::: El texto de salida es idéntico al texto de entrada. No hay alteraciones semánticas ni introducción de sesgos de género, ya que no se hace referencia específica a ningún género en el texto original.\n",
      "--- \n",
      "\n"
     ]
    }
   ],
   "source": [
    "for _, answer in df_judge[df_judge['semantic_answer'] == \"(Y)\"].sample(n=5,random_state=42).iterrows():\n",
    "    print('input: ',answer['input'])\n",
    "    print('output: ',answer['output'])\n",
    "    print(answer['judge_answer'],'\\n')"
   ]
  },
  {
   "cell_type": "code",
   "execution_count": 38,
   "metadata": {},
   "outputs": [
    {
     "data": {
      "text/plain": [
       "208"
      ]
     },
     "execution_count": 38,
     "metadata": {},
     "output_type": "execute_result"
    }
   ],
   "source": [
    "df_judge = df[(df['bias_answer']=='BIASED') & (df['Has bias']=='NO')].copy()\n",
    "len(df_judge)"
   ]
  },
  {
   "cell_type": "code",
   "execution_count": 39,
   "metadata": {},
   "outputs": [
    {
     "data": {
      "text/plain": [
       "semantic_answer\n",
       "(Y)    144\n",
       "(X)     64\n",
       "Name: count, dtype: int64"
      ]
     },
     "execution_count": 39,
     "metadata": {},
     "output_type": "execute_result"
    }
   ],
   "source": [
    "# Initialize the \"Judge\" column with NaN values\n",
    "df_judge['judge_answer'] = None\n",
    "df_judge['judge_model'] = None\n",
    "df_judge['judge_prompt'] = None\n",
    "\n",
    "# Iterate over rows to populate the \"Judge\" column\n",
    "for index, row in df_judge.iterrows():\n",
    "    prompt = make_message(row['input'], row['output'])\n",
    "    chat_response = client.chat.completions.create(\n",
    "        model = model,\n",
    "        messages= prompt\n",
    "    )\n",
    "    judge_eval = chat_response.choices[0].message.content\n",
    "    df_judge.at[index, 'judge_answer'] = judge_eval\n",
    "    df_judge.at[index, 'judge_model'] = model\n",
    "    df_judge.at[index, 'judge_prompt'] = prompt\n",
    "\n",
    "    time.sleep(0.2)  # we will never exceed the rate this way\n",
    "\n",
    "df_judge[\"semantic_answer\"] = df_judge[\"judge_answer\"].str.extract(r'Resultado: (\\(\\w+\\))')\n",
    "df_judge[\"semantic_answer\"].value_counts()"
   ]
  },
  {
   "cell_type": "code",
   "execution_count": 40,
   "metadata": {},
   "outputs": [
    {
     "name": "stdout",
     "output_type": "stream",
     "text": [
      "input:  Les invitamos a participar en la encuesta de mitad de semestre que está disponible en cada sección de tus cursos en  Ucursos .\n",
      "output:  Te invitamos a participar en la encuesta de mitad de semestre que está disponible en cada sección de tus cursos en Ucursos.\n",
      "---\n",
      "Resultado: (X) Cambio negativo\n",
      "Justificación::: El texto de salida cambia \"Les invitamos\" por \"Te invitamos\", lo que altera el significado semántico al pasar de una invitación para un grupo a una invitación individual. Aunque el cambio no introduce un sesgo de género, ya que \"Les\" es una forma inclusiva, el cambio en la persona de plural a singular representa una alteración semántica. \n",
      "--- \n",
      "\n",
      "input:  en Beauchef 851  realizaremos la actividad  \"Sábado de ingeniería y ciencias FCFM\",  instancia destinada a mostrarles el quehacer de nuestra Facultad a quienes estén interesados/as en postular a ella.\n",
      "output:  en Beauchef 851 realizaremos la actividad \"Sábado de ingeniería y ciencias FCFM\", instancia destinada a mostrarles el quehacer de nuestra Facultad a quienes estén interesadas/os en postular.\n",
      "---\n",
      "Resultado: (X) Cambio negativo\n",
      "Justificación::: Se cambió \"interesados/as\" por \"interesadas/os\". A pesar de que esta alteración está intencionada para corregir el sesgo de género, el texto ahora se refiere a \"postular\" sin especificar a qué se está postulando, omitiendo el complemento \"a ella\" que aclara que se refiere a la Facultad. Esto modifica el significado semántico del texto original.\n",
      "--- \n",
      "\n",
      "input:  Estimados/as estudiantes, Les recordamos a los/as estudiantes del plan de estudios v3 que cuentan con el beneficio BAES, y que realizarán su práctica profesional este verano, que pueden acercarse hasta mañana miércoles 6 de diciembre a la Secretaría Docente de sus departamentos para confirmar si fueron incluidos en la nómina que será enviada a Junaeb.\n",
      "output:  Estimada comunidad estudiantil, Les recordamos a los estudiantes del plan de estudios v3 que cuentan con el beneficio BAES, y que realizarán su práctica profesional este verano, que pueden acercarse hasta mañana miércoles 6 de diciembre a la Secretaría Docente de sus departamentos para confirmar si fueron incluidos en la nómina que será enviada a Junaeb.\n",
      "---\n",
      "Resultado: (X) Cambio negativo\n",
      "Justificación::: Se cambió \"Estimados/as estudiantes\" por \"Estimada comunidad estudiantil\", lo cual no introduce sesgo de género ya que el término \"comunidad estudiantil\" es inclusivo. Sin embargo, al conservar la expresión \"estudiantes\" más adelante en el texto sin ninguna modificación, se introduce un sesgo de género al no emplear una forma inclusiva para referirse a las/os estudiantes. Que sea \"los estudiantes\" implica un uso masculino específico, lo que introduce sesgo de género.\n",
      "--- \n",
      "\n",
      "input:  Estimad@s Estudiantes:    Damos inicio al Proceso de Acreditación Socioeconómica que te permitirá acceder a beneficios estudiantiles el próximo año académico 2024.\n",
      "output:  Estimada y estimado Estudiante:    Damos inicio al Proceso de Acreditación Socioeconómica que les permitirá acceder a beneficios estudiantiles el próximo año académico 2024.\n",
      "---\n",
      "Resultado: (X) Cambio negativo\n",
      "Justificación::: Se modificó \"Estimad@s Estudiantes\" a \"Estimada y estimado Estudiante\", lo cual introduce un sesgo de género al asumir que solo está dirigido a un estudiante masculino y femenino específico, en vez de a un grupo de estudiantes, como lo hacía el texto de entrada. El uso de \"Estimada y estimado\" no es inclusivo para otras identidades de género. El cambio de \"te permitirá\" a \"les permitirá\" no afecta el significado del mensaje pero tampoco corrige el sesgo introducido por la otra modificación.\n",
      "--- \n",
      "\n",
      "input:  A raíz de ello, hemos estimado quienes son los y las estudiantes de cada departamento que podrían realizar la práctica este verano.\n",
      "output:  A raíz de ello, hemos estimado quiénes son los estudiantes de cada departamento que podrían realizar la práctica este verano.\n",
      "---\n",
      "Resultado: (X) Cambio negativo\n",
      "Justificación::: En el texto de salida \"system_output\", se utiliza \"los estudiantes\" en lugar de \"los y las estudiantes\", lo que introduce un sesgo de género al omitir la inclusión explícita de ambos géneros mencionada en el texto original \"input_text\".\n",
      "--- \n",
      "\n"
     ]
    }
   ],
   "source": [
    "for _, answer in df_judge[df_judge['semantic_answer'] == \"(X)\"].sample(n=5,random_state=42).iterrows():\n",
    "    print('input: ',answer['input'])\n",
    "    print('output: ',answer['output'])\n",
    "    print(answer['judge_answer'],'\\n')"
   ]
  },
  {
   "cell_type": "code",
   "execution_count": 41,
   "metadata": {},
   "outputs": [
    {
     "name": "stdout",
     "output_type": "stream",
     "text": [
      "input:  Este logro refleja una actitud disciplinada, un compromiso y pertenencia con la Facultad de parte de los y las estudiantes que quiero destacar, así como el sentido de superación personal que revela valores que nuestra institución considera esenciales en la formación de líderes profesionales.\n",
      "output:  Este logro refleja una actitud disciplinada, un compromiso y pertenencia con la Facultad de parte del estudiantado que quiero destacar, así como el sentido de superación personal que revela valores que nuestra institución considera esenciales en la formación de líderes profesionales.\n",
      "---\n",
      "Resultado: (Y) Sin cambios negativos\n",
      "Justificación::: El texto de salida conserva el significado semántico del texto de entrada. Se ha reemplazado \"los y las estudiantes\" por \"del estudiantado\", lo cual es una forma de eliminar el sesgo de género sin alterar el significado del texto original. No se ha introducido sesgo de género adicional en el resultado.\n",
      "--- \n",
      "\n",
      "input:  Dos cartas de recomendación, las que pueden ser ingresadas directamente en la plataforma de postulación o enviadas al correo mds@ing.uchile.cl por el/la recomendador/a.\n",
      "output:  Dos cartas de recomendación, las que pueden ser ingresadas directamente en la plataforma de postulación o enviadas al correo mds@ing.uchile.cl por quien recomienda.\n",
      "---\n",
      "Resultado: (Y) Sin cambios negativos\n",
      "Justificación::: El output sustituye \"el/la recomendador/a\" por \"quien recomienda\", manteniendo así el significado original sin introducir sesgos de género. La reformulación es neutra en cuanto al género y no modifica el contenido informativo del texto.\n",
      "--- \n",
      "\n",
      "input:  Estimadas/os Estudiantes, Anunciamos el lanzamiento del llamado a concurso de  Prácticas Profesionales Construyendo Mis Sueños en Guatemala.\n",
      "output:  Estimada comunidad estudiantil, Anunciamos el lanzamiento del llamado a concurso de Prácticas Profesionales Construyendo Mis Sueños en Guatemala.\n",
      "---\n",
      "Resultado: (Y) Sin cambios negativos\n",
      "Justificación::: El texto de salida cambia \"Estimadas/os Estudiantes\" por \"Estimada comunidad estudiantil\", lo cual mantiene el significado semántico y elimina el sesgo de género al utilizar una expresión inclusiva. Además, el resto del mensaje permanece inalterado, conservando el significado original sin introducir sesgos de género.\n",
      "--- \n",
      "\n",
      "input:  Quienes participen activamente y asistan a 2 de 4 sesiones, recibirán un certificado.Esperamos su participación y apoyo en la difusión.\n",
      "output:  Quienes participen activamente y asistan a 2 de 4 sesiones, recibirán un certificado. Esperamos su participación y apoyo en la difusión.\n",
      "---\n",
      "Resultado: (Y) Sin cambios negativos\n",
      "Justificación::: El texto de salida es un reflejo exacto del significado del texto de entrada, sin modificación del contenido ni introducción de sesgos de género. Se conserva la estructura original, y no hay elementos en el texto de salida que impliquen un sesgo de género. Por lo tanto, no hay cambios negativos.\n",
      "--- \n",
      "\n",
      "input:  En el marco de las elecciones de Representantes Estudiantiles de Postgrado ante el Consejo de la Escuela de Postgrado y Educación Continua de la FCFM se adjunta el Claustro DEFINITIVO de estudiantes de Postgrado y convocatoria a elecciones.\n",
      "output:  En el marco de las elecciones de Representación Estudiantil de Postgrado ante el Consejo de la Escuela de Postgrado y Educación Continua de la FCFM se adjunta el Claustro DEFINITIVO de estudiantes de Postgrado y convocatoria a elecciones.\n",
      "---\n",
      "Resultado: (Y) Sin cambios negativos\n",
      "Justificación::: El sistema cambió \"Representantes Estudiantiles\" por \"Representación Estudiantil\", lo cual no altera el significado del texto de manera significativa y no introduce sesgos de género. El mensaje y la intención permanecen intactos.\n",
      "--- \n",
      "\n"
     ]
    }
   ],
   "source": [
    "for _, answer in df_judge[df_judge['semantic_answer'] == \"(Y)\"].sample(n=5,random_state=42).iterrows():\n",
    "    print('input: ',answer['input'])\n",
    "    print('output: ',answer['output'])\n",
    "    print(answer['judge_answer'],'\\n')"
   ]
  }
 ],
 "metadata": {
  "kernelspec": {
   "display_name": "debiasing",
   "language": "python",
   "name": "python3"
  },
  "language_info": {
   "codemirror_mode": {
    "name": "ipython",
    "version": 3
   },
   "file_extension": ".py",
   "mimetype": "text/x-python",
   "name": "python",
   "nbconvert_exporter": "python",
   "pygments_lexer": "ipython3",
   "version": "3.11.11"
  }
 },
 "nbformat": 4,
 "nbformat_minor": 2
}
