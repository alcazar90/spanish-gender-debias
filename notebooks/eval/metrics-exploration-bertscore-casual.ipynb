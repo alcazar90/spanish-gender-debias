{
 "cells": [
  {
   "cell_type": "markdown",
   "metadata": {},
   "source": [
    "# Evaluation using BERTscore\n",
    "\n",
    "[Source](https://huggingface.co/spaces/evaluate-metric/bertscore)"
   ]
  },
  {
   "cell_type": "code",
   "execution_count": 1,
   "metadata": {},
   "outputs": [],
   "source": [
    "import pandas as pd\n",
    "\n",
    "df = pd.read_csv(\"../../data/processed/20231220_metrics_CAUSAL.csv\")"
   ]
  },
  {
   "cell_type": "code",
   "execution_count": 2,
   "metadata": {},
   "outputs": [],
   "source": [
    "import ast\n",
    "from collections import Counter\n",
    "\n",
    "df['target'] = df['target'].apply(lambda text: ast.literal_eval(text))\n",
    "df['ID_row'] = df.index  # column to keep track of the original row\n",
    "df = df.explode('target', ignore_index=True)\n",
    "get_gen = lambda text: text.split('\\n')[2].replace('    <assistant>: ','')\n",
    "df['output'] = df['generation'].apply(get_gen)"
   ]
  },
  {
   "cell_type": "code",
   "execution_count": 3,
   "metadata": {},
   "outputs": [],
   "source": [
    "from evaluate import load\n",
    "bertscore = load(\"bertscore\")"
   ]
  },
  {
   "cell_type": "markdown",
   "metadata": {},
   "source": [
    "Full evaluation"
   ]
  },
  {
   "cell_type": "code",
   "execution_count": 4,
   "metadata": {},
   "outputs": [],
   "source": [
    "results = bertscore.compute(predictions=df['output'], references=df['target'], model_type=\"bert-base-multilingual-cased\")"
   ]
  },
  {
   "cell_type": "code",
   "execution_count": 5,
   "metadata": {},
   "outputs": [],
   "source": [
    "df['precision'] = results['precision']\n",
    "df['recall'] = results['recall']\n",
    "df['f1'] = results['f1']"
   ]
  },
  {
   "cell_type": "code",
   "execution_count": 6,
   "metadata": {},
   "outputs": [],
   "source": [
    "def filter_best_scores(df, id_column, score_column):\n",
    "    \"\"\"\n",
    "    Reduces the dataframe to only the rows with the best score for each ID.\n",
    "\n",
    "    Parameters:\n",
    "    - df (pd.DataFrame): The original dataframe\n",
    "    - id_column (str): Name of the column containing unique IDs\n",
    "    - score_column (str): Name of the column containing the scores\n",
    "\n",
    "    Returns:\n",
    "    - pd.DataFrame: A filtered dataframe with the best score per ID\n",
    "    \"\"\"\n",
    "    # Find the maximum score for each ID_row\n",
    "    best_scores = df.groupby(id_column)[score_column].transform('max')\n",
    "    \n",
    "    # Filter the rows where the score matches the maximum score for each ID_row\n",
    "    filtered_df = df[df[score_column] == best_scores].copy(deep=True)\n",
    "    \n",
    "    return filtered_df"
   ]
  },
  {
   "cell_type": "code",
   "execution_count": 7,
   "metadata": {},
   "outputs": [],
   "source": [
    "df_results = filter_best_scores(df, 'ID_row', 'f1')"
   ]
  },
  {
   "cell_type": "code",
   "execution_count": 8,
   "metadata": {},
   "outputs": [
    {
     "name": "stdout",
     "output_type": "stream",
     "text": [
      "precision \n",
      "\tmean: 0.9984012772817441\n",
      "\tstd: 0.008954700796637778\n",
      "\n",
      "recall \n",
      "\tmean: 0.997340931459461\n",
      "\tstd: 0.0178454148136428\n",
      "\n",
      "f1 \n",
      "\tmean: 0.9978308397943102\n",
      "\tstd: 0.013742493489760968\n",
      "\n"
     ]
    }
   ],
   "source": [
    "import numpy as np\n",
    "\n",
    "for k in results.keys():\n",
    "    if not k == 'hashcode':\n",
    "        print(f'{k}',f'\\n\\tmean: {np.mean(df_results[k])}\\n\\tstd: {np.std(df_results[k])}\\n')"
   ]
  },
  {
   "cell_type": "markdown",
   "metadata": {},
   "source": [
    "Subtracting input"
   ]
  },
  {
   "cell_type": "code",
   "execution_count": 9,
   "metadata": {},
   "outputs": [],
   "source": [
    "results_input = bertscore.compute(\n",
    "    predictions=df_results['input'],\n",
    "    references=df_results['target'], model_type=\"bert-base-multilingual-cased\")\n",
    "df_results['precision_input'] = results_input['precision']\n",
    "df_results['recall_input'] = results_input['recall']\n",
    "df_results['f1_input'] = results_input['f1']\n",
    "\n",
    "df_results['precision_diff'] = df_results['precision'] - df_results['precision_input']\n",
    "df_results['recall_diff'] = df_results['recall'] - df_results['recall_input']\n",
    "df_results['f1_diff'] = df_results['f1'] - df_results['f1_input']"
   ]
  },
  {
   "cell_type": "code",
   "execution_count": 10,
   "metadata": {},
   "outputs": [
    {
     "name": "stdout",
     "output_type": "stream",
     "text": [
      "precision \n",
      "\tmean (diff): -0.0005592012496860436\n",
      "\tstd (diff): 0.0080156009561033\n",
      "\n",
      "recall \n",
      "\tmean (diff): -0.0004410390811198203\n",
      "\tstd (diff): 0.017936119889381312\n",
      "\n",
      "f1 \n",
      "\tmean (diff): -0.0005302721124780757\n",
      "\tstd (diff): 0.013393888082191757\n",
      "\n"
     ]
    }
   ],
   "source": [
    "for k in results.keys():\n",
    "    if not k == 'hashcode':\n",
    "        print(f'{k}',f\"\\n\\tmean (diff): {np.mean(df_results[k+'_diff'])}\\n\\tstd (diff): {np.std(df_results[k+'_diff'])}\\n\")"
   ]
  },
  {
   "cell_type": "markdown",
   "metadata": {},
   "source": [
    "# Analysing cases"
   ]
  },
  {
   "cell_type": "code",
   "execution_count": 11,
   "metadata": {},
   "outputs": [
    {
     "name": "stdout",
     "output_type": "stream",
     "text": [
      "Original input:\t\t Inscripciones: https://docs.google.com/forms/d/e/1FAIpQLSeoH95qz0rYLsxdKE_hIDwzPRq92RdUDvogtKslxgHiTYIclQ/viewform?fbclid=IwAR1jFrg2wisisGOFyck5OdxS706nWyyHvhgWTjZHOe1vaw6M86BGwlmAdFkTransmisión online vía YouTube: https://l.facebook.com/l.php?u=https%3A%2F%2...aTwTwpU9NaMuaFAb51v8vHbNl4xPH5G0VvsJrYs50VRhNR-Zb \n",
      " Closest target:\t Inscripciones: https://docs.google.com/forms/d/e/1FAIpQLSeoH95qz0rYLsxdKE_hIDwzPRq92RdUDvogtKslxgHiTYIclQ/viewform?fbclid=IwAR1jFrg2wisisGOFyck5OdxS706nWyyHvhgWTjZHOe1vaw6M86BGwlmAdFkTransmisión online vía YouTube: https://l.facebook.com/l.php?u=https%3A%2F%2...aTwTwpU9NaMuaFAb51v8vHbNl4xPH5G0VvsJrYs50VRhNR-Zb \n",
      " Generation:\t\t Inscripciones: https://docs.google.com/forms/d/e/1FAIpQLSeoH95qz0rLYzxgHIzqz0rLYzxgHIzqz0rLYzxgHIzqz0rLYzxgHIzqz0rLYzxgHIzqz0rLYzxgHIzqz0rLYzxgHIzqz0rLYzxgHIzqz0rLYzxgHIzqz0rLYzxgHIzqz0rLYzxgHIzqz0rLYzxgHIzqz0rLYzxgHIzqz0rLYzxgHIzqz0rLYzxgHIzqz0rLYzxgHIzqz0rLYzxgHIzqz0rLYzxgHIzqz0rLYzxgHIz \n",
      " BERTScore f1:\t 0.7066790461540222 \n",
      "\n",
      "\n",
      "Original input:\t\t Estimada Comunidad, Presentamos una nueva convocatoria abierta MOVILIDAD INTERNACIONAL CON EQUIDAD 👉 Dirigida a estudiantes de pregrado admisión 2021, interesados en realizar un intercambio en el segundo semestre de 2024 👉 Prioridad para estudiantes con admisión SIPEE, PACE, como también estudiantes PACE habilitados y beneficiarios de la BEA 👉 Para más información visita  https://uchile.cl/u210466 Para consultas, escribe al   pme@u.uchile.cl \n",
      " Closest target:\t Estimada Comunidad, Presentamos una nueva convocatoria abierta MOVILIDAD INTERNACIONAL CON EQUIDAD 👉 Dirigida a estudiantes de pregrado admisión 2021, interesados/as en realizar un intercambio en el segundo semestre de 2024 👉 Prioridad para estudiantes con admisión SIPEE, PACE, como también estudiantes PACE habilitados/as y beneficiarios/as de la BEA 👉 Para más información visita  https://uchile.cl/u210466 Para consultas, escribe al   pme@u.uchile.cl \n",
      " Generation:\t\t Estimada Comunidad, Presentamos una nueva convocatoria abierta MOVILIDAD INTERNACIONAL CON EQUIDAD 👉 Dirigida a estudiantes de pregrado admisión 2021, interesados en realizar un intercambio en el segundo semestre de 2024 👉 Prioridad para estudiantes con admisión SIPEE, PACE, como también estudiantes PACE habilitados y beneficiarios de la BEA 👉 Para más información visita  https://uchile.cl/u210466 Para consultas, escribe al   pme@u.uchile.cl \n",
      " BERTScore f1:\t 0.8911850452423096 \n",
      "\n",
      "\n",
      "Original input:\t\t Hoy en \"Vida Saludable en Beauchef\", preparamos talleres para mejorar el bienestar y promover la salud física y mental Tendremos: Yoga: Estará una instructora en el Hall Sur, esperándolos y espesándolas para relajarse con una clase de yoga... Atentos a los regalitos sorpresa que entregaremos a los asistentesEntrenamiento funcional: A llenarse de energía y botar estrés con una clase entretenida ¡a moverse! \n",
      " Closest target:\t Hoy en \"Vida Saludable en Beauchef\", preparamos talleres para mejorar el bienestar y promover la salud física y mental Tendremos: Yoga: Estará una instructora en el Hall Sur, esperándolos y espesándolas para relajarse con una clase de yoga... Atentas(os) a los regalitos sorpresa que entregaremos a las(os) asistentesEntrenamiento funcional: A llenarse de energía y botar estrés con una clase entretenida ¡a moverse! \n",
      " Generation:\t\t Hoy en \"Vida Saludable en Beauchef\", preparamos talleres para mejorar el bienestar y promover la salud física y mental Tendremos: Yoga: Estará una instructora en el Hall Sur, esperándolos y espesándolos para relajarse con una clase de yoga... Atentos a los regalitos sorpresa que entregaremos a las personas que entren! \n",
      " BERTScore f1:\t 0.9051027894020081 \n",
      "\n",
      "\n",
      "Original input:\t\t CONVOCATORIA DE ELECCION DE REPRESENTANTES ESTUDIANTILES DE POSTGRADO ANTE EL CONSEJO DE LA ESCUELA DE POSTGRADO Y EDUCACION CONTINUA DE LA FACULTAD DE CIENCIAS FISICAS Y MATEMATICAS.Nómina provisional de candidaturas: La elección se realizará el jueves 23 de noviembre de 2023 en forma electrónica a través de la plataforma Participa Uchile. \n",
      " Closest target:\t CONVOCATORIA DE ELECCION DE REPRESENTANTES ESTUDIANTILES DE POSTGRADO ANTE EL CONSEJO DE LA ESCUELA DE POSTGRADO Y EDUCACION CONTINUA DE LA FACULTAD DE CIENCIAS FISICAS Y MATEMATICAS.Nómina provisional de candidaturas: La elección se realizará el jueves 23 de noviembre de 2023 en forma electrónica a través de la plataforma Participa Uchile. \n",
      " Generation:\t\t CONVOCATORIA DE ELECCION DE ELETTORAS Y ELECCIONAROS DE REPRESENTANTES ESTUDIANTILES DE POSTGRADO ANTE EL CONSEJO DE LA ESCUELA DE POSTGRADO Y EDUCACION CONTINUA DE LA FACULTAD DE CIENCIAS FISICAS Y MATEMATICAS.Nómina provisional de candidaturas: La elección se realizará el jueves 23 de noviembre de 2023 a través de la plataforma Participa Uchile. \n",
      " BERTScore f1:\t 0.907557487487793 \n",
      "\n",
      "\n",
      "Original input:\t\t Te invitamos a ser parte del Torneo de Innovación Interfacultades 2023: \"Desafiados por la sustentabilidad\", un emocionante viaje en el que podrás:   Abordar desafíos empresariales reales y problemas globales urgentes 🌡☀Desarrollar soluciones innovadoras que pueden cambiar el mundo 🌎Participar por premios de dinero en efectivo para implementar tus ideas y proyectos 💡Las 3 mejores ideas podrán obtener los siguientes premios:1er Lugar: $1.000.0002do Lugar: $500.0003er Lugar: $300.000  INSCRÍBETE AQUÍ ✊🏽. \n",
      " Closest target:\t Te invitamos a ser parte del Torneo de Innovación Interfacultades 2023: \"Desafiados por la sustentabilidad\", un emocionante viaje en el que podrás:   Abordar desafíos empresariales reales y problemas globales urgentes 🌡☀Desarrollar soluciones innovadoras que pueden cambiar el mundo 🌎Participar por premios de dinero en efectivo para implementar tus ideas y proyectos 💡Las 3 mejores ideas podrán obtener los siguientes premios:1er Lugar: $1.000.0002do Lugar: $500.0003er Lugar: $300.000  INSCRÍBETE AQUÍ ✊🏽. \n",
      " Generation:\t\t Te invitamos a ser parte del Torneo de Innovación Interfacultades 2023: \"Desafiados por la sustentabilidad\", un emocionante viaje en el que podrás:   Abordar desafíos empresariales reales y problemas globales urgentes 🌡☀Desarrollar soluciones innovadoras que pueden cambiar el mundo 🌎Participar por premios de dinero en efectivo para implementar tus ideas y proyectos 💡Las 3 mejores ideas podrán obtener los siguientes premios:1er Lugar: $1.000.0002do Lugar: $500.000  INSCRÍBETE AQUÍ ✊🏽. \n",
      " BERTScore f1:\t 0.9087686538696289 \n",
      "\n",
      "\n",
      "Original input:\t\t Tutorías personalizadas uno a uno por especialistas en escritura en Educación Superior y talleres prácticos. \n",
      " Closest target:\t Tutorías personalizadas uno/a a uno/a por especialistas en escritura en Educación Superior y talleres prácticos. \n",
      " Generation:\t\t Tutorías personalizadas uno a uno por especialistas en escritura en Educación Superior y talleres prácticos. \n",
      " BERTScore f1:\t 0.9408329129219055 \n",
      "\n",
      "\n",
      "Original input:\t\t A todos y todas las deportistas y al personal que colabora con el Área de Deportes en la FCFM, les damos muchísimas gracias; estamos muy contentos de este nuevo triunfo, que nos llena de orgullo y que es un ejemplo que estimula nuestro trabajo. \n",
      " Closest target:\t A todas y todos las/os deportistas y al personal que colabora con el Área de Deportes en la FCFM, les damos muchísimas gracias; estamos muy contentos/as de este nuevo triunfo, que nos llena de orgullo y que es un ejemplo que estimula nuestro trabajo. \n",
      " Generation:\t\t A la comunidad deportística y al personal que colabora con el Área de Deportes en la FCFM, les damos muchísimas gracias; estamos muy contentas/os de este nuevo triunfo, que nos llena de orgullo y que es un ejemplo que estimula nuestro trabajo. \n",
      " BERTScore f1:\t 0.9476659297943115 \n",
      "\n",
      "\n",
      "Original input:\t\t 🗣️Oradores: Omar Bravo - Consultor Senior / Rosario Veas - Consultor Senior / Agustín Canete - Consultor Analista. \n",
      " Closest target:\t 🗣️Charlistas: Omar Bravo - Consultor Senior / Rosario Veas – Consultora Senior / Agustín Canete - Consultor Analista. \n",
      " Generation:\t\t 🗣️Oradores: Omar Bravo - Consultor Senior / Rosario Veas - Consultor Senior / Agustín Canete - Consultor Analista. \n",
      " BERTScore f1:\t 0.9500472545623779 \n",
      "\n",
      "\n",
      "Original input:\t\t Cupo para los primeros 20 inscritos Inscríbete aquí Taller Dormir bien para sentirse bien:  Un taller diseñado para estudiantes, que les cuesta conciliar las horas de sueño con las responsabilidades académicas. \n",
      " Closest target:\t Cupo para las primeras 20 personas inscritas Inscríbete aquí Taller Dormir bien para sentirse bien:  Un taller diseñado para estudiantes, que les cuesta conciliar las horas de sueño con las responsabilidades académicas. \n",
      " Generation:\t\t Cupo para las personas que inscriban el taller Inscríbete aquí Taller Dormir bien para sentirse bien:  Un taller diseñado para estudiantes, que les cuesta conciliar las horas de sueño con las responsabilidades académicas. \n",
      " BERTScore f1:\t 0.9522610902786255 \n",
      "\n",
      "\n",
      "Original input:\t\t Idioma de postulación: inglésEnlace de postulación Más información y consultas \n",
      " Closest target:\t Idioma de postulación: inglésEnlace de postulación Más información y consultas \n",
      " Generation:\t\t Idioma de postulación: inglésEnlace de postulación más información y consultas \n",
      " BERTScore f1:\t 0.9558871984481812 \n",
      "\n",
      "\n"
     ]
    }
   ],
   "source": [
    "def display_lowest_text(df, score_col, k):\n",
    "    # Sort the dataframe by the score column\n",
    "    sorted_df = df.sort_values(by=score_col, ascending=True)\n",
    "    \n",
    "    # Select the k rows with the lowest scores\n",
    "    lowest_rows = sorted_df.head(k)\n",
    "\n",
    "    for i in range(k):\n",
    "        print(\"Original input:\\t\\t\",lowest_rows['input'].tolist()[i],'\\n',\n",
    "              \"Closest target:\\t\",lowest_rows['target'].tolist()[i],'\\n',\n",
    "              \"Generation:\\t\\t\",lowest_rows['output'].tolist()[i],'\\n',\n",
    "              f'BERTScore {score_col}:\\t',lowest_rows[score_col].tolist()[i],'\\n\\n')\n",
    "    \n",
    "# Call the function\n",
    "display_lowest_text(df_results, 'f1', k=10)"
   ]
  },
  {
   "cell_type": "code",
   "execution_count": 12,
   "metadata": {},
   "outputs": [
    {
     "name": "stdout",
     "output_type": "stream",
     "text": [
      "Original input:\t\t Inscripciones: https://docs.google.com/forms/d/e/1FAIpQLSeoH95qz0rYLsxdKE_hIDwzPRq92RdUDvogtKslxgHiTYIclQ/viewform?fbclid=IwAR1jFrg2wisisGOFyck5OdxS706nWyyHvhgWTjZHOe1vaw6M86BGwlmAdFkTransmisión online vía YouTube: https://l.facebook.com/l.php?u=https%3A%2F%2...aTwTwpU9NaMuaFAb51v8vHbNl4xPH5G0VvsJrYs50VRhNR-Zb \n",
      " Closest target:\t Inscripciones: https://docs.google.com/forms/d/e/1FAIpQLSeoH95qz0rYLsxdKE_hIDwzPRq92RdUDvogtKslxgHiTYIclQ/viewform?fbclid=IwAR1jFrg2wisisGOFyck5OdxS706nWyyHvhgWTjZHOe1vaw6M86BGwlmAdFkTransmisión online vía YouTube: https://l.facebook.com/l.php?u=https%3A%2F%2...aTwTwpU9NaMuaFAb51v8vHbNl4xPH5G0VvsJrYs50VRhNR-Zb \n",
      " Generation:\t\t Inscripciones: https://docs.google.com/forms/d/e/1FAIpQLSeoH95qz0rLYzxgHIzqz0rLYzxgHIzqz0rLYzxgHIzqz0rLYzxgHIzqz0rLYzxgHIzqz0rLYzxgHIzqz0rLYzxgHIzqz0rLYzxgHIzqz0rLYzxgHIzqz0rLYzxgHIzqz0rLYzxgHIzqz0rLYzxgHIzqz0rLYzxgHIzqz0rLYzxgHIzqz0rLYzxgHIzqz0rLYzxgHIzqz0rLYzxgHIzqz0rLYzxgHIzqz0rLYzxgHIz \n",
      " BERTScore f1_diff:\t -0.293320894241333 \n",
      "\n",
      "\n",
      "Original input:\t\t CONVOCATORIA DE ELECCION DE REPRESENTANTES ESTUDIANTILES DE POSTGRADO ANTE EL CONSEJO DE LA ESCUELA DE POSTGRADO Y EDUCACION CONTINUA DE LA FACULTAD DE CIENCIAS FISICAS Y MATEMATICAS.Nómina provisional de candidaturas: La elección se realizará el jueves 23 de noviembre de 2023 en forma electrónica a través de la plataforma Participa Uchile. \n",
      " Closest target:\t CONVOCATORIA DE ELECCION DE REPRESENTANTES ESTUDIANTILES DE POSTGRADO ANTE EL CONSEJO DE LA ESCUELA DE POSTGRADO Y EDUCACION CONTINUA DE LA FACULTAD DE CIENCIAS FISICAS Y MATEMATICAS.Nómina provisional de candidaturas: La elección se realizará el jueves 23 de noviembre de 2023 en forma electrónica a través de la plataforma Participa Uchile. \n",
      " Generation:\t\t CONVOCATORIA DE ELECCION DE ELETTORAS Y ELECCIONAROS DE REPRESENTANTES ESTUDIANTILES DE POSTGRADO ANTE EL CONSEJO DE LA ESCUELA DE POSTGRADO Y EDUCACION CONTINUA DE LA FACULTAD DE CIENCIAS FISICAS Y MATEMATICAS.Nómina provisional de candidaturas: La elección se realizará el jueves 23 de noviembre de 2023 a través de la plataforma Participa Uchile. \n",
      " BERTScore f1_diff:\t -0.09244251251220703 \n",
      "\n",
      "\n",
      "Original input:\t\t Te invitamos a ser parte del Torneo de Innovación Interfacultades 2023: \"Desafiados por la sustentabilidad\", un emocionante viaje en el que podrás:   Abordar desafíos empresariales reales y problemas globales urgentes 🌡☀Desarrollar soluciones innovadoras que pueden cambiar el mundo 🌎Participar por premios de dinero en efectivo para implementar tus ideas y proyectos 💡Las 3 mejores ideas podrán obtener los siguientes premios:1er Lugar: $1.000.0002do Lugar: $500.0003er Lugar: $300.000  INSCRÍBETE AQUÍ ✊🏽. \n",
      " Closest target:\t Te invitamos a ser parte del Torneo de Innovación Interfacultades 2023: \"Desafiados por la sustentabilidad\", un emocionante viaje en el que podrás:   Abordar desafíos empresariales reales y problemas globales urgentes 🌡☀Desarrollar soluciones innovadoras que pueden cambiar el mundo 🌎Participar por premios de dinero en efectivo para implementar tus ideas y proyectos 💡Las 3 mejores ideas podrán obtener los siguientes premios:1er Lugar: $1.000.0002do Lugar: $500.0003er Lugar: $300.000  INSCRÍBETE AQUÍ ✊🏽. \n",
      " Generation:\t\t Te invitamos a ser parte del Torneo de Innovación Interfacultades 2023: \"Desafiados por la sustentabilidad\", un emocionante viaje en el que podrás:   Abordar desafíos empresariales reales y problemas globales urgentes 🌡☀Desarrollar soluciones innovadoras que pueden cambiar el mundo 🌎Participar por premios de dinero en efectivo para implementar tus ideas y proyectos 💡Las 3 mejores ideas podrán obtener los siguientes premios:1er Lugar: $1.000.0002do Lugar: $500.000  INSCRÍBETE AQUÍ ✊🏽. \n",
      " BERTScore f1_diff:\t -0.0912313461303711 \n",
      "\n",
      "\n",
      "Original input:\t\t Hoy en \"Vida Saludable en Beauchef\", preparamos talleres para mejorar el bienestar y promover la salud física y mental Tendremos: Yoga: Estará una instructora en el Hall Sur, esperándolos y espesándolas para relajarse con una clase de yoga... Atentos a los regalitos sorpresa que entregaremos a los asistentesEntrenamiento funcional: A llenarse de energía y botar estrés con una clase entretenida ¡a moverse! \n",
      " Closest target:\t Hoy en \"Vida Saludable en Beauchef\", preparamos talleres para mejorar el bienestar y promover la salud física y mental Tendremos: Yoga: Estará una instructora en el Hall Sur, esperándolos y espesándolas para relajarse con una clase de yoga... Atentas(os) a los regalitos sorpresa que entregaremos a las(os) asistentesEntrenamiento funcional: A llenarse de energía y botar estrés con una clase entretenida ¡a moverse! \n",
      " Generation:\t\t Hoy en \"Vida Saludable en Beauchef\", preparamos talleres para mejorar el bienestar y promover la salud física y mental Tendremos: Yoga: Estará una instructora en el Hall Sur, esperándolos y espesándolos para relajarse con una clase de yoga... Atentos a los regalitos sorpresa que entregaremos a las personas que entren! \n",
      " BERTScore f1_diff:\t -0.07435864210128784 \n",
      "\n",
      "\n",
      "Original input:\t\t Idioma de postulación: inglésEnlace de postulación Más información y consultas \n",
      " Closest target:\t Idioma de postulación: inglésEnlace de postulación Más información y consultas \n",
      " Generation:\t\t Idioma de postulación: inglésEnlace de postulación más información y consultas \n",
      " BERTScore f1_diff:\t -0.04411280155181885 \n",
      "\n",
      "\n"
     ]
    }
   ],
   "source": [
    "# Call the function\n",
    "display_lowest_text(df_results, 'f1_diff', k=5)"
   ]
  },
  {
   "cell_type": "code",
   "execution_count": 13,
   "metadata": {},
   "outputs": [
    {
     "name": "stdout",
     "output_type": "stream",
     "text": [
      "Original input:\t\t Los cursos permiten a los futuros estudiantes extranjeros sentar unas bases sólidas para sus estudios. \n",
      " Closest target:\t Los cursos permiten a las/os futuras/os estudiantes extranjeras/os sentar unas bases sólidas para sus estudios. \n",
      " Generation:\t\t Los cursos permiten a las/os futuras/os estudiantes extranjeras/os sentar unas bases sólidas para sus estudios. \n",
      " BERTScore f1:\t 0.10054647922515869 \n",
      "\n",
      "\n",
      "Original input:\t\t El número de consejero son 4. \n",
      " Closest target:\t El número de consejero(a) son 4. \n",
      " Generation:\t\t El número de consejero(a) son 4. \n",
      " BERTScore f1:\t 0.06845730543136597 \n",
      "\n",
      "\n"
     ]
    }
   ],
   "source": [
    "def display_highest_text(df, score_col, k):\n",
    "    # Sort the dataframe by the score column\n",
    "    sorted_df = df.sort_values(by=score_col, ascending=False)\n",
    "    \n",
    "    # Select the k rows with the lowest scores\n",
    "    lowest_rows = sorted_df.head(k)\n",
    "\n",
    "    for i in range(k):\n",
    "        print(\"Original input:\\t\\t\",lowest_rows['input'].tolist()[i],'\\n',\n",
    "              \"Closest target:\\t\",lowest_rows['target'].tolist()[i],'\\n',\n",
    "              \"Generation:\\t\\t\",lowest_rows['output'].tolist()[i],'\\n',\n",
    "              'BERTScore f1:\\t',lowest_rows[score_col].tolist()[i],'\\n\\n')\n",
    "    \n",
    "# Call the function\n",
    "display_highest_text(df_results, 'f1_diff', k=2)"
   ]
  }
 ],
 "metadata": {
  "kernelspec": {
   "display_name": "debiasing",
   "language": "python",
   "name": "python3"
  },
  "language_info": {
   "codemirror_mode": {
    "name": "ipython",
    "version": 3
   },
   "file_extension": ".py",
   "mimetype": "text/x-python",
   "name": "python",
   "nbconvert_exporter": "python",
   "pygments_lexer": "ipython3",
   "version": "3.11.11"
  }
 },
 "nbformat": 4,
 "nbformat_minor": 2
}
