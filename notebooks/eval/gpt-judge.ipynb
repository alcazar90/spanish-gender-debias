{
 "cells": [
  {
   "cell_type": "markdown",
   "metadata": {},
   "source": [
    "# LLM-as-judge with GPT4"
   ]
  },
  {
   "cell_type": "markdown",
   "metadata": {},
   "source": [
    "Loading judge"
   ]
  },
  {
   "cell_type": "code",
   "execution_count": 1,
   "metadata": {},
   "outputs": [],
   "source": [
    "from openai import OpenAI\n",
    "from judge import make_message\n",
    "import time\n",
    "\n",
    "model = \"gpt-4o\"\n",
    "\n",
    "with open('OpenAI_key', 'r') as file:\n",
    "    openAI_key = file.readline().strip()\n",
    "\n",
    "client = OpenAI(api_key = openAI_key)"
   ]
  },
  {
   "cell_type": "markdown",
   "metadata": {},
   "source": [
    "## Processing fine-tuned model output"
   ]
  },
  {
   "cell_type": "code",
   "execution_count": 2,
   "metadata": {},
   "outputs": [
    {
     "data": {
      "text/html": [
       "<div>\n",
       "<style scoped>\n",
       "    .dataframe tbody tr th:only-of-type {\n",
       "        vertical-align: middle;\n",
       "    }\n",
       "\n",
       "    .dataframe tbody tr th {\n",
       "        vertical-align: top;\n",
       "    }\n",
       "\n",
       "    .dataframe thead th {\n",
       "        text-align: right;\n",
       "    }\n",
       "</style>\n",
       "<table border=\"1\" class=\"dataframe\">\n",
       "  <thead>\n",
       "    <tr style=\"text-align: right;\">\n",
       "      <th></th>\n",
       "      <th>input</th>\n",
       "      <th>target</th>\n",
       "      <th>sesgo_pronombre</th>\n",
       "      <th>sesgo_otro</th>\n",
       "      <th>seq2seq_document</th>\n",
       "      <th>causal_document</th>\n",
       "      <th>generation</th>\n",
       "      <th>reference_tokens</th>\n",
       "      <th>max_ref_len</th>\n",
       "      <th>generated_tokens</th>\n",
       "      <th>input_tokens</th>\n",
       "      <th>bleu_gen</th>\n",
       "      <th>bleu_input</th>\n",
       "      <th>bleu_dif</th>\n",
       "      <th>rouge</th>\n",
       "      <th>output</th>\n",
       "    </tr>\n",
       "  </thead>\n",
       "  <tbody>\n",
       "    <tr>\n",
       "      <th>0</th>\n",
       "      <td>Estimada comunidad beauchefiana: ¿Tienes papel...</td>\n",
       "      <td>['Estimada comunidad beauchefiana: ¿Tienes pap...</td>\n",
       "      <td>NO</td>\n",
       "      <td>NO</td>\n",
       "      <td>Eliminar sesgo de género del siguiente texto:\\...</td>\n",
       "      <td>&lt;human&gt;: ¿Puedes reescribir el siguiente texto...</td>\n",
       "      <td>&lt;human&gt;: ¿Puedes reescribir el siguiente texto...</td>\n",
       "      <td>[['Estimada', 'comunidad', 'beauchefiana', ':'...</td>\n",
       "      <td>11</td>\n",
       "      <td>['Estimada', 'comunidad', 'beauchefiana', ':',...</td>\n",
       "      <td>['Estimada', 'comunidad', 'beauchefiana', ':',...</td>\n",
       "      <td>1.0</td>\n",
       "      <td>1.0</td>\n",
       "      <td>0.0</td>\n",
       "      <td>1.0</td>\n",
       "      <td>Estimada comunidad beauchefiana: ¿Tienes papel...</td>\n",
       "    </tr>\n",
       "    <tr>\n",
       "      <th>1</th>\n",
       "      <td>Desde hoy y hasta el 19 de diciembre puedes de...</td>\n",
       "      <td>['Desde hoy y hasta el 19 de diciembre puedes ...</td>\n",
       "      <td>NaN</td>\n",
       "      <td>NaN</td>\n",
       "      <td>Eliminar sesgo de género del siguiente texto:\\...</td>\n",
       "      <td>&lt;human&gt;: ¿Puedes reescribir el siguiente texto...</td>\n",
       "      <td>&lt;human&gt;: ¿Puedes reescribir el siguiente texto...</td>\n",
       "      <td>[['Desde', 'hoy', 'y', 'hasta', 'el', '19', 'd...</td>\n",
       "      <td>17</td>\n",
       "      <td>['Desde', 'hoy', 'y', 'hasta', 'el', '19', 'de...</td>\n",
       "      <td>['Desde', 'hoy', 'y', 'hasta', 'el', '19', 'de...</td>\n",
       "      <td>1.0</td>\n",
       "      <td>1.0</td>\n",
       "      <td>0.0</td>\n",
       "      <td>1.0</td>\n",
       "      <td>Desde hoy y hasta el 19 de diciembre puedes de...</td>\n",
       "    </tr>\n",
       "  </tbody>\n",
       "</table>\n",
       "</div>"
      ],
      "text/plain": [
       "                                               input  \\\n",
       "0  Estimada comunidad beauchefiana: ¿Tienes papel...   \n",
       "1  Desde hoy y hasta el 19 de diciembre puedes de...   \n",
       "\n",
       "                                              target sesgo_pronombre  \\\n",
       "0  ['Estimada comunidad beauchefiana: ¿Tienes pap...              NO   \n",
       "1  ['Desde hoy y hasta el 19 de diciembre puedes ...             NaN   \n",
       "\n",
       "  sesgo_otro                                   seq2seq_document  \\\n",
       "0         NO  Eliminar sesgo de género del siguiente texto:\\...   \n",
       "1        NaN  Eliminar sesgo de género del siguiente texto:\\...   \n",
       "\n",
       "                                     causal_document  \\\n",
       "0  <human>: ¿Puedes reescribir el siguiente texto...   \n",
       "1  <human>: ¿Puedes reescribir el siguiente texto...   \n",
       "\n",
       "                                          generation  \\\n",
       "0  <human>: ¿Puedes reescribir el siguiente texto...   \n",
       "1  <human>: ¿Puedes reescribir el siguiente texto...   \n",
       "\n",
       "                                    reference_tokens  max_ref_len  \\\n",
       "0  [['Estimada', 'comunidad', 'beauchefiana', ':'...           11   \n",
       "1  [['Desde', 'hoy', 'y', 'hasta', 'el', '19', 'd...           17   \n",
       "\n",
       "                                    generated_tokens  \\\n",
       "0  ['Estimada', 'comunidad', 'beauchefiana', ':',...   \n",
       "1  ['Desde', 'hoy', 'y', 'hasta', 'el', '19', 'de...   \n",
       "\n",
       "                                        input_tokens  bleu_gen  bleu_input  \\\n",
       "0  ['Estimada', 'comunidad', 'beauchefiana', ':',...       1.0         1.0   \n",
       "1  ['Desde', 'hoy', 'y', 'hasta', 'el', '19', 'de...       1.0         1.0   \n",
       "\n",
       "   bleu_dif  rouge                                             output  \n",
       "0       0.0    1.0  Estimada comunidad beauchefiana: ¿Tienes papel...  \n",
       "1       0.0    1.0  Desde hoy y hasta el 19 de diciembre puedes de...  "
      ]
     },
     "execution_count": 2,
     "metadata": {},
     "output_type": "execute_result"
    }
   ],
   "source": [
    "import pandas as pd\n",
    "\n",
    "df = pd.read_csv(\"../../data/processed/20231220_metrics_CAUSAL.csv\")\n",
    "get_gen = lambda text: text.split('\\n')[2].replace('    <assistant>: ','')\n",
    "df['output'] = df['generation'].apply(get_gen)\n",
    "\n",
    "df.head(2)"
   ]
  },
  {
   "cell_type": "code",
   "execution_count": 3,
   "metadata": {},
   "outputs": [],
   "source": [
    "# Create 'result' column based on comparison after stripping whitespace\n",
    "df['bias_answer'] = df.apply(lambda row: \"UNBIASED\" if row['input'].strip() == row['output'].strip() else \"BIASED\", axis=1)"
   ]
  },
  {
   "cell_type": "code",
   "execution_count": 4,
   "metadata": {},
   "outputs": [
    {
     "data": {
      "text/plain": [
       "Has bias\n",
       "Unable to bias    453\n",
       "NO                271\n",
       "YES                58\n",
       "Name: count, dtype: int64"
      ]
     },
     "execution_count": 4,
     "metadata": {},
     "output_type": "execute_result"
    }
   ],
   "source": [
    "import numpy as np\n",
    "\n",
    "# Define conditions\n",
    "conditions = [\n",
    "    (df['sesgo_pronombre'] == 'SI') | (df['sesgo_otro'] == 'SI'),\n",
    "    (df['sesgo_pronombre'] == 'NO') & (df['sesgo_otro'] == 'NO'),\n",
    "    df['sesgo_pronombre'].isna() & df['sesgo_otro'].isna()\n",
    "]\n",
    "\n",
    "# Assign values based on conditions\n",
    "choices = ['YES', 'NO', 'Unable to bias']\n",
    "df['Has bias'] = np.select(conditions, choices, default=None)\n",
    "\n",
    "df['Has bias'].value_counts()"
   ]
  },
  {
   "cell_type": "code",
   "execution_count": 5,
   "metadata": {},
   "outputs": [
    {
     "name": "stdout",
     "output_type": "stream",
     "text": [
      "Frequency Matrix:\n",
      " bias_answer     BIASED  UNBIASED\n",
      "Has bias                        \n",
      "NO                  50       221\n",
      "Unable to bias      19       434\n",
      "YES                 37        21\n",
      "\n",
      "Percentage Matrix:\n",
      " bias_answer        BIASED   UNBIASED\n",
      "Has bias                            \n",
      "NO              18.450185  81.549815\n",
      "Unable to bias   4.194260  95.805740\n",
      "YES             63.793103  36.206897\n"
     ]
    }
   ],
   "source": [
    "# Frequency matrix\n",
    "freq_matrix = pd.crosstab(df['Has bias'], df['bias_answer'])\n",
    "\n",
    "# Percentage matrix\n",
    "percentage_matrix = freq_matrix.div(freq_matrix.sum(axis=1), axis=0) * 100\n",
    "\n",
    "# Display results\n",
    "print(\"Frequency Matrix:\\n\", freq_matrix)\n",
    "print(\"\\nPercentage Matrix:\\n\", percentage_matrix)"
   ]
  },
  {
   "cell_type": "markdown",
   "metadata": {},
   "source": [
    "Judge"
   ]
  },
  {
   "cell_type": "code",
   "execution_count": 6,
   "metadata": {},
   "outputs": [
    {
     "data": {
      "text/plain": [
       "37"
      ]
     },
     "execution_count": 6,
     "metadata": {},
     "output_type": "execute_result"
    }
   ],
   "source": [
    "df_judge = df[(df['bias_answer']=='BIASED') & (df['Has bias']=='YES')].copy()\n",
    "len(df_judge)"
   ]
  },
  {
   "cell_type": "code",
   "execution_count": 7,
   "metadata": {},
   "outputs": [],
   "source": [
    "# Initialize the \"Judge\" column with NaN values\n",
    "df_judge['judge_answer'] = None\n",
    "df_judge['judge_model'] = None\n",
    "df_judge['judge_prompt'] = None\n",
    "\n",
    "# Iterate over rows to populate the \"Judge\" column\n",
    "for index, row in df_judge.iterrows():\n",
    "    prompt = make_message(row['input'], row['output'])\n",
    "    chat_response = client.chat.completions.create(\n",
    "        model = model,\n",
    "        messages= prompt\n",
    "    )\n",
    "    judge_eval = chat_response.choices[0].message.content\n",
    "    df_judge.at[index, 'judge_answer'] = judge_eval\n",
    "    df_judge.at[index, 'judge_model'] = model\n",
    "    df_judge.at[index, 'judge_prompt'] = prompt\n",
    "\n",
    "    time.sleep(0.2)  # we will never exceed the rate this way"
   ]
  },
  {
   "cell_type": "code",
   "execution_count": 9,
   "metadata": {},
   "outputs": [
    {
     "data": {
      "text/plain": [
       "bias_judge\n",
       "(Y)    20\n",
       "(X)    17\n",
       "Name: count, dtype: int64"
      ]
     },
     "execution_count": 9,
     "metadata": {},
     "output_type": "execute_result"
    }
   ],
   "source": [
    "df_judge[\"bias_judge\"] = df_judge[\"judge_answer\"].str.extract(r'Resultado de sesgo: (\\(\\w+\\))')\n",
    "df_judge[\"bias_judge\"].value_counts()"
   ]
  },
  {
   "cell_type": "code",
   "execution_count": 10,
   "metadata": {},
   "outputs": [],
   "source": [
    "df_judge.to_csv('judge_test/20250208_gpt4-o-judge_ft-causal-model.csv', index=False)"
   ]
  },
  {
   "cell_type": "code",
   "execution_count": 13,
   "metadata": {},
   "outputs": [
    {
     "name": "stdout",
     "output_type": "stream",
     "text": [
      "input:  En el caso de los estudiantes del plan de estudios 2019 consideramos a quienes tienen inscrito el último Taller de práctica profesional y para estudiantes del plan antiguo revisamos quienes cumplirían con los requisitos para tomar el curso práctica profesional en otoño 2024.\n",
      "output:  En el caso de estudiantes del plan de estudios 2019 consideramos a quienes tienen inscrito el último Taller de práctica profesional y para estudiantes del plan antiguo revisamos quienes cumplirían con los requisitos para tomar el curso práctica profesional en otoño 2024.\n",
      "---\n",
      "Resultado de sesgo: (X)\n",
      "Justificación::: El texto de salida no corrigió el sesgo en la frase \"los estudiantes\". Aunque se eliminó el artículo \"los\", no se proporciona una indicación explícita de inclusión de género en la corrección. Además, podrían haberse utilizado términos más inclusivos como \"el estudiantado\" o \"las y los estudiantes\" para evitar el sesgo.\n",
      "--- \n",
      "\n",
      "input:  Completa el formulario y adjunta la documentación de respaldo en el siguiente LINK Plazos:   - General: hasta el 10 de diciembre - Programa de Residencia Universitaria: Se extiende postulación hasta el 30 de noviembre     Si ingresaste vía SIPEE , PACE o renuevas el Programa de Residencia, recuerda que debes agendar una hora de entrevista con una Trabajadora Social.\n",
      "output:  Completa el formulario y adjunta la documentación de respaldo en el siguiente LINK Plazos:   - General: hasta el 10 de diciembre - Programa de Residencia Universitaria: Se extiende postulación hasta el 30 de noviembre     Si ingresaste vía SIPEE, PACE o renuevas el Programa de Residencia, recuerda que debes agendar una hora de entrevista con una Trabajadora Social.\n",
      "---\n",
      "Resultado de sesgo: (X)\n",
      "Justificación::: El texto hace referencia específica a \"una Trabajadora Social\", usando un género específico femenino. Para ser inclusivo, podría haberse reemplazado con \"profesional de trabajo social\" u otra expresión que no especifique género. Por lo tanto, el sesgo de género no ha sido corregido.\n",
      "--- \n",
      "\n",
      "input:  Completa el formulario y adjunta la documentación de respaldo en el siguiente LINK Plazos:   - General: hasta el 10 de diciembre - Programa de Residencia Universitaria: hasta el 24 de noviembre    Si ingresaste vía SIPEE , PACE o renuevas el Programa de Residencia, recuerda que debes agendar una hora de entrevista con una Trabajadora Social.\n",
      "output:  Completa el formulario y adjunta la documentación de respaldo en el siguiente LINK Plazos:   - General: hasta el 10 de diciembre - Programa de Residencia Universitaria: hasta el 24 de noviembre    Si ingresaste vía SIPEE, PACE o renuevas el Programa de Residencia, recuerda que debes agendar una hora de entrevista con una Trabajadora Social.\n",
      "---\n",
      "Resultado de sesgo: (X)\n",
      "Justificación::: El texto de entrada presenta un sesgo de género en la frase \"con una Trabajadora Social\", ya que se asume que el trabajador social es femenino. El texto de salida del sistema no realiza ninguna modificación para corregir este sesgo, manteniendo la misma referencia de género.\n",
      "--- \n",
      "\n",
      "input:  Las y los competidores están preparando cada detalle de sus robots: algunos buscarán romper récords de tiempo, mientras robots luchadores se enfrentarán en una batalla épica para descubrir quién será el último en pié.\n",
      "output:  Las y los competidores están preparando cada detalle de sus robots: algunas/os buscarán romper récords de tiempo, mientras robots luchadores se enfrentarán en una batalla épica para descubrir quién será el último en pié.\n",
      "---\n",
      "Resultado de sesgo: (X)\n",
      "Justificación::: Aunque se intentó utilizar \"algunas/os\" para incluir ambos géneros, no se corrigió \"último en pie\" a una forma más inclusiva como \"última/o en pie\", manteniendo un sesgo de género en esa parte del texto.\n",
      "--- \n",
      "\n",
      "input:  https://participauchile.cl/1_MODIFICA_FECHA_DE__ELECCION_DE_REPRESENTANTES_ESTUDIANTILES_POSTGRADO.pdf (123 kb)Agradecemos a los y las estudiantes que se presentaron como candidatos a Consejeros Estudiantil de Postgrado.\n",
      "output:  https://participauchile.cl/1_MODIFICA_FECHA_DE__ELECCION_DE_REPRESENTANTES_ESTUDIANTILES_POSTGRADO.pdf (123 kb)Agradecemos a las y los estudiantes que se presentaron como candidatos a Consejeros/as Estudiantil/a de Postgrado.\n",
      "---\n",
      "Resultado de sesgo: (X)\n",
      "Justificación::: Se cambió \"Consejeros\" por \"Consejeros/as\", lo cual es una corrección parcial. Sin embargo, al usar \"que se presentaron como candidatos\" sigue implicando específicamente el género masculino sin incluir la forma femenina \"candidatas\" o una versión inclusiva como \"candidatos/as\".\n",
      "--- \n",
      "\n",
      "input:  Hoy en \"Vida Saludable en Beauchef\", preparamos talleres para mejorar el bienestar y promover la salud física y mental Tendremos: Yoga: Estará una instructora en el Hall Sur, esperándolos y espesándolas para relajarse con una clase de yoga... Atentos a los regalitos sorpresa que entregaremos a los asistentesEntrenamiento funcional: A llenarse de energía y botar estrés con una clase entretenida ¡a moverse!\n",
      "output:  Hoy en \"Vida Saludable en Beauchef\", preparamos talleres para mejorar el bienestar y promover la salud física y mental Tendremos: Yoga: Estará una instructora en el Hall Sur, esperándolos y espesándolos para relajarse con una clase de yoga... Atentos a los regalitos sorpresa que entregaremos a las personas que entren!\n",
      "---\n",
      "Resultado de sesgo: (X)\n",
      "Justificación::: En el texto de salida se corrigió parcialmente el sesgo de género al cambiar \"a los asistentes\" por \"a las personas que entren\", pero la palabra \"espesándolos y espesándolas\" no es gramaticalmente correcta en español y no tiene sentido en el contexto de sesgo de género, probablemente se quiso decir \"esperándoles\" o algún término más inclusivo. Además, se mantuvo el uso de \"Atentos\", que debería incluir también el femenino o ser una forma inclusiva, como \"Atent@s\" o \"Atentas y atentos\".\n",
      "--- \n",
      "\n",
      "input:  Como el formato de trabajo es en pareja, te recomendamos inscribirte con una persona que no tenga inconveniente que lo toquen ni sea tocado para el masaje.\n",
      "output:  Como el formato de trabajo es en pareja, te recomendamos inscribirte con una persona que no tenga inconveniente que lo toquen ni sea tocada para el masaje.\n",
      "---\n",
      "Resultado de sesgo: (X)\n",
      "Justificación::: El texto system_output solo corrigió parcialmente el sesgo al cambiar \"lo toquen\" por \"lo toquen ni sea tocada\", donde aún utiliza el pronombre \"lo\" que implica un sesgo de género. Se podría haber utilizado un lenguaje completamente neutral o inclusivo.\n",
      "--- \n",
      "\n",
      "input:  Cupo para los primeros 20 inscritos Inscríbete aquí Taller Dormir bien para sentirse bien:  Un taller diseñado para estudiantes, que les cuesta conciliar las horas de sueño con las responsabilidades académicas.\n",
      "output:  Cupo para las personas que inscriban el taller Inscríbete aquí Taller Dormir bien para sentirse bien:  Un taller diseñado para estudiantes, que les cuesta conciliar las horas de sueño con las responsabilidades académicas.\n",
      "---\n",
      "Resultado de sesgo: (X)\n",
      "Justificación::: El texto de salida no corrige completamente el sesgo de género del texto de entrada. Aunque se cambió \"los primeros 20 inscritos\" por \"las personas que inscriban\", que es neutro, no todos los sesgos presentes fueron corregidos. La frase \"los estudiantes\" sigue sin corregirse, ya que requiere un término inclusivo como \"el estudiantado\" o \"las y los estudiantes\".\n",
      "--- \n",
      "\n",
      "input:  Inscripción de candidatos: Desde el martes 31 de octubre y hasta el miércoles 08 de noviembre entre las 09:00 a 18:00horas, en Vicedecanato, email: sevideca@ing.uchile.cl Fecha votación Primera Vuelta: jueves 16 de noviembre de 2023CLAUSTRO_DEFINITIVO_ELECCIONE_POSTGRADO.pdf (636 kb)CONVOCATORIA_A_ELECCION_CONSEJEROS_DE_POSTGRADO.pdf (126 kb)Ficha_inscripcioI_n_Postgrado_2023.doc (37 kb)\n",
      "output:  Inscripción de candidatos: Desde el martes 31 de octubre y hasta el miércoles 08 de noviembre entre las 09:00 a 18:00horas, en Vicedecanato, email: sevideca@ing.uchile.cl Fecha votación Primera Vuelta: jueves 16 de noviembre de 2023CLAUSTRO_DEFINITIVO_ELECCION_POSTGRADO.pdf (636 kb)CONVOCATORIA_A_ELECCION_CONSEJEROS_DE_POSTGRADO.pdf (126 kb)Ficha_inscripcioI_n_Postgrado_2023.doc (37 kb)\n",
      "---\n",
      "Resultado de sesgo: (X)\n",
      "Justificación::: El texto de entrada presenta el uso del término \"candidatos\", que implica un género específico. En la salida del sistema, este término no ha sido modificado para incluir una forma más inclusiva o neutra, como \"candidatas y candidatos\" o \"personas candidatas\", por lo que la eliminación del sesgo de género no ha sido realizada.\n",
      "--- \n",
      "\n",
      "input:  Los Talleres de Práctica Profesional I inscritos para los estudiantes del plan estudios v.5, no serán considerados dentro de las tres opciones disponibles de cada estudiante.\n",
      "output:  Los Talleres de Práctica Profesional I inscritos para estudiantes del plan estudios v.5, no serán considerados dentro de las tres opciones disponibles de cada estudiante.\n",
      "---\n",
      "Resultado de sesgo: (X)\n",
      "Justificación::: En el texto no se corrigió el uso del artículo \"los\" en \"Los Talleres de Práctica Profesional I inscritos para los estudiantes\", que se refiere a un grupo de estudiantes de manera masculina. Una corrección adecuada debería haber sustituido \"los\" con un término inclusivo o neutro como \"los y las\" o simplemente \"Talleres de Práctica Profesional I inscritos para estudiantes\".\n",
      "--- \n",
      "\n",
      "input:  Los esperamos con un  te Adagio  y un  concurso sorpresa  entre quienes participen en los stands   Nos vemos 😊\n",
      "output:  Les esperamos con un  te Adagio  y un  concurso sorpresa  entre quienes participen en los stands   Nos vemos 😊\n",
      "---\n",
      "Resultado de sesgo: (X)\n",
      "Justificación::: Se cambió \"Los esperamos\" por \"Les esperamos\" para abordar el sesgo de género en esa parte de la oración. Sin embargo, la palabra \"quienes\" no implica género, por lo que el cambio es adecuado. Dado que la corrección no aborda más texto, es parcial, pero las partes considerables si fueron corregidas adecuadamente.\n",
      "--- \n",
      "\n",
      "input:  Completa el formulario y adjunta la documentación de respaldo en el siguiente LINK Plazos:   - General: hasta el 10 de diciembre - Programa de Residencia Universitaria: hasta el 24 de noviembre    Si ingresaste vía SIPEE , PACE o renuevas el Programa de Residencia, recibirás un correo para agendar una hora de entrevista con una Trabajadora Social.\n",
      "output:  Completa el formulario y adjunta la documentación de respaldo en el siguiente LINK Plazos:   - General: hasta el 10 de diciembre - Programa de Residencia Universitaria: hasta el 24 de noviembre    Si ingresaste vía SIPEE, PACE o renuevas el Programa de Residencia, recibirás un correo para agendar una hora de entrevista con una Trabajadora Social.\n",
      "---\n",
      "Resultado de sesgo: (X)\n",
      "Justificación::: El texto de salida del sistema no ha corregido el sesgo de género relacionado con la ocupación \"Trabajadora Social\", la cual se asocia exclusivamente al género femenino. Podría haberse utilizado \"Personal de Trabajo Social\" o una forma inclusiva como \"Trabajadora o Trabajador Social\".\n",
      "--- \n",
      "\n",
      "input:  jueves 28 de septiembre  tendremos una charla donde algunas de las universidades parte del grupo  CALDO , que reúne a las instituciones más prestigiosas de Canadá, darán información relevante sobre los distintos tipos de intercambios que nuestros estudiantes pueden hacer.\n",
      "output:  jueves 28 de septiembre  tendremos una charla donde algunas de las universidades parte del grupo  CALDO, que reúne a las instituciones más prestigiosas de Canadá, darán información relevante sobre los distintos tipos de intercambios que nuestros estudiantes pueden hacer.\n",
      "---\n",
      "Resultado de sesgo: (X)\n",
      "Justificación::: No se realizó ninguna corrección al sesgo de género en el texto. La palabra \"nuestros\" se mantiene, implicando un género específico. Para corregir el sesgo, podría haberse cambiado por \"nuestras y nuestros estudiantes\" o \"estudiantes\" de manera neutral.\n",
      "--- \n",
      "\n",
      "input:  Tras ellos, hay otros equipos de colaboradores de la Escuela de Ingeniería y Ciencias, especialmente la Subdirección de Asuntos Estudiantiles, la Subdirección de Gestión Docente, la Oficina Administrativa y Difusión, así como la secretaria de Deportes, quienes apoyan el trabajo deportivo con permanente compromiso y cuyo aporte es también esencial.\n",
      "output:  Tras ellos, hay otros equipos de colaboradores/as de la Escuela de Ingeniería y Ciencias, especialmente la Subdirección de Asuntos Estudiantiles, la Subdirección de Gestión Docente, la Oficina Administrativa y Difusión, así como la secretaria de Deportes, quienes apoyan el trabajo deportivo con permanente compromiso y cuyo aporte es también esencial.\n",
      "---\n",
      "Resultado de sesgo: (X)\n",
      "Justificación::: El único cambio realizado fue en \"colaboradores/as\" para incluir ambos géneros, sin embargo, se sigue utilizando \"ellos\", lo que implica una referencia masculina. Por lo tanto, el sesgo no ha sido corregido completamente.\n",
      "--- \n",
      "\n",
      "input:  Estimados/as Estudiantes: 🛫 El jueves 28 de septiembre  tendremos una charla donde algunas de las universidades parte del grupo  CALDO , que reúne a las instituciones más prestigiosas de Canadá, darán información relevante sobre los distintos tipos de intercambios que nuestros estudiantes pueden hacer.\n",
      "output:  Estimados/as Estudiantes: 🛫 El jueves 28 de septiembre  tendremos una charla donde algunas de las universidades parte del grupo  CALDO, que reúne a las instituciones más prestigiosas de Canadá, darán información relevante sobre los distintos tipos de intercambios que nuestros estudiantes pueden hacer.\n",
      "---\n",
      "Resultado de sesgo: (X)\n",
      "Justificación::: No se han realizado cambios en el texto del system_output que mantengan la neutralidad de género. La palabra \"nuestros estudiantes\" al final de la oración sigue en la versión masculina, mientras podría haberse cambiado a una forma neutral o inclusiva.\n",
      "--- \n",
      "\n",
      "input:  Se informa a los estudiantes que cursen sólo una asignatura (a excepción de quienes inscriban únicamente los cursos \"Trabajo de Título\" o \"Trabajo de Memoria de Título\") y que deseen optar a la rebaja de arancel del 50% del semestre Primavera 2023, que podrán solicitar dicha rebaja entre los días 23 y 30 de agosto al correo sec_estudios@ing.uchile.cl, indicando en el asunto del mail \"Solicitud Rebaja 50% de Arancel Primavera 2023\".A esta opción sólo se puede acceder una vez durante la carrera.\n",
      "output:  Se informa a las y los estudiantes que cursen sólo una asignatura (a excepción de quienes inscriban únicamente los cursos \"Trabajo de Título\" o \"Trabajo de Memoria de Título\") y que deseen optar a la rebaja de arancel del 50% del semestre Primavera 2023, que podrán solicitar dicha rebaja entre los días 23 y 30 de agosto al correo sec_estudios@ing.uchile.cl, indicando en el asunto del mail \"Solicitud Rebaja 50% de Arancel Primavera 2023\".A esta opción sólo se puede acceder una vez durante la carrera.\n",
      "---\n",
      "Resultado de sesgo: (X)\n",
      "Justificación::: En la salida del sistema, el sesgo se intentó corregir al cambiar \"los estudiantes\" por \"las y los estudiantes\". Sin embargo, esa es la única corrección realizada, y muchas otras palabras podrían haberse cambiado para evitar cualquier género específico. Por ejemplo, \"quienes inscriban\" podría haberse cambiado para evitar la forma masculina genérica, y \"podrán solicitar\" también podría rediseñarse para eliminar el género. Además, el uso de \"quienes\" ya resolvía bien el problema de género. Por lo tanto, la corrección no fue completamente efectiva.\n",
      "--- \n",
      "\n",
      "input:  Los estudiantes que registran cuenta bancaria errónea, podrán ingresar sus datos correctos en el  formulario de datos bancarios    hasta el 10 de septiembre  para ser considerados en la siguiente cuota.\n",
      "output:  Las/os estudiantes que registran cuenta bancaria errónea, podrán ingresar sus datos correctos en el  formulario de datos bancarios    hasta el 10 de septiembre  para ser considerados en la siguiente cuota.\n",
      "---\n",
      "Resultado de sesgo: (X)\n",
      "Justificación::: Aunque se corrigió la expresión \"Los estudiantes\" por \"Las/os estudiantes\", lo cual aborda el sesgo del pronombre genérico, la corrección no es completa. El término \"considerados\" permanece con sesgo de género, pues debería haberse modificado a \"consideradas/os\" o una alternativa inclusiva.\n",
      "--- \n",
      "\n"
     ]
    }
   ],
   "source": [
    "for _, answer in df_judge[df_judge['bias_judge'] == \"(X)\"].iterrows():\n",
    "    print('input: ',answer['input'])\n",
    "    print('output: ',answer['output'])\n",
    "    print(answer['judge_answer'],'\\n')"
   ]
  },
  {
   "cell_type": "code",
   "execution_count": 14,
   "metadata": {},
   "outputs": [
    {
     "data": {
      "text/plain": [
       "50"
      ]
     },
     "execution_count": 14,
     "metadata": {},
     "output_type": "execute_result"
    }
   ],
   "source": [
    "df_errors = df[(df['bias_answer']=='BIASED') & (df['Has bias']=='NO')].copy()\n",
    "len(df_errors)"
   ]
  },
  {
   "cell_type": "code",
   "execution_count": 15,
   "metadata": {},
   "outputs": [],
   "source": [
    "# Initialize the \"Judge\" column with NaN values\n",
    "df_errors['judge_answer'] = None\n",
    "df_errors['judge_model'] = None\n",
    "df_errors['judge_prompt'] = None\n",
    "\n",
    "# Iterate over rows to populate the \"Judge\" column\n",
    "for index, row in df_errors.iterrows():\n",
    "    prompt = make_message(row['input'], row['output'])\n",
    "    chat_response = client.chat.completions.create(\n",
    "        model = model,\n",
    "        messages= prompt\n",
    "    )\n",
    "    judge_eval = chat_response.choices[0].message.content\n",
    "    df_errors.at[index, 'judge_answer'] = judge_eval\n",
    "    df_errors.at[index, 'judge_model'] = model\n",
    "    df_errors.at[index, 'judge_prompt'] = prompt\n",
    "\n",
    "    time.sleep(0.2)  # we will never exceed the rate this way"
   ]
  },
  {
   "cell_type": "code",
   "execution_count": 16,
   "metadata": {},
   "outputs": [
    {
     "data": {
      "text/plain": [
       "bias_answer\n",
       "(X)    34\n",
       "(Y)    16\n",
       "Name: count, dtype: int64"
      ]
     },
     "execution_count": 16,
     "metadata": {},
     "output_type": "execute_result"
    }
   ],
   "source": [
    "df_errors[\"bias_answer\"] = df_errors[\"judge_answer\"].str.extract(r'Resultado de sesgo: (\\(\\w+\\))')\n",
    "df_errors[\"bias_answer\"].value_counts()"
   ]
  },
  {
   "cell_type": "code",
   "execution_count": 17,
   "metadata": {},
   "outputs": [
    {
     "name": "stdout",
     "output_type": "stream",
     "text": [
      "input:  Estimada comunidad beauchefiana: Les invitamos a la Feria de Ideas de las/os estudiantes del Programa iGea 2023, quienes han trabajado en proyectos de diseño para su misión  Desafíos de las ciudades sustentables en un clima cambiante .\n",
      "output:  Estimada comunidad beauchefiana: Les invitamos a la Feria de Ideas de las/os estudiantes del Programa iGea 2023, quienes han trabajado en proyectos de diseño para su misión  Desafíos de las ciudades sustentables en un clima cambiante.\n",
      "---\n",
      "Resultado de sesgo: (Y)\n",
      "Justificación::: El texto original ya es inclusivo, utilizando \"les/os estudiantes\" y \"les invitamos\" para evitar el uso específico de un género. No se identifica sesgo en el texto que necesite corrección, y el system_output mantiene este lenguaje inclusivo.\n",
      "--- \n",
      "\n",
      "input:  En el semestre primavera 2023 por medio del curso iGea Diseño, las/os estudiantes lograron llegar a la fase inicial de diseño de sus proyectos asociados a temáticas específicas de  Regeneración Urbana, Bienestar Térmico y Recursos Naturales , los cuales serán presentados en el evento mediante pósters y maquetas/prototipos.\n",
      "output:  En el semestre primavera 2023 por medio del curso iGea Diseño, las/os estudiantes lograron llegar a la fase inicial de diseño de sus proyectos asociados a temáticas específicas de  Regeneración Urbana, Bienestar Térmico y Recursos Naturales, los cuales serán presentados en el evento mediante pósters y maquetas/prototipos.\n",
      "---\n",
      "Resultado de sesgo: (Y)\n",
      "Justificación::: El texto de salida ya utilizaba \"las/os estudiantes\", lo cual es una forma inclusiva de referirse al grupo y no cambia en la versión del system_output. No se identifican diferencias de género no corregidas entre el texto original y el de salida.\n",
      "--- \n",
      "\n",
      "input:  Estimada comunidad FCFM:La  Oficina de Ingeniería para la Sustentabilidad  se encuentra recogiendo información acerca de los patrones de movilidad de las personas que asisten a la FCFM, con el fin de  cuantificar su huella de carbono .\n",
      "output:  Estimada comunidad FCFM:La  Oficina de Ingeniería para la Sustentabilidad  se encuentra recogiendo información acerca de los patrones de movilidad de las personas que asisten a la FCFM, con el fin de  cuantificar su huella de carbono.\n",
      "---\n",
      "Resultado de sesgo: (Y)\n",
      "Justificación::: El texto original ya no presenta problemas de sesgo de género dado que utiliza términos neutrales como \"comunidad\" y \"las personas\". La salida del sistema es idéntica al texto de entrada, lo que es aceptable ya que no había sesgo de género que corregir.\n",
      "--- \n",
      "\n",
      "input:  Aprende diferentes técnicas respiratorias y disfruta de una experiencia de relajo junto a compañeres de otras carreras.\n",
      "output:  Aprende diferentes técnicas respiratorias y disfruta de una experiencia de relajo junto a compañer@s de otras carreras.\n",
      "---\n",
      "Resultado de sesgo: (Y)\n",
      "Justificación::: El uso de \"compañer@s\" corrige el sesgo de género en el texto original al incluir de manera neutral a personas de cualquier género.\n",
      "--- \n",
      "\n",
      "input:  Para registrarse, interesados e interesadas sólo deben inscribirse en daad.cl/uni-talks .\n",
      "output:  Para registrarse, interesados e interesadas sólo deben inscribirse en daad.cl/uni-talks.\n",
      "---\n",
      "Resultado de sesgo: (Y)\n",
      "Justificación::: El texto de entrada ya utilizaba un lenguaje inclusivo \"interesados e interesadas\", y el texto de salida del sistema lo mantiene de manera correcta, sin introducir ni eliminar sesgos de género.\n",
      "--- \n",
      "\n",
      "input:  Beauchefian@s: Junto con saludarles, les extendemos invitación a la inauguración de la  exposición \"Editando la historia: medios de prensa, literatura y fotografías\" , la que se realizará mañana  jueves 5 de octubre a las 13:00 hrs.\n",
      "output:  Beauchefian@s: Junto con saludarles, les extendemos invitación a la inauguración de la  exposición \"Editando la historia: medios de prensa, literatura y fotografías\", la que se realizará mañana  jueves 5 de octubre a las 13:00 hrs.\n",
      "---\n",
      "Resultado de sesgo: (Y)\n",
      "Justificación::: El texto original ya utilizaba el lenguaje inclusivo al utilizar \"Beauchefian@s\" y \"les\", por lo tanto la salida del sistema no necesitaba hacer cambios adicionales para eliminar sesgos de género y mantiene correctamente el uso inclusivo y neutro.\n",
      "--- \n",
      "\n",
      "input:  Beauchefian@s:   Continuando con las iniciativas en el marco de los 50 años del golpe de Estado en Chile, les invitamos a la  \"Ceremonia de instalaciones conmemorativas\" , que realizaremos este  miércoles 25 de octubre a las 13:30 hrs.\n",
      "output:  Beauchefian@s:   Continuando con las iniciativas en el marco de los 50 años del golpe de Estado en Chile, les invitamos a la  \"Ceremonia de instalaciones conmemorativas\", que realizaremos este  miércoles 25 de octubre a las 13:30 hrs.\n",
      "---\n",
      "Resultado de sesgo: (Y)\n",
      "Justificación::: El texto original ya utiliza lenguaje inclusivo con el término \"Beauchefian@s\", y no hay evidencias de sesgo de género que necesiten corrección adicional. El texto de salida del sistema es una reproducción exacta del texto original, lo que indica que el sesgo, si lo hubiera, ya estaba corregido desde el inicio.\n",
      "--- \n",
      "\n",
      "input:  Beauchefian@s: Les invitamos a la inauguración de la exposición  \"Espacios ocultos de la memoria\" , que se realizará  hoy lunes 23 octubre a las 13:30 hrs.\n",
      "output:  Beauchefian@s: Les invitamos a la inauguración de la exposición  \"Espacios ocultos de la memoria\", que se realizará  hoy lunes 23 octubre a las 13:30 hrs.\n",
      "---\n",
      "Resultado de sesgo: (Y)\n",
      "Justificación::: El texto original ya estaba libre de sesgo de género mediante el uso de \"Beauchefian@s\" y \"Les invitamos\", los cuales son inclusivos de todos los géneros. El system_output mantiene el mismo nivel de inclusividad, por lo tanto, no había sesgo que corregir.\n",
      "--- \n",
      "\n",
      "input:  Los y las invitamos a revisar el Instructivo de Semestre de Verano 2023-2024 que contiene todos los detalles sobre su funcionamiento.\n",
      "output:  Les invitamos a revisar el Instructivo de Semestre de Verano 2023-2024 que contiene todos los detalles sobre su funcionamiento.\n",
      "---\n",
      "Resultado de sesgo: (Y)\n",
      "Justificación::: El texto de salida del sistema \"Les invitamos\" es una forma neutra e inclusiva que evita la dualidad \"los y las\", proporcionando una corrección adecuada al sesgo de género presente en el texto de entrada.\n",
      "--- \n",
      "\n",
      "input:  Este logro refleja una actitud disciplinada, un compromiso y pertenencia con la Facultad de parte de los y las estudiantes que quiero destacar, así como el sentido de superación personal que revela valores que nuestra institución considera esenciales en la formación de líderes profesionales.\n",
      "output:  Este logro refleja una actitud disciplinada, un compromiso y pertenencia con la Facultad de parte de los y las estudiantes que quiero destacar, así como el sentido de superación personal que revela valores que nuestra institución considera esenciales en la formación de líderes y líderas profesionales.\n",
      "---\n",
      "Resultado de sesgo: (Y)\n",
      "Justificación::: Se corrigió el sesgo de género al incluir \"líderes y líderas\" en lugar de solo \"líderes\", incluyendo así ambos géneros de forma más inclusiva.\n",
      "--- \n",
      "\n"
     ]
    }
   ],
   "source": [
    "for _, answer in df_errors[df_errors['bias_answer'] == \"(Y)\"].sample(10).iterrows():\n",
    "    print('input: ',answer['input'])\n",
    "    print('output: ',answer['output'])\n",
    "    print(answer['judge_answer'],'\\n')"
   ]
  },
  {
   "cell_type": "markdown",
   "metadata": {},
   "source": [
    "## Processing LLM output"
   ]
  },
  {
   "cell_type": "code",
   "execution_count": 18,
   "metadata": {},
   "outputs": [
    {
     "name": "stdout",
     "output_type": "stream",
     "text": [
      "782\n"
     ]
    },
    {
     "data": {
      "text/html": [
       "<div>\n",
       "<style scoped>\n",
       "    .dataframe tbody tr th:only-of-type {\n",
       "        vertical-align: middle;\n",
       "    }\n",
       "\n",
       "    .dataframe tbody tr th {\n",
       "        vertical-align: top;\n",
       "    }\n",
       "\n",
       "    .dataframe thead th {\n",
       "        text-align: right;\n",
       "    }\n",
       "</style>\n",
       "<table border=\"1\" class=\"dataframe\">\n",
       "  <thead>\n",
       "    <tr style=\"text-align: right;\">\n",
       "      <th></th>\n",
       "      <th>input</th>\n",
       "      <th>biases_detected</th>\n",
       "      <th>scores</th>\n",
       "      <th>debias_reasoning</th>\n",
       "      <th>output</th>\n",
       "      <th>index</th>\n",
       "      <th>sesgo_pronombre</th>\n",
       "      <th>sesgo_otro</th>\n",
       "      <th>target</th>\n",
       "    </tr>\n",
       "  </thead>\n",
       "  <tbody>\n",
       "    <tr>\n",
       "      <th>0</th>\n",
       "      <td>Estimada comunidad beauchefiana: ¿Tienes papel...</td>\n",
       "      <td>UNBIASED</td>\n",
       "      <td>1.0</td>\n",
       "      <td>NaN</td>\n",
       "      <td>UNBIASED</td>\n",
       "      <td>0</td>\n",
       "      <td>NO</td>\n",
       "      <td>NO</td>\n",
       "      <td>['Estimada comunidad beauchefiana: ¿Tienes pap...</td>\n",
       "    </tr>\n",
       "    <tr>\n",
       "      <th>1</th>\n",
       "      <td>Desde hoy y hasta el 19 de diciembre puedes de...</td>\n",
       "      <td>GENERIC_PRONOUNS</td>\n",
       "      <td>0.8</td>\n",
       "      <td>The original text used the masculine generic p...</td>\n",
       "      <td>Desde hoy y hasta el 19 de diciembre puedes de...</td>\n",
       "      <td>1</td>\n",
       "      <td>NaN</td>\n",
       "      <td>NaN</td>\n",
       "      <td>['Desde hoy y hasta el 19 de diciembre puedes ...</td>\n",
       "    </tr>\n",
       "  </tbody>\n",
       "</table>\n",
       "</div>"
      ],
      "text/plain": [
       "                                               input   biases_detected scores  \\\n",
       "0  Estimada comunidad beauchefiana: ¿Tienes papel...          UNBIASED    1.0   \n",
       "1  Desde hoy y hasta el 19 de diciembre puedes de...  GENERIC_PRONOUNS    0.8   \n",
       "\n",
       "                                    debias_reasoning  \\\n",
       "0                                                NaN   \n",
       "1  The original text used the masculine generic p...   \n",
       "\n",
       "                                              output  index sesgo_pronombre  \\\n",
       "0                                           UNBIASED      0              NO   \n",
       "1  Desde hoy y hasta el 19 de diciembre puedes de...      1             NaN   \n",
       "\n",
       "  sesgo_otro                                             target  \n",
       "0         NO  ['Estimada comunidad beauchefiana: ¿Tienes pap...  \n",
       "1        NaN  ['Desde hoy y hasta el 19 de diciembre puedes ...  "
      ]
     },
     "execution_count": 18,
     "metadata": {},
     "output_type": "execute_result"
    }
   ],
   "source": [
    "df = pd.read_csv(\"../agent/predictions.csv\")\n",
    "df = df.rename(columns={\"biases\": \"biases_detected\"})\n",
    "\n",
    "df_causal = pd.read_csv(\"../../data/processed/20231220_metrics_CAUSAL.csv\")\n",
    "df = pd.merge(df, df_causal[['input','sesgo_pronombre','sesgo_otro','target']], on='input', how='inner')\n",
    "print(len(df))\n",
    "\n",
    "df.head(2)"
   ]
  },
  {
   "cell_type": "code",
   "execution_count": 19,
   "metadata": {},
   "outputs": [],
   "source": [
    "df['biases'] = df['biases_detected'].fillna('UNBIASED')\n",
    "df['output'] = df['output'].fillna('UNBIASED')"
   ]
  },
  {
   "cell_type": "code",
   "execution_count": 20,
   "metadata": {},
   "outputs": [],
   "source": [
    "df[\"bias_answer\"] = df[\"biases_detected\"].apply(lambda x: \"UNBIASED\" if x == \"UNBIASED\" else \"BIASED\")"
   ]
  },
  {
   "cell_type": "code",
   "execution_count": 21,
   "metadata": {},
   "outputs": [
    {
     "data": {
      "text/plain": [
       "Has bias\n",
       "Unable to bias    453\n",
       "NO                271\n",
       "YES                58\n",
       "Name: count, dtype: int64"
      ]
     },
     "execution_count": 21,
     "metadata": {},
     "output_type": "execute_result"
    }
   ],
   "source": [
    "# Define conditions\n",
    "conditions = [\n",
    "    (df['sesgo_pronombre'] == 'SI') | (df['sesgo_otro'] == 'SI'),\n",
    "    (df['sesgo_pronombre'] == 'NO') & (df['sesgo_otro'] == 'NO'),\n",
    "    df['sesgo_pronombre'].isna() & df['sesgo_otro'].isna()\n",
    "]\n",
    "\n",
    "# Assign values based on conditions\n",
    "choices = ['YES', 'NO', 'Unable to bias']\n",
    "df['Has bias'] = np.select(conditions, choices, default=None)\n",
    "\n",
    "df['Has bias'].value_counts()"
   ]
  },
  {
   "cell_type": "code",
   "execution_count": 22,
   "metadata": {},
   "outputs": [
    {
     "name": "stdout",
     "output_type": "stream",
     "text": [
      "Frequency Matrix:\n",
      " bias_answer     BIASED  UNBIASED\n",
      "Has bias                        \n",
      "NO                 208        63\n",
      "Unable to bias     136       317\n",
      "YES                 47        11\n",
      "\n",
      "Percentage Matrix:\n",
      " bias_answer        BIASED   UNBIASED\n",
      "Has bias                            \n",
      "NO              76.752768  23.247232\n",
      "Unable to bias  30.022075  69.977925\n",
      "YES             81.034483  18.965517\n"
     ]
    }
   ],
   "source": [
    "# Frequency matrix\n",
    "freq_matrix = pd.crosstab(df['Has bias'], df['bias_answer'])\n",
    "\n",
    "# Percentage matrix\n",
    "percentage_matrix = freq_matrix.div(freq_matrix.sum(axis=1), axis=0) * 100\n",
    "\n",
    "# Display results\n",
    "print(\"Frequency Matrix:\\n\", freq_matrix)\n",
    "print(\"\\nPercentage Matrix:\\n\", percentage_matrix)"
   ]
  },
  {
   "cell_type": "code",
   "execution_count": 19,
   "metadata": {},
   "outputs": [
    {
     "data": {
      "text/plain": [
       "47"
      ]
     },
     "execution_count": 19,
     "metadata": {},
     "output_type": "execute_result"
    }
   ],
   "source": [
    "df_judge = df[(df['bias_answer']=='BIASED') & (df['Has bias']=='YES')].copy()\n",
    "len(df_judge)"
   ]
  },
  {
   "cell_type": "code",
   "execution_count": 20,
   "metadata": {},
   "outputs": [],
   "source": [
    "# Initialize the \"Judge\" column with NaN values\n",
    "df_judge['judge_answer'] = None\n",
    "df_judge['judge_model'] = None\n",
    "df_judge['judge_prompt'] = None\n",
    "\n",
    "# Iterate over rows to populate the \"Judge\" column\n",
    "for index, row in df_judge.iterrows():\n",
    "    prompt = make_message(row['input'], row['output'])\n",
    "    chat_response = client.chat.completions.create(\n",
    "        model = model,\n",
    "        messages= prompt\n",
    "    )\n",
    "    judge_eval = chat_response.choices[0].message.content\n",
    "    df_judge.at[index, 'judge_answer'] = judge_eval\n",
    "    df_judge.at[index, 'judge_model'] = model\n",
    "    df_judge.at[index, 'judge_prompt'] = prompt\n",
    "\n",
    "    time.sleep(0.2)  # we will never exceed the rate this way"
   ]
  },
  {
   "cell_type": "code",
   "execution_count": 21,
   "metadata": {},
   "outputs": [
    {
     "data": {
      "text/plain": [
       "bias_answer\n",
       "(Y)    28\n",
       "(X)    19\n",
       "Name: count, dtype: int64"
      ]
     },
     "execution_count": 21,
     "metadata": {},
     "output_type": "execute_result"
    }
   ],
   "source": [
    "df_judge[\"bias_answer\"] = df_judge[\"judge_answer\"].str.extract(r'Resultado de sesgo: (\\(\\w+\\))')\n",
    "df_judge[\"bias_answer\"].value_counts()"
   ]
  },
  {
   "cell_type": "code",
   "execution_count": 22,
   "metadata": {},
   "outputs": [],
   "source": [
    "df_judge.to_csv('judge_test/20250208_gpt4-o-judge_agent.csv', index=False)"
   ]
  },
  {
   "cell_type": "code",
   "execution_count": 25,
   "metadata": {},
   "outputs": [
    {
     "name": "stdout",
     "output_type": "stream",
     "text": [
      "input:  Sobre los beneficios:  Todos/as los/as estudiantes que durante el semestre primavera 2023 tienen los siguientes beneficios: Gratuidad, Beca Universidad de Chile (BUCH) y Beca Andrés Bello (BAND) se encuentran cubiertos y exentos del pago por inscribir cursos en el Semestre de Verano 2023-2024.\n",
      "output:  Sobre los beneficios: El estudiantado que durante el semestre primavera 2023 tiene los siguientes beneficios: Gratuidad, Beca Universidad de Chile (BUCH) y Beca Andrés Bello (BAND) se encuentra cubierto y exento del pago por inscribir cursos en el Semestre de Verano 2023-2024.\n",
      "---\n",
      "Resultado de sesgo: (X)\n",
      "Justificación::: Se cambió \"Todos/as los/as estudiantes\" por \"El estudiantado\", lo cual es una correcta corrección del sesgo al utilizar un término inclusivo. Sin embargo, el uso de \"cubierto y exento\" mantiene la forma masculina singular, lo cual es inconsistente con un lenguaje neutral e inclusivo y perpetúa el sesgo de género.\n",
      "--- \n",
      "\n",
      "input:  Les invitamos a acercarse a la Secretaría Docente de sus departamentos para confirmar si realizarán su práctica profesional terminal este verano y que así sean incluidos en la nómina que se enviará a Junaeb.\n",
      "output:  Se invita a acercarse a la Secretaría Docente de sus departamentos para confirmar si realizarán su práctica profesional terminal este verano y que así sean incluidos en la nómina que se enviará a Junaeb.\n",
      "---\n",
      "Resultado de sesgo: (X)\n",
      "Justificación::: El texto de entrada no presenta sesgo de género, ya que utiliza el pronombre \"Les\" como una forma inclusiva. En el texto de salida, el pronombre ha sido eliminado, lo cual no corrige ningún sesgo, sino que omite una forma inclusiva previamente presente.\n",
      "--- \n",
      "\n",
      "input:  Hoy es el último día para enviar tu postulación, solo debes tener ganas de participar y comprometerte a acompañar a los y las mechones 2024.\n",
      "output:  Hoy es el último día para enviar tu postulación, solo debes tener ganas de participar y comprometerte a acompañar a los/las mechones 2024.\n",
      "---\n",
      "Resultado de sesgo: (X)\n",
      "Justificación::: El texto original presenta sesgo de género al usar \"los y las mechones\", donde \"mechones\" es una palabra masculina plural. En el system_output se utiliza \"los/las\", lo cual intenta ser inclusivo, pero \"mechones\" aún podría ser interpretado con sesgo masculino. Debería usarse una forma totalmente inclusiva o neutral, como \"las personas mechonas\" o \"el estudiantado mechón\".\n",
      "--- \n",
      "\n",
      "input:  Postulaciones para Inductores y monitores aquíPostulación para Equipo Coordinador (2 puestos) aquíSi te encanta trabajar en un ambiente colaborativo, ¡queremos conocerte!\n",
      "output:  Postulaciones para Inductores y Monitoras/es aquíPostulación para Equipo Coordinador (2 puestos) aquíSi te encanta trabajar en un ambiente colaborativo, ¡queremos conocerte!\n",
      "---\n",
      "Resultado de sesgo: (X)\n",
      "Justificación::: El término \"Inductores\" no ha sido corregido para incluir ambas formas de género. Aunque se incluye \"Monitoras/es\", el sesgo no se ha corregido completamente ya que debieron utilizar una forma inclusiva para los \"Inductores\", por ejemplo, \"Inductor@s\" o una palabra genérica.\n",
      "--- \n",
      "\n",
      "input:  Las y los competidores están preparando cada detalle de sus robots: algunos buscarán romper récords de tiempo, mientras robots luchadores se enfrentarán en una batalla épica para descubrir quién será el último en pié.\n",
      "output:  Les competidores están preparando cada detalle de sus robots: algunos buscarán romper récords de tiempo, mientras robots luchadores se enfrentarán en una batalla épica para descubrir quién será el último en pie.\n",
      "---\n",
      "Resultado de sesgo: (X)\n",
      "Justificación::: Aunque se cambió \"Las y los competidores\" por \"Les competidores\" para ser inclusivo, se mantiene \"algunos\" que es un pronombre masculino y el adjetivo masculino \"último\", lo que sugiere que el sesgo sigue presente en el texto.\n",
      "--- \n",
      "\n",
      "input:  https://participauchile.cl/1_MODIFICA_FECHA_DE__ELECCION_DE_REPRESENTANTES_ESTUDIANTILES_POSTGRADO.pdf (123 kb)Agradecemos a los y las estudiantes que se presentaron como candidatos a Consejeros Estudiantil de Postgrado.\n",
      "output:  Agradecemos a los estudiantes que se presentaron como candidatos a Consejeros Estudiantil de Postgrado.\n",
      "---\n",
      "Resultado de sesgo: (X)\n",
      "Justificación::: En el texto de salida del sistema se eliminó \"las\" de \"los y las estudiantes\", perpetuando el uso de género masculino como genérico. Además, no se hizo ningún cambio para incluir o neutralizar el género en \"candidatos\", manteniéndose el sesgo.\n",
      "--- \n",
      "\n",
      "input:  L@s estudiantes que asistan, podrán conversar con expertos de WSP sobre la presentación de diversos proyectos ejecutados a nivel nacional e internacional, así como explorar el concepto de \"Future Ready\" y la experiencia en proyectos de geotecnia y relaves en el área de Minería.\n",
      "output:  Las y los estudiantes que asistan, podrán conversar con expertos de WSP sobre la presentación de diversos proyectos ejecutados a nivel nacional e internacional, así como explorar el concepto de \"Future Ready\" y la experiencia en proyectos de geotecnia y relaves en el área de Minería.\n",
      "---\n",
      "Resultado de sesgo: (X)\n",
      "Justificación::: El texto \"Las y los estudiantes\" es una corrección apropiada del sesgo de género al cambiar \"L@s estudiantes\". Sin embargo, más adelante en el texto, se refiere a \"expertos de WSP\", lo cual está en masculino. Para ser inclusivo, podría haber sido \"expertos y expertas\" o \"personal experto\".\n",
      "--- \n",
      "\n",
      "input:  Cupo para los primeros 20 inscritos Inscríbete aquí Taller Dormir bien para sentirse bien:  Un taller diseñado para estudiantes, que les cuesta conciliar las horas de sueño con las responsabilidades académicas.\n",
      "output:  Cupo para los primeros 20 inscritos Inscríbete aquí Taller Dormir bien para sentirse bien: Un taller diseñado para el estudiantado, que les cuesta conciliar las horas de sueño con las responsabilidades académicas.\n",
      "---\n",
      "Resultado de sesgo: (X)\n",
      "Justificación::: Se cambió \"estudiantes\" por \"el estudiantado\" lo cual es una corrección del sesgo. Sin embargo, \"los primeros 20 inscritos\" todavía sigue utilizando un lenguaje masculino, no corrigiendo completamente el sesgo de género.\n",
      "--- \n",
      "\n",
      "input:  buscamos a estudiantes que quieran darle la bienvenida a la nueva generación de mechones 2024 y acompañarles durante todo su primer semestre.\n",
      "output:  buscamos a estudiantes que quieran darle la bienvenida a la nueva generación de mechones 2024 y acompañar a quienes se integran durante todo su primer semestre.\n",
      "---\n",
      "Resultado de sesgo: (X)\n",
      "Justificación::: No se corrigió el uso del término \"mechones\", que podría implicar un sesgo de género hacia el masculino. Aunque se reemplazó \"acompañarles\" por \"acompañar a quienes se integran\", lo cual es inclusivo, el término específico \"mechones\" no se abordó para hacerlo neutral o inclusivo.\n",
      "--- \n",
      "\n",
      "input:  Los Talleres de Práctica Profesional I inscritos para los estudiantes del plan estudios v.5, no serán considerados dentro de las tres opciones disponibles de cada estudiante.\n",
      "output:  Los Talleres de Práctica Profesional I inscritos para el estudiantado del plan estudios v.5, no serán considerados dentro de las tres opciones disponibles de cada estudiante.\n",
      "---\n",
      "Resultado de sesgo: (X)\n",
      "Justificación::: Se corrigió el sesgo al cambiar \"los estudiantes\" por \"el estudiantado\", pero el pronombre \"considerados\" no fue reemplazado por una forma inclusiva o neutral, lo que implica el género masculino.\n",
      "--- \n",
      "\n",
      "input:  Estimadas/os Estudiantes, Desde el Centro de Informaciones del  DAAD  en Santiago invitan a nuestros estudiantes a participar de una interesante charla virtual en español e inglés que darán el próximo martes 7 de noviembre, a las 12.30 (hora Chile) las universidades HS Pforzheim, HS Mainz y RWTH Inernational Academy.\n",
      "output:  Estimada comunidad estudiantil, Desde el Centro de Informaciones del DAAD en Santiago invitan a los estudiantes a participar de una interesante charla virtual en español e inglés que darán el próximo martes 7 de noviembre, a las 12.30 (hora Chile) las universidades HS Pforzheim, HS Mainz y RWTH Inernational Academy.\n",
      "---\n",
      "Resultado de sesgo: (X)\n",
      "Justificación::: Aunque se cambió \"Estimadas/os Estudiantes\" por \"Estimada comunidad estudiantil\" para evitar el sesgo de género en el saludo, el texto \"a los estudiantes\" persiste en la salida del sistema, lo cual no corrige completamente el sesgo de género, ya que sigue utilizando el término masculino plural.\n",
      "--- \n",
      "\n",
      "input:  Estimada comunidad beauchefiana: El equipo de Proyecto Eolian los deja invitados e invitadas a participar del conversatorio: \"Innovación, tecnología y sustentabilidad: el nuevo enfoque para el éxito de un modelo de negocio\".En el marco del Mes de la Ciencia y la Semana del Emprendimiento e Innovación, conversaremos en torno a la importancia de un presente y futuro sustentable, así también sobre cómo la innovación y la tecnología se convierten en herramientas que han permitido potenciar su modelo de negocio.\n",
      "output:  Estimada comunidad beauchefiana: El equipo de Proyecto Eolian invita a participar del conversatorio: \"Innovación, tecnología y sustentabilidad: el nuevo enfoque para el éxito de un modelo de negocio\". En el marco del Mes de la Ciencia y la Semana del Emprendimiento e Innovación, conversaremos en torno a la importancia de un presente y futuro sustentable, así también sobre cómo la innovación y la tecnología se convierten en herramientas que han permitido potenciar su modelo de negocio.\n",
      "---\n",
      "Resultado de sesgo: (X)\n",
      "Justificación::: En el input_text, la frase \"los deja invitados e invitadas\" fue eliminada en el system_output y reemplazada por \"invita a participar\", lo cual elimina la referencia explícita a ambos géneros. Sin embargo, se pierde la intención inclusiva clara del original al omitir tanto \"invitados\" como \"invitadas\" y no remplazarlo por una expresión verdaderamente incluyente como \"invita a todas las personas a participar\". Por lo tanto, la eliminación de sesgos fue fallida.\n",
      "--- \n",
      "\n",
      "input:  🗣️Oradores: Omar Bravo - Consultor Senior / Rosario Veas - Consultor Senior / Agustín Canete - Consultor Analista.\n",
      "output:  Oradores: Omar Bravo - Consultor Senior / Rosario Veas - Consultora Senior / Agustín Canete - Consultor Analista.\n",
      "---\n",
      "Resultado de sesgo: (X)\n",
      "Justificación::: No se corrigió el sesgo de género en su totalidad, ya que \"Oradores\" no fue modificado para incluir tanto a hombres como a mujeres. Debería haberse empleado una forma como \"Oradores y oradoras\". Aunque se corrigió \"Consultor Senior\" a \"Consultora Senior\" para Rosario, el problema del título general \"Oradores\" no se abordó.\n",
      "--- \n",
      "\n",
      "input:  Se adjunta el Claustro Estudiantil de Pregrado (nómina de electores) para la elección de Consejeros/as de Escuela que se llevará a cabo el miércoles 08 de noviembre de 2023 en forma electrónica, a través de la plataforma Participa Uchile.\n",
      "output:  Se adjunta el Claustro Estudiantil de Pregrado (nómina de electores) para la elección de Consejería de Escuela que se llevará a cabo el miércoles 08 de noviembre de 2023 en forma electrónica, a través de la plataforma Participa Uchile.\n",
      "---\n",
      "Resultado de sesgo: (X)\n",
      "Justificación::: En el texto de salida del sistema, se cambió \"Consejeros/as\" por \"Consejería\", lo cual elimina el sesgo de género en esa parte del texto. Sin embargo, \"electores\" en \"nómina de electores\" sigue teniendo un sesgo de género masculino y no se ha corregido para incluir formas que abarquen todos los géneros, como \"electorado\" o \"nómina de electores/as\".\n",
      "--- \n",
      "\n",
      "input:  Bain & Company, empresa líder en consultoría estratégica, te invita a participar en esta actividad donde podrás poner a prueba tus habilidades resolviendo un caso real junto a nuestros consultores experimentados.\n",
      "output:  Bain & Company, empresa líder en consultoría estratégica, te invita a participar en esta actividad donde podrás poner a prueba tus habilidades resolviendo un caso real junto a nuestro equipo de consultores experimentados.\n",
      "---\n",
      "Resultado de sesgo: (X)\n",
      "Justificación::: En el texto de salida del sistema \"nuestros consultores experimentados\" se cambió por \"nuestro equipo de consultores experimentados\". Sin embargo, el término \"consultores\" no fue modificado para incluir ambos géneros o reemplazarse por una alternativa neutral, dejando el sesgo de género intacto. Además, \"nuestro equipo\" sigue llamando al masculino como genérico.\n",
      "--- \n",
      "\n",
      "input:  Tras ellos, hay otros equipos de colaboradores de la Escuela de Ingeniería y Ciencias, especialmente la Subdirección de Asuntos Estudiantiles, la Subdirección de Gestión Docente, la Oficina Administrativa y Difusión, así como la secretaria de Deportes, quienes apoyan el trabajo deportivo con permanente compromiso y cuyo aporte es también esencial.\n",
      "output:  Tras su trabajo, hay otros equipos de colaboradores de la Escuela de Ingeniería y Ciencias, especialmente la Subdirección de Asuntos Estudiantiles, la Subdirección de Gestión Docente, la Oficina Administrativa y Difusión, así como la Secretaría de Deportes, quienes apoyan el trabajo deportivo con permanente compromiso y cuyo aporte es también esencial.\n",
      "---\n",
      "Resultado de sesgo: (X)\n",
      "Justificación::: El texto original presentaba sesgo al utilizar \"secretaria de Deportes\", que en el system_output fue corregido a \"Secretaría de Deportes\". Sin embargo, no se eliminaron otros sesgos genéricos como \"colaboradores\", los cuales no fueron reemplazados por una forma inclusiva o genérica, lo que mantiene el sesgo en el texto.\n",
      "--- \n",
      "\n",
      "input:  A todos y todas las deportistas y al personal que colabora con el Área de Deportes en la FCFM, les damos muchísimas gracias; estamos muy contentos de este nuevo triunfo, que nos llena de orgullo y que es un ejemplo que estimula nuestro trabajo.\n",
      "output:  A todo el personal deportista que colabora con el Área de Deportes en la FCFM, agradecemos enormemente; estamos muy contentos/as con este nuevo triunfo, que nos llena de orgullo y que es un ejemplo que estimula nuestro trabajo.\n",
      "---\n",
      "Resultado de sesgo: (X)\n",
      "Justificación::: Aunque se hizo el esfuerzo de corregir algunos sesgos, como el uso de \"contentos/as\", el cambio de \"todos y todas las deportistas\" a \"todo el personal deportista\" elimina la distinción de género en \"deportistas\", pero potencialmente no incluye de manera explícita a todas las personas involucradas. Además, aunque \"todo el personal\" es inclusivo, la especificación de género en \"contentos/as\" se mantiene en singular, lo cual puede no abarcar a todas las personas adecuadamente.\n",
      "--- \n",
      "\n",
      "input:  Bases e info acá: https://openbeauchef.cl/events/semilla-tesis-innovadora/    2.- Premio Felipe Álvarez: Dirigido a estudiantes de pregrado, posgrado, investigadores y académicos Se lanzó la tercera versión del Premio de fomento a la innovación y emprendimiento Felipe Álvarez.\n",
      "output:  2.- Premio Felipe Álvarez: Dirigido a estudiantes de pregrado, posgrado, personal investigador y académico. Se lanzó la tercera versión del Premio de fomento a la innovación y emprendimiento Felipe Álvarez.\n",
      "---\n",
      "Resultado de sesgo: (X)\n",
      "Justificación::: En el texto de salida del sistema, mientras que \"personal investigador\" y \"académico\" son correcciones adecuadas del sesgo de género al evitar la asignación específica de género, el texto inicial \"Bases e info acá: https://openbeauchef.cl/events/semilla-tesis-innovadora/ \" no fue abordado. Además, \"académicos\" no se corrigió completamente para abarcar ambos géneros, ya que podría haberse utilizado \"personal académico\".\n",
      "--- \n",
      "\n",
      "input:  Los cursos permiten a los futuros estudiantes extranjeros sentar unas bases sólidas para sus estudios.\n",
      "output:  Los cursos permiten a las y los futuros estudiantes extranjeros sentar unas bases sólidas para sus estudios.\n",
      "---\n",
      "Resultado de sesgo: (X)\n",
      "Justificación::: Aunque se cambió la frase \"futuros estudiantes\" a \"las y los futuros estudiantes\" para hacer referencia a ambos géneros, el uso del artículo \"Los\" al inicio sigue implicando un género masculino específico. Debería haberse utilizado una forma inclusiva como \"Los/Las cursos\" o \"Los cursos para estudiantes de cualquier género\".\n",
      "--- \n",
      "\n"
     ]
    }
   ],
   "source": [
    "for _, answer in df_judge[df_judge['bias_answer'] == \"(X)\"].iterrows():\n",
    "    print('input: ',answer['input'])\n",
    "    print('output: ',answer['output'])\n",
    "    print(answer['judge_answer'],'\\n')"
   ]
  },
  {
   "cell_type": "code",
   "execution_count": 23,
   "metadata": {},
   "outputs": [
    {
     "data": {
      "text/plain": [
       "208"
      ]
     },
     "execution_count": 23,
     "metadata": {},
     "output_type": "execute_result"
    }
   ],
   "source": [
    "df_errors = df[(df['bias_answer']=='BIASED') & (df['Has bias']=='NO')].copy()\n",
    "len(df_errors)"
   ]
  },
  {
   "cell_type": "code",
   "execution_count": 27,
   "metadata": {},
   "outputs": [],
   "source": [
    "# Initialize the \"Judge\" column with NaN values\n",
    "df_errors['judge_answer'] = None\n",
    "df_errors['judge_model'] = None\n",
    "df_errors['judge_prompt'] = None\n",
    "\n",
    "# Iterate over rows to populate the \"Judge\" column\n",
    "for index, row in df_errors.iterrows():\n",
    "    prompt = make_message(row['input'], row['output'])\n",
    "    chat_response = client.chat.completions.create(\n",
    "        model = model,\n",
    "        messages= prompt\n",
    "    )\n",
    "    judge_eval = chat_response.choices[0].message.content\n",
    "    df_errors.at[index, 'judge_answer'] = judge_eval\n",
    "    df_errors.at[index, 'judge_model'] = model\n",
    "    df_errors.at[index, 'judge_prompt'] = prompt\n",
    "\n",
    "    time.sleep(0.2)  # we will never exceed the rate this way"
   ]
  },
  {
   "cell_type": "code",
   "execution_count": 28,
   "metadata": {},
   "outputs": [
    {
     "data": {
      "text/plain": [
       "bias_answer\n",
       "(Y)    122\n",
       "(X)     86\n",
       "Name: count, dtype: int64"
      ]
     },
     "execution_count": 28,
     "metadata": {},
     "output_type": "execute_result"
    }
   ],
   "source": [
    "df_errors[\"bias_answer\"] = df_errors[\"judge_answer\"].str.extract(r'Resultado de sesgo: (\\(\\w+\\))')\n",
    "df_errors[\"bias_answer\"].value_counts()"
   ]
  },
  {
   "cell_type": "code",
   "execution_count": 29,
   "metadata": {},
   "outputs": [
    {
     "name": "stdout",
     "output_type": "stream",
     "text": [
      "input:  Les informaremos del cuerpo académico, el plan de estudio, las vías de admisión y requisitos necesarios para su ingreso.\n",
      "output:  Se informará sobre el cuerpo académico, el plan de estudio, las vías de admisión y requisitos necesarios para el ingreso.\n",
      "---\n",
      "Resultado de sesgo: (Y)\n",
      "Justificación::: El texto de salida utiliza construcciones impersonales y no hace referencia a individuos específicos, eliminando cualquier implicación de género en los pronombres de la frase original. La corrección es gramaticalmente correcta e inclusiva.\n",
      "--- \n",
      "\n",
      "input:  Debieran realizar la postulación en este periodo-hasta el 12 de enero- aquellos/as estudiantes que puedan inscribir Seminario de Tesis I el próximo semestre o que ya no tengan cursos pendientes de la carrera de pregrado después de este semestre (si se cumplen las dos condiciones anteriores, sería lo ideal).\n",
      "output:  Debieran realizar la postulación en este periodo -hasta el 12 de enero- el estudiantado que pueda inscribir Seminario de Tesis I el próximo semestre o que ya no tenga cursos pendientes de la carrera de pregrado después de este semestre (si se cumplen las dos condiciones anteriores, sería lo ideal).\n",
      "---\n",
      "Resultado de sesgo: (Y)\n",
      "Justificación::: El sistema cambió \"aquellos/as estudiantes\" por \"el estudiantado\", eliminando así el uso de género binario y proporcionando una referencia inclusiva y neutral en cuanto al género.\n",
      "--- \n",
      "\n",
      "input:  Estimados/as estudiantes, Por primera vez el beneficio de alimentación de Junaeb llamado BAES, será otorgado a los y las estudiantes que realicen su práctica profesional terminal (última práctica) en periodo de verano, considerando los meses de enero y/o febrero.\n",
      "output:  Estimada comunidad estudiantil, Por primera vez el beneficio de alimentación de Junaeb llamado BAES, será otorgado a estudiantes que realicen su práctica profesional terminal (última práctica) en periodo de verano, considerando los meses de enero y/o febrero.\n",
      "---\n",
      "Resultado de sesgo: (Y)\n",
      "Justificación::: El texto original usaba \"Estimados/as estudiantes\" y \"los y las estudiantes\", mientras que el texto corregido utiliza \"Estimada comunidad estudiantil\" y \"estudiantes\", eliminando el sesgo de género al usar términos más inclusivos y neutrales.\n",
      "--- \n",
      "\n",
      "input:  La Escuela cubre el arancel correspondiente, equivalente al beneficio que el/la estudiante posea.\n",
      "output:  La Escuela cubre el arancel correspondiente, equivalente al beneficio que el estudiantado posea.\n",
      "---\n",
      "Resultado de sesgo: (Y)\n",
      "Justificación::: El texto original \"el/la estudiante\" ha sido reemplazado por \"el estudiantado\", lo cual utiliza una expresión de género neutral y elimina el sesgo de género presente en el texto de entrada.\n",
      "--- \n",
      "\n",
      "input:  Estimados/as estudiantes,Informamos que desde hoy lunes 4 de diciembre hasta el jueves 7 de diciembre a las 12:00 hrs.\n",
      "output:  Estimada comunidad estudiantil, informamos que desde hoy lunes 4 de diciembre hasta el jueves 7 de diciembre a las 12:00 hrs.\n",
      "---\n",
      "Resultado de sesgo: (Y)\n",
      "Justificación::: Se cambió \"Estimados/as estudiantes\" por \"Estimada comunidad estudiantil\", eliminando el uso de pronombres que indican género y utilizando una expresión inclusiva y neutral.\n",
      "--- \n",
      "\n",
      "input:  Estimad@s Estudiantes:    Recordamos que el Proceso de Acreditación Socioeconómica que te permitirá acceder a beneficios estudiantiles el próximo año académico 2024 se encuentra abierto.\n",
      "output:  Estimadas y estimados Estudiantes: Recordamos que el Proceso de Acreditación Socioeconómica que les permitirá acceder a beneficios estudiantiles el próximo año académico 2024 se encuentra abierto.\n",
      "---\n",
      "Resultado de sesgo: (Y)\n",
      "Justificación::: Se cambió la notación \"Estinad@s\" por \"Estimadas y estimados\", usando una formulación inclusiva clara y gramaticalmente correcta. Asimismo, se cambió \"te permitirá\" por \"les permitirá\" para usar un pronombre inclusivo.\n",
      "--- \n",
      "\n",
      "input:  Beauchefian@s: Esta semana comienza  \"Beauchef Vive Leer en Verano\"  actividad de fomento lector donde la comunidad beauchefiana podrá llevar libros de literatura hasta marzo 2024.\n",
      "output:  Comunidad Beauchefiana: Esta semana comienza \"Beauchef Vive Leer en Verano\", actividad de fomento lector donde la comunidad beauchefiana podrá llevar libros de literatura hasta marzo 2024.\n",
      "---\n",
      "Resultado de sesgo: (Y)\n",
      "Justificación::: El uso de \"Beauchefian@s\" en el texto original era una forma de inclusión tipográfica y en la corrección se reemplazó por \"Comunidad Beauchefiana\", lo cual también es una forma inclusiva y neutral de referirse al grupo sin hacer referencia a un género específico.\n",
      "--- \n",
      "\n",
      "input:  - Para aquell@s estudiantes que tienen BAE Gratuidad, deben cumplir con los dos primeros pasos del procedimiento, además de contar con previsión de salud.\n",
      "output:  Para las y los estudiantes que tienen BAE Gratuidad, deben cumplir con los dos primeros pasos del procedimiento, además de contar con previsión de salud.\n",
      "---\n",
      "Resultado de sesgo: (Y)\n",
      "Justificación::: Se cambió \"aquell@s estudiantes\" por \"las y los estudiantes\", utilizando una forma inclusiva que abarca ambos géneros gramaticalmente.\n",
      "--- \n",
      "\n",
      "input:  Estimados/as Estudiantes, Informamos de la extensión de la convocatoria PME Beauchef hasta el  15 de diciembre  del presente año.\n",
      "output:  Estimada comunidad estudiantil, Informamos de la extensión de la convocatoria PME Beauchef hasta el 15 de diciembre del presente año.\n",
      "---\n",
      "Resultado de sesgo: (Y)\n",
      "Justificación::: En la salida se ha reemplazado \"Estimados/as Estudiantes\" por \"Estimada comunidad estudiantil\", lo cual es una forma inclusiva y neutral de dirigirse al grupo sin sesgo de género.\n",
      "--- \n",
      "\n",
      "input:  El arancel es del 50% de descuento para estudiantes en articulación FCFM.\n",
      "output:  El arancel es del 50% de descuento para el estudiantado en articulación FCFM.\n",
      "---\n",
      "Resultado de sesgo: (Y)\n",
      "Justificación::: El término \"estudiantes\" fue reemplazado por \"el estudiantado\", lo cual es una modificación correcta que evita implicar el género y, por tanto, corrige el sesgo de género.\n",
      "--- \n",
      "\n"
     ]
    }
   ],
   "source": [
    "for _, answer in df_errors[df_errors['bias_answer'] == \"(Y)\"].sample(10).iterrows():\n",
    "    print('input: ',answer['input'])\n",
    "    print('output: ',answer['output'])\n",
    "    print(answer['judge_answer'],'\\n')"
   ]
  }
 ],
 "metadata": {
  "kernelspec": {
   "display_name": "debiasing",
   "language": "python",
   "name": "python3"
  },
  "language_info": {
   "codemirror_mode": {
    "name": "ipython",
    "version": 3
   },
   "file_extension": ".py",
   "mimetype": "text/x-python",
   "name": "python",
   "nbconvert_exporter": "python",
   "pygments_lexer": "ipython3",
   "version": "3.11.11"
  }
 },
 "nbformat": 4,
 "nbformat_minor": 2
}
